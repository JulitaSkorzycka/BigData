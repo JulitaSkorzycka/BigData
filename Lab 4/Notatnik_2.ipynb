{
 "cells": [
  {
   "cell_type": "markdown",
   "metadata": {
    "application/vnd.databricks.v1+cell": {
     "cellMetadata": {},
     "inputWidgets": {},
     "nuid": "e265a7d5-8079-482d-b7a7-e1d6f75aa6af",
     "showTitle": false,
     "tableResultSettingsMap": {},
     "title": ""
    }
   },
   "source": [
    "# zadanie 3"
   ]
  },
  {
   "cell_type": "markdown",
   "metadata": {
    "application/vnd.databricks.v1+cell": {
     "cellMetadata": {},
     "inputWidgets": {},
     "nuid": "91945ad4-87ba-4300-beb8-e81261196549",
     "showTitle": false,
     "tableResultSettingsMap": {},
     "title": ""
    }
   },
   "source": [
    "Wykorzystaj przykłady z notatnika w SQL Windowed Aggregate Functions (cmd 11) \n",
    "i przepisz funkcje używając Spark API.  \n",
    "\n",
    "  "
   ]
  },
  {
   "cell_type": "code",
   "execution_count": 0,
   "metadata": {
    "application/vnd.databricks.v1+cell": {
     "cellMetadata": {
      "byteLimit": 2048000,
      "rowLimit": 10000
     },
     "inputWidgets": {},
     "nuid": "d8f14458-1b52-48e0-977c-6b29b8859dd2",
     "showTitle": false,
     "tableResultSettingsMap": {},
     "title": ""
    }
   },
   "outputs": [],
   "source": [
    "from pyspark.sql import SparkSession\n",
    "from pyspark.sql.types import StructType, StructField, IntegerType, DateType, DecimalType, StringType, ShortType\n",
    "\n",
    "\n",
    "transactions_sample = StructType([\n",
    "    StructField(\"AccountId\", IntegerType(), True),\n",
    "    StructField(\"TranDate\", StringType(), True),\n",
    "    StructField(\"TranAmt\", IntegerType(), True)\n",
    "])\n",
    "\n",
    "logical_sample = StructType([\n",
    "    StructField(\"RowID\", IntegerType(), True),\n",
    "    StructField(\"FName\", StringType(), True),\n",
    "    StructField(\"Salary\", ShortType(), True)\n",
    "])\n",
    "\n"
   ]
  },
  {
   "cell_type": "code",
   "execution_count": 0,
   "metadata": {
    "application/vnd.databricks.v1+cell": {
     "cellMetadata": {
      "byteLimit": 2048000,
      "rowLimit": 10000
     },
     "inputWidgets": {},
     "nuid": "31898d8b-7d20-4cd2-a679-57b8fcec46a5",
     "showTitle": false,
     "tableResultSettingsMap": {},
     "title": ""
    }
   },
   "outputs": [],
   "source": [
    "transactions_data = [\n",
    "( 1, '2011-01-01', 500),\n",
    "( 1, '2011-01-15', 50),\n",
    "( 1, '2011-01-22', 250),\n",
    "( 1, '2011-01-24', 75),\n",
    "( 1, '2011-01-26', 125),\n",
    "( 1, '2011-01-28', 175),\n",
    "( 2, '2011-01-01', 500),\n",
    "( 2, '2011-01-15', 50),\n",
    "( 2, '2011-01-22', 25),\n",
    "( 2, '2011-01-23', 125),\n",
    "( 2, '2011-01-26', 200),\n",
    "( 2, '2011-01-29', 250),\n",
    "( 3, '2011-01-01', 500),\n",
    "( 3, '2011-01-15', 50 ),\n",
    "( 3, '2011-01-22', 5000),\n",
    "( 3, '2011-01-25', 550),\n",
    "( 3, '2011-01-27', 95 ),\n",
    "( 3, '2011-01-30', 2500)\n",
    "]\n",
    "\n",
    "transactions_df = spark.createDataFrame(transactions_data, transactions_sample)\n",
    "\n",
    "transactions_df.createOrReplaceTempView(\"Transactions\")\n"
   ]
  },
  {
   "cell_type": "code",
   "execution_count": 0,
   "metadata": {
    "application/vnd.databricks.v1+cell": {
     "cellMetadata": {
      "byteLimit": 2048000,
      "rowLimit": 10000
     },
     "inputWidgets": {},
     "nuid": "de4ce9ee-b017-403c-be7e-08d5f4228924",
     "showTitle": false,
     "tableResultSettingsMap": {},
     "title": ""
    }
   },
   "outputs": [
    {
     "output_type": "display_data",
     "data": {
      "text/html": [
       "<style scoped>\n",
       "  .table-result-container {\n",
       "    max-height: 300px;\n",
       "    overflow: auto;\n",
       "  }\n",
       "  table, th, td {\n",
       "    border: 1px solid black;\n",
       "    border-collapse: collapse;\n",
       "  }\n",
       "  th, td {\n",
       "    padding: 5px;\n",
       "  }\n",
       "  th {\n",
       "    text-align: left;\n",
       "  }\n",
       "</style><div class='table-result-container'><table class='table-result'><thead style='background-color: white'><tr><th>RowID</th><th>FName</th><th>Salary</th></tr></thead><tbody><tr><td>1</td><td>George</td><td>800</td></tr><tr><td>2</td><td>Sam</td><td>950</td></tr><tr><td>3</td><td>Diane</td><td>1100</td></tr><tr><td>4</td><td>Nicholas</td><td>1250</td></tr><tr><td>5</td><td>Samuel</td><td>1250</td></tr><tr><td>6</td><td>Patricia</td><td>1300</td></tr><tr><td>7</td><td>Brian</td><td>1500</td></tr><tr><td>8</td><td>Thomas</td><td>1600</td></tr><tr><td>9</td><td>Fran</td><td>2450</td></tr><tr><td>10</td><td>Debbie</td><td>2850</td></tr><tr><td>11</td><td>Mark</td><td>2975</td></tr><tr><td>12</td><td>James</td><td>3000</td></tr><tr><td>13</td><td>Cynthia</td><td>3000</td></tr><tr><td>14</td><td>Christopher</td><td>5000</td></tr></tbody></table></div>"
      ]
     },
     "metadata": {
      "application/vnd.databricks.v1+output": {
       "addedWidgets": {},
       "aggData": [],
       "aggError": "",
       "aggOverflow": false,
       "aggSchema": [],
       "aggSeriesLimitReached": false,
       "aggType": "",
       "arguments": {},
       "columnCustomDisplayInfos": {},
       "data": [
        [
         1,
         "George",
         800
        ],
        [
         2,
         "Sam",
         950
        ],
        [
         3,
         "Diane",
         1100
        ],
        [
         4,
         "Nicholas",
         1250
        ],
        [
         5,
         "Samuel",
         1250
        ],
        [
         6,
         "Patricia",
         1300
        ],
        [
         7,
         "Brian",
         1500
        ],
        [
         8,
         "Thomas",
         1600
        ],
        [
         9,
         "Fran",
         2450
        ],
        [
         10,
         "Debbie",
         2850
        ],
        [
         11,
         "Mark",
         2975
        ],
        [
         12,
         "James",
         3000
        ],
        [
         13,
         "Cynthia",
         3000
        ],
        [
         14,
         "Christopher",
         5000
        ]
       ],
       "datasetInfos": [],
       "dbfsResultPath": null,
       "isJsonSchema": true,
       "metadata": {},
       "overflow": false,
       "plotOptions": {
        "customPlotOptions": {},
        "displayType": "table",
        "pivotAggregation": null,
        "pivotColumns": null,
        "xColumns": null,
        "yColumns": null
       },
       "removedWidgets": [],
       "schema": [
        {
         "metadata": "{}",
         "name": "RowID",
         "type": "\"integer\""
        },
        {
         "metadata": "{}",
         "name": "FName",
         "type": "\"string\""
        },
        {
         "metadata": "{}",
         "name": "Salary",
         "type": "\"short\""
        }
       ],
       "type": "table"
      }
     },
     "output_type": "display_data"
    }
   ],
   "source": [
    "logical_data = [\n",
    "(1,'George', 800),\n",
    "(2,'Sam', 950),\n",
    "(3,'Diane', 1100),\n",
    "(4,'Nicholas', 1250),\n",
    "(5,'Samuel', 1250),\n",
    "(6,'Patricia', 1300),\n",
    "(7,'Brian', 1500),\n",
    "(8,'Thomas', 1600),\n",
    "(9,'Fran', 2450),\n",
    "(10,'Debbie', 2850),\n",
    "(11,'Mark', 2975),\n",
    "(12,'James', 3000),\n",
    "(13,'Cynthia', 3000),\n",
    "(14,'Christopher', 5000)\n",
    "]\n",
    "\n",
    "logical_df = spark.createDataFrame(logical_data, logical_sample)\n",
    "\n",
    "transactions_df.createOrReplaceTempView(\"Logical\")\n",
    "display(logical_df)"
   ]
  },
  {
   "cell_type": "code",
   "execution_count": 0,
   "metadata": {
    "application/vnd.databricks.v1+cell": {
     "cellMetadata": {
      "byteLimit": 2048000,
      "rowLimit": 10000
     },
     "inputWidgets": {},
     "nuid": "e0146b14-576e-44e6-9fcf-67a81db63782",
     "showTitle": false,
     "tableResultSettingsMap": {},
     "title": ""
    }
   },
   "outputs": [
    {
     "output_type": "stream",
     "name": "stdout",
     "output_type": "stream",
     "text": [
      "+-----+-----------+------+---------+----------+\n|RowID|      FName|Salary|SumByRows|SumByRange|\n+-----+-----------+------+---------+----------+\n|    1|     George|   800|      800|       800|\n|    2|        Sam|   950|     1750|      1750|\n|    3|      Diane|  1100|     2850|      2850|\n|    4|   Nicholas|  1250|     4100|      5350|\n|    5|     Samuel|  1250|     5350|      5350|\n|    6|   Patricia|  1300|     6650|      6650|\n|    7|      Brian|  1500|     8150|      8150|\n|    8|     Thomas|  1600|     9750|      9750|\n|    9|       Fran|  2450|    12200|     12200|\n|   10|     Debbie|  2850|    15050|     15050|\n|   11|       Mark|  2975|    18025|     18025|\n|   12|      James|  3000|    21025|     24025|\n|   13|    Cynthia|  3000|    24025|     24025|\n|   14|Christopher|  5000|    29025|     29025|\n+-----+-----------+------+---------+----------+\n\n"
     ]
    }
   ],
   "source": [
    "from pyspark.sql.window import Window\n",
    "\n",
    "window_rows = Window.orderBy(\"Salary\").rowsBetween(Window.unboundedPreceding, Window.currentRow)\n",
    "\n",
    "window_range = Window.orderBy(\"Salary\").rangeBetween(Window.unboundedPreceding, Window.currentRow)\n",
    "\n",
    "logical_df = logical_df.withColumn(\"SumByRows\", sum(\"Salary\").over(window_rows)) \\\n",
    "                       .withColumn(\"SumByRange\", sum(\"Salary\").over(window_range))\n",
    "\n",
    "logical_df.orderBy(\"RowID\").show()"
   ]
  },
  {
   "cell_type": "markdown",
   "metadata": {
    "application/vnd.databricks.v1+cell": {
     "cellMetadata": {},
     "inputWidgets": {},
     "nuid": "d775c0b6-2e9d-4504-9dd9-25d3a84701f3",
     "showTitle": false,
     "tableResultSettingsMap": {},
     "title": ""
    }
   },
   "source": [
    "# zdanie 4"
   ]
  },
  {
   "cell_type": "markdown",
   "metadata": {
    "application/vnd.databricks.v1+cell": {
     "cellMetadata": {},
     "inputWidgets": {},
     "nuid": "b23eb74b-bc57-45d6-8b35-c9af3b4091e1",
     "showTitle": false,
     "tableResultSettingsMap": {},
     "title": ""
    }
   },
   "source": [
    "Do tego notatnika dopisz użycie funkcji okienkowych LEAD, LAG, FIRST_VALUE, LAST_VALUE, ROW_NUMBER  "
   ]
  },
  {
   "cell_type": "code",
   "execution_count": 0,
   "metadata": {
    "application/vnd.databricks.v1+cell": {
     "cellMetadata": {
      "byteLimit": 2048000,
      "rowLimit": 10000
     },
     "inputWidgets": {},
     "nuid": "82d90323-5560-4d5f-a4e9-ee08fab9e486",
     "showTitle": false,
     "tableResultSettingsMap": {},
     "title": ""
    }
   },
   "outputs": [
    {
     "output_type": "stream",
     "name": "stdout",
     "output_type": "stream",
     "text": [
      "+-----+-----------+------+----------+---------+-----------+----------+---------+\n|RowID|      FName|Salary|LeadSalary|LagSalary|FirstSalary|LastSalary|RowNumber|\n+-----+-----------+------+----------+---------+-----------+----------+---------+\n|    1|     George|   800|       950|     null|        800|       800|        1|\n|    2|        Sam|   950|      1100|      800|        800|       950|        2|\n|    3|      Diane|  1100|      1250|      950|        800|      1100|        3|\n|    4|   Nicholas|  1250|      1250|     1100|        800|      1250|        4|\n|    5|     Samuel|  1250|      1300|     1250|        800|      1250|        5|\n|    6|   Patricia|  1300|      1500|     1250|        800|      1300|        6|\n|    7|      Brian|  1500|      1600|     1300|        800|      1500|        7|\n|    8|     Thomas|  1600|      2450|     1500|        800|      1600|        8|\n|    9|       Fran|  2450|      2850|     1600|        800|      2450|        9|\n|   10|     Debbie|  2850|      2975|     2450|        800|      2850|       10|\n|   11|       Mark|  2975|      3000|     2850|        800|      2975|       11|\n|   12|      James|  3000|      3000|     2975|        800|      3000|       12|\n|   13|    Cynthia|  3000|      5000|     3000|        800|      3000|       13|\n|   14|Christopher|  5000|      null|     3000|        800|      5000|       14|\n+-----+-----------+------+----------+---------+-----------+----------+---------+\n\n"
     ]
    }
   ],
   "source": [
    "from pyspark.sql.functions import lead, lag, first, last, row_number\n",
    "\n",
    "window_spec = Window.orderBy(\"Salary\")\n",
    "logical_df = logical_df \\\n",
    "    .withColumn(\"LeadSalary\", lead(\"Salary\", 1).over(window_spec)) \\\n",
    "    .withColumn(\"LagSalary\", lag(\"Salary\", 1).over(window_spec)) \\\n",
    "    .withColumn(\"FirstSalary\", first(\"Salary\").over(window_spec)) \\\n",
    "    .withColumn(\"LastSalary\", last(\"Salary\").over(window_spec)) \\\n",
    "    .withColumn(\"RowNumber\", row_number().over(window_spec))\n",
    "\n",
    "logical_df.show()\n"
   ]
  },
  {
   "cell_type": "code",
   "execution_count": 0,
   "metadata": {
    "application/vnd.databricks.v1+cell": {
     "cellMetadata": {},
     "inputWidgets": {},
     "nuid": "2677efcf-5f96-45b4-939f-50513e9dc422",
     "showTitle": false,
     "tableResultSettingsMap": {},
     "title": ""
    }
   },
   "outputs": [],
   "source": []
  }
 ],
 "metadata": {
  "application/vnd.databricks.v1+notebook": {
   "computePreferences": null,
   "dashboards": [],
   "environmentMetadata": {
    "base_environment": "",
    "environment_version": "1"
   },
   "inputWidgetPreferences": null,
   "language": "python",
   "notebookMetadata": {
    "pythonIndentUnit": 4
   },
   "notebookName": "Notatnik_2",
   "widgets": {}
  }
 },
 "nbformat": 4,
 "nbformat_minor": 0
}