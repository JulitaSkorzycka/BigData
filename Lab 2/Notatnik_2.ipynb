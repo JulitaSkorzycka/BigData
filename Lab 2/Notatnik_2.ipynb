{
 "cells": [
  {
   "cell_type": "markdown",
   "metadata": {
    "application/vnd.databricks.v1+cell": {
     "cellMetadata": {
      "byteLimit": 2048000,
      "rowLimit": 10000
     },
     "inputWidgets": {},
     "nuid": "1528e96c-8abd-4b42-b30b-a90831d6eb5e",
     "showTitle": false,
     "tableResultSettingsMap": {},
     "title": ""
    }
   },
   "source": [
    "# ZADANIE 2"
   ]
  },
  {
   "cell_type": "markdown",
   "metadata": {
    "application/vnd.databricks.v1+cell": {
     "cellMetadata": {
      "byteLimit": 2048000,
      "rowLimit": 10000
     },
     "inputWidgets": {},
     "nuid": "04ffa4f0-1a90-45b8-b4a6-fe4d7650f6f0",
     "showTitle": false,
     "tableResultSettingsMap": {},
     "title": ""
    }
   },
   "source": [
    "Wybierz jeden z plików csv z poprzednich ćwiczeń (Mini Kurs, Actors.csv, Names.csv ect..) lub inny plik z dbfs:/databricks-datasets/ i na jego podstawie stwórz schemat danych. Przykład na wykładzie.  \n",
    "\n",
    "Użyj funckji spark.read. i stwórz DataFrame (DataFrameReader) wczytując plik z użyciem schematu, który stworzyłeś. "
   ]
  },
  {
   "cell_type": "code",
   "execution_count": 0,
   "metadata": {
    "application/vnd.databricks.v1+cell": {
     "cellMetadata": {
      "byteLimit": 2048000,
      "rowLimit": 10000
     },
     "inputWidgets": {},
     "nuid": "ea741114-5698-4043-852e-f9bd0228a6ab",
     "showTitle": false,
     "tableResultSettingsMap": {},
     "title": ""
    }
   },
   "outputs": [
    {
     "output_type": "display_data",
     "data": {
      "text/html": [
       "<style scoped>\n",
       "  .table-result-container {\n",
       "    max-height: 300px;\n",
       "    overflow: auto;\n",
       "  }\n",
       "  table, th, td {\n",
       "    border: 1px solid black;\n",
       "    border-collapse: collapse;\n",
       "  }\n",
       "  th, td {\n",
       "    padding: 5px;\n",
       "  }\n",
       "  th {\n",
       "    text-align: left;\n",
       "  }\n",
       "</style><div class='table-result-container'><table class='table-result'><thead style='background-color: white'><tr><th>imdb_name_id</th><th>name</th><th>birth_name</th><th>height</th><th>bio</th><th>birth_details</th><th>date_of_birth</th><th>place_of_birth</th><th>death_details</th><th>date_of_death</th><th>place_of_death</th><th>reason_of_death</th><th>spouses_string</th><th>spouses</th><th>divorces</th><th>spouses_with_children</th><th>children</th></tr></thead><tbody><tr><td>nm0000001</td><td>Fred Astaire</td><td>Frederic Austerlitz Jr.</td><td>177</td><td>Fred Astaire was born in Omaha, Nebraska, to Johanna (Geilus) and Fritz Austerlitz, a brewer. Fred entered show business at age 5. He was successful both in vaudeville and on Broadway in partnership with his sister, Adele Astaire. After Adele retired to marry in 1932, Astaire headed to Hollywood. Signed to RKO, he was loaned to MGM to appear in La danza di Venere (1933) before starting work on RKO's Carioca (1933). In the latter film, he began his highly successful partnership with Ginger Rogers, with whom he danced in 9 RKO pictures. During these years, he was also active in recording and radio. On film, Astaire later appeared opposite a number of partners through various studios. After a temporary retirement in 1945-7, during which he opened Fred Astaire Dance Studios, Astaire returned to film to star in more musicals through 1957. He subsequently performed a number of straight dramatic roles in film and TV.</td><td>May 10, 1899 in Omaha, Nebraska, USA</td><td>1899-05-10</td><td>Omaha, Nebraska, USA</td><td>June 22, 1987 in Los Angeles, California, USA  (pneumonia)</td><td>22.06.1987</td><td>Los Angeles, California, USA  </td><td>pneumonia</td><td>Robyn Smith  (27 June 1980 - 22 June 1987) (his death)Phyllis Livingston Potter  (12 July 1933 - 13 September 1954) (her death) (2 children)</td><td>2</td><td>0</td><td>1</td><td>2</td></tr><tr><td>nm0000002</td><td>Lauren Bacall</td><td>Betty Joan Perske</td><td>174</td><td>Lauren Bacall was born Betty Joan Perske on September 16, 1924, in New York City. She was the daughter of Natalie Weinstein-Bacal, a Romanian Jewish immigrant, and William Perske, who was born in New Jersey, to Polish Jewish parents. Her family was middle-class, with her father working as a salesman and her mother as a secretary. They divorced when she was five and she rarely saw her father after that.As a school girl, she originally wanted to be a dancer, but later switched gears to head into acting. She studied at the American Academy of Dramatic Arts in New York, after attending She was educated at Highland Manor, a private boarding school in Tarrytown, New York (through the generosity of wealthy uncles), and then at Julia Richman High School, which enabled her to get her feet wet in some off-Broadway productions.Out of school, she entered modeling and, because of her beauty, appeared on the cover of Harper's Bazaar, one of the most popular magazines in the US. The wife of famed director Howard Hawks spotted the picture in the publication and arranged with her husband to have Lauren take a screen test. As a result, which was entirely positive, she was given the part of Marie Browning in Acque del Sud (1944), a thriller opposite Humphrey Bogart, when she was just 19 years old. This not only set the tone for a fabulous career but also one of Hollywood's greatest love stories (she married Bogart in 1945). It was also the first of several Bogie-Bacall films.After 1945's L'agente confidenziale (1945), Lauren received second billing in Il grande sonno (1946) with Bogart. The mystery, in the role of Vivian Sternwood Rutledge, was a resounding success. Although she was making one film a year, each production would be eagerly awaited by the public. In 1947, again with her husband, Lauren starred in the thriller La fuga (1947). The film kept movie patrons on the edge of their seats. The following year, she starred with Bogart, Edward G. Robinson, and Lionel Barrymore in L'isola di corallo (1948). The crime drama was even more of a nail biter than her previous film.In 1950, Lauren starred in Le foglie d'oro (1950), a drama set in 1894. It was a film of note because she appeared without her husband - her co-star was Gary Cooper. In 1953, Lauren appeared in her first comedy as Schatze Page in Come sposare un milionario (1953). The film, with co-stars Marilyn Monroe and Betty Grable, was a smash hit all across the theaters of America.After filming La donna del destino (1957), which was released in 1957, Humphrey Bogart died on January 14 from throat cancer. Devastated at being a widow, Lauren returned to the silver screen with Dono d'amore (1958) in 1958 opposite Robert Stack. The production turned out to be a big disappointment. Undaunted, Lauren moved back to New York City and appeared in several Broadway plays to huge critical acclaim. She was enjoying acting before live audiences and the audiences in turn enjoyed her fine performances.Lauren was away from the big screen for five years, but she returned in 1964 to appear in Elettroshock (1964) and Donne v'insegno come si seduce un uomo (1964). The latter film was a comedy starring Henry Fonda and Tony Curtis. In 1966, Lauren starred in Detective's Story (1966) with Paul Newman and Julie Harris, which was one of former's signature films.Alternating her time between films and the stage, Lauren returned in 1974's Assassinio sull'Orient Express (1974). The film, based on Agatha Christie's best-selling book was a huge hit. It also garnered Ingrid Bergman her third Oscar. Actually, the huge star-studded cast helped to ensure its success. Two years later, in 1976, Lauren co-starred with John Wayne in Il pistolero (1976). The film was Wayne's last - he died from cancer in 1979.In 1981, she played an actress being stalked by a crazed admirer in Un'ombra nel buio (1981). The thriller was absolutely fascinating with Lauren in the lead role. After that production, Lauren was away from films again, this time for seven years. In the interim, she again appeared on the stages of Broadway. When she returned, it was for the filming of 1988's Mr. North (1988). After 1990's Misery non deve morire (1990) and several made for television films, Lauren appeared in 1996's Fuga dalla Casa Bianca (1996), a comedy romp with Jack Lemmon and James Garner as two ex-presidents and their escapades.Despite her age and failing health, she made a small-scale comeback in the English-language dub of Hayao Miyazaki's Il castello errante di Howl (2004) (Howl's Moving Castle, based on the young-adult novel by Diana Wynne Jones) as the Witch of the Waste, but acting endeavors for the beloved actress became increasingly rare. Lauren Bacall died on 12 August 2014, five weeks short of her 90th birthday.</td><td>September 16, 1924 in The Bronx, New York City, New York, USA</td><td>16.09.1924</td><td>The Bronx, New York City, New York, USA</td><td>August 12, 2014 in New York City, New York, USA  (stroke)</td><td>12.08.2014</td><td>New York City, New York, USA  </td><td>stroke</td><td>Jason Robards  (4 July 1961 - 10 September 1969) (divorced) (1 child)Humphrey Bogart  (21 May 1945 - 14 January 1957) (his death) (2 children)</td><td>2</td><td>1</td><td>2</td><td>3</td></tr><tr><td>nm0000003</td><td>Brigitte Bardot</td><td>Brigitte Bardot</td><td>166</td><td>Brigitte Bardot was born on September 28, 1934 in Paris, France. Her father had an engineering degree and worked with his father in the family business. Brigitte's mother encouraged her daughter to take up music and dance, and she proved to be very adept at it. By the time she was 15, Brigitte was trying a modeling career, and found herself in the French magazine Elle. Her incredible beauty readily apparent, Brigitte next tried films. In 1952, she appeared on screen for the first time as Javotte Lemoine in Le trou normand (1952). Two more films followed and it was also the same year she married Roger Vadim (the union lasted 3½ years). Capitalizing on her success in French films, Brigitte made her first American production in Atto d'amore (1953) with Kirk Douglas, but she continued to make films in France. Brigitte's explosive sexuality took the United States by storm, and the effect she had on millions of American men who had not seen a woman like her in a long, long time--if ever--was electric. Rise to the phrase sex kitten and fascination of her in the United States consisted of magazines photographs and dubbed over French films--good, bad or indifferent, her films drew audiences--mainly men--into theaters like lemmings. In 1965, she appeared as herself in the American-made Erasmo il lentigginoso (1965) with James Stewart (she only appeared in one scene). Just before she turned 40, Brigitte retired from movies after filming Colinot l'alzasottane (1973). She prefers life outside of stardom. While it enabled her to become internationally famous, it also carried with it annoyances. It was not anything for her to have fans enter her house or wander around the grounds of her home in the hopes of getting a glimpse of her or to take something that belonged to her. Paparazzi constantly hounded her with their cameras. She has been so soft-hearted that some people even have taken advantage of her generosity. After her life in the spotlight, Brigitte went on to become a leading spokesperson for animal rights and started the Foundation Brigitte Bardot dedicated solely to that cause. Her work in that realm is, perhaps, far greater than any film she could have made. Brigitte has been married to Bernard d'Ormale since 1992 and they reside in St. Tropez with their nearly 50 pets.</td><td>September 28, 1934 in Paris, France</td><td>28.09.1934</td><td>Paris, France</td><td>null</td><td>null</td><td>null</td><td>null</td><td>Bernard d'Ormale  (16 August 1992 - present)Gunter Sachs  (14 July 1966 - 3 July 1969) (divorced)Jacques Charrier  (18 June 1959 - 20 November 1962) (divorced) (1 child)Roger Vadim  (20 December 1952 - 6 December 1957) (divorced)</td><td>4</td><td>3</td><td>1</td><td>1</td></tr><tr><td>nm0000004</td><td>John Belushi</td><td>John Adam Belushi</td><td>170</td><td>John Belushi was born in Chicago, Illinois, USA, on January 24, 1949, to Agnes Demetri (Samaras) and Adam Anastos Belushi, a restaurant owner. His father was an Albanian immigrant, from Qytezë, and his mother was also of Albanian descent. He grew up in Wheaton, where the family moved when he was six. Though a young hellion in grade school, John became the perfect all-American boy during his high school years where he was co-captain of the Wheaton Central High School football team and was elected homecoming king his senior year. He also developed an interest in acting and appeared in the high school variety show. Encouraged by his drama teacher, John decided to put aside his plans to become a football coach to pursue a career in acting.After graduation in 1967, John performed in summer stock in rural Indiana in a variety of roles from Cardinal Wolsey in Anne of a Thousand Days to a comic detective in Ten Little Indians. In the fall of his freshman year at the University of Wisconsin at Whitewater, John changed his image into a bad-boy appearance by growing his hair long and began to have problems with discipline and structure of attending classes.Dropping out of Wisconsin, John spent the next two years at the College of DuPage, a junior college a few miles from his parents' Wheaton home, where his father began persuading him to become a partner in his restaurant, but John still preferred acting. While attending DuPage, John helped found the West Compass Players, an improv comedy troupe patterned after Chicago's famous Second City ensemble.In 1971, John made the leap to Second City itself where he performed in various on-stage comic performances with others, who included Harold Ramis and Joe Flaherty. John loved his life at Second City where he performed six nights a week, perfecting the physical gonzo style of comedy he later made famous.A year later, John and his live-in girlfriend from his high school years, Judith Belushi-Pisano, moved to New York because John had joined the cast of National Lampoon's Lemmings, an off-Broadway rock musical revue that was originally booked for a six-week run but played to full crowds for nearly 10 months.In 1973, John was hired as a writer for the syndicated National Lampoon's Radio Hour which became the National Lampoon Show in 1975. John's big break came that same year when he joined the ground-breaking TV variety series Il Saturday Night Live (1975) which made him a star. The unpredictable, aggressively physical style of humor that he began on Second City flowered on SNL.In 1978, while still working on Il Saturday Night Live (1975), John appeared in the movie Verso il sud (1978) which starred and was directed by Jack Nicholson. It was here that director John Landis noticed John and decided to cast him in his movie National Lampoon's Animal House (1978). John's minor role as the notorious, beer-swilling Bluto made it a box-office smash and the year's top grossing comedy. Despite appearing in only a dozen scenes, John's performance stole the movie, which portrays college fraternity shenanigans at a small college set in the year 1962.In 1979, John along with fellow SNL regular Dan Aykroyd quit the series to pursue movie projects. John and Dan Aykroyd appeared in minor roles in Steven Spielberg's financially unsuccessful 1941 - Allarme a Hollywood (1979) and, the following year, in John Landis' The Blues Brothers - I fratelli Blues (1980). Around this time, John's drug use began escalating. Cocaine, which was ubiquitous in show-business circles in the 1970's, became his drug of choice. After he first experimented with cocaine in the mid 1970s, John almost immediately became addicted to it. His frequent cocaine sniffing binges became a source of friction between him and Judy, whom he married in 1976.John's love for blues and soul music inspired the Blues Brothers. He and Aykroyd first appeared as Joliet Jake and Elwood Blues, a pair of white soul men dressed in black suits, skinny ties, fedora hats and Rayban sunglasses, as a warm-up act before the telecasts of Il Saturday Night Live (1975). Building on the success of their acts and the release of their album A Briefcase Full of Blues, John and Dan Aykroyd starred in the movie, which gave John a chance to act with his favorite musical heroes including Ray Charles, James Brown and Aretha Franklin.Although John's reputation for being an off-screen party animal is legendary, his generous side is less well known. Using some of his money, he bought his father a ranch outside San Diego for him to live. John helped set up some of his Chicago friends with their own businesses and even financially helped his younger brother, Jim Belushi, who followed his older brother's path to both Second City and Il Saturday Night Live (1975).In 1981, John appeared in the movie Chiamami Aquila (1981), playing a hard-nosed Chicago newspaperman who finds romance in Colorado with eagle expert Blair Brown. That same year, John and Dan Aykroyd appeared again in the movie I vicini di casa (1981), which gave them a chance to reverse roles, with John playing a straight-arrow family man whose life is turned upside down when a wild family man (Aykroyd) moves in next door.In January 1982, John began work on the screenplay for another movie to be titled Noble Rot. Also, John had checked into a bungalow at the Chateau Marmont, a popular celebrity hotel in Los Angeles. John's drug use had been steadily increasing for over a year now, which alarmed his wife and friends, but he continued to promise Judy that he would quit someday. On March 5, 1982, John Belushi was found dead in his hotel room at the age of 33. The local coroner gave the cause of death as a lethal injection of cocaine and heroin. Several years later, John's drug dealing/drug user companion during his final weeks, Cathy Smith, was tried and sentenced to three years in prison for supplying John with the drugs. Close friend James Taylor sang That Lonesome Road at a memorial service at Martha's Vineyard cemetery where John was buried.</td><td>January 24, 1949 in Chicago, Illinois, USA</td><td>24.01.1949</td><td>Chicago, Illinois, USA</td><td>March 5, 1982 in Hollywood, Los Angeles, California, USA  (acute cocaine and heroin intoxication)</td><td>05.03.1982</td><td>Hollywood, Los Angeles, California, USA  </td><td>acute cocaine and heroin intoxication</td><td>Judith Belushi-Pisano  (31 December 1976 - 5 March 1982) (his death)</td><td>1</td><td>0</td><td>0</td><td>0</td></tr><tr><td>nm0000005</td><td>Ingmar Bergman</td><td>Ernst Ingmar Bergman</td><td>179</td><td>Ernst Ingmar Bergman was born July 14, 1918, the son of a priest. The film and T.V. series, Con le migliori intenzioni (1992) is biographical and shows the early marriage of his parents. The film 'Söndagsbarn' depicts a bicycle journey with his father. In the miniseries Conversazioni private (1996) is the trilogy closed. Here, as in 'Den Goda Viljan' Pernilla August play his mother. Note that all three movies are not always full true biographical stories. He began his career early with a puppet theatre which he, his sister and their friends played with. But he was the manager. Strictly professional he begun writing in 1941. He had written a play called 'Kaspers död' (A.K.A. 'Kaspers Death') which was produced the same year. It became his entrance into the movie business as Stina Bergman (not a close relative), from the company S.F. (Swedish Filmindustry), had seen the play and thought that there must be some dramatic talent in young Ingmar. His first job was to save other more famous writers' poor scripts. Under one of that script-saving works he remembered that he had written a novel about his last year as a student. He took the novel, did the save-poor-script job first, then wrote a screenplay on his own novel. When he went back to S.F., he delivered two scripts rather than one. The script was Spasimo (1944) and was the fist Bergman screenplay that was put into film (by Alf Sjöberg). It was also in that movie Bergman did his first professional film-director job. Because Alf Sjöberg was busy, Bergman got the order to shoot the last sequence of the film. Ingmar Bergman is the father of Daniel Bergman, director, and Mats Bergman, actor at the Swedish Royal Dramatic Theater. Ingmar Bergman was also C.E.O. of the same theatre between 1963-1966, where he hired almost every professional actor in Sweden. In 1976 he had a famous tax problem. Bergman had trusted other people to advise him on his finances, but it turned out to be very bad advice. Bergman had to leave the country immediately, and so he went to Germany. A few years later he returned to Sweden and made his last theatrical film Fanny & Alexander (1982) (A.K.A. 'Fanny and Alexander'). In later life he retired from movie directing, but still wrote scripts for film and T.V. and directed plays at the Swedish Royal Dramatic Theatre for many years. He died peacefully in his sleep on July 30, 2007.</td><td>July 14, 1918 in Uppsala, Uppsala län, Sweden</td><td>14.07.1918</td><td>Uppsala, Uppsala län, Sweden</td><td>July 30, 2007 in Fårö, Gotlands län, Sweden  (natural causes)</td><td>30.07.2007</td><td>Fårö, Gotlands län, Sweden  </td><td>natural causes</td><td>Ingrid Bergman  (11 November 1971 - 20 May 1995) (her death) (1 child)Käbi Laretei  (1959 - 1969) (divorced) (1 child)Gun Grut  (1951 - 1959) (divorced) (1 child)Ellen Bergman  (22 July 1945 - 1950) (divorced) (4 children)Else Fisher  (25 March 1943 - 1945) (divorced) (1 child)</td><td>5</td><td>4</td><td>5</td><td>8</td></tr><tr><td>nm0000006</td><td>Ingrid Bergman</td><td>Ingrid Bergman</td><td>178</td><td>Ingrid Bergman was one of the greatest actresses from Hollywood's lamented Golden Era. Her natural and unpretentious beauty and her immense acting talent made her one of the most celebrated figures in the history of American cinema. Bergman is also one of the most Oscar-awarded actresses, tied with Meryl Streep, both second only to Katharine Hepburn.Ingrid Bergman was born on August 29, 1915 in Stockholm, Sweden, to a German mother, Frieda Henrietta (Adler), and a Swedish father, Justus Samuel Bergman, an artist and photographer. Her mother died when she was only two and her father died when she was 12. She went to live with an elderly uncle.The woman who would be one of the top stars in Hollywood in the 1940s had decided to become an actress after finishing her formal schooling. She had had a taste of acting at age 17 when she played an uncredited role of a girl standing in line in the Swedish film Landskamp (1932) in 1932 - not much of a beginning for a girl who would be known as Sweden's illustrious gift to Hollywood. Her parents died when she was just a girl and the uncle she lived with didn't want to stand in the way of Ingrid's dream. The next year she enrolled at the Royal Dramatic Theatre School in Stockholm but decided that stage acting was not for her. It would be three more years before she would have another chance at a film. When she did, it was more than just a bit part. The film in question was Munkbrogreven (1935), where she had a speaking part as Elsa Edlund. After several films that year that established her as a class actress, Ingrid appeared in La sposa scomparsa (1936) as Anita Hoffman. Luckily for her, American producer David O. Selznick saw it and sent a representative from Selznick International Pictures to gain rights to the story and have Ingrid signed to a contract. Once signed, she came to California and starred in United Artists' 1939 remake of her 1936 film, Intermezzo (1939), reprising her original role. The film was a hit and so was Ingrid.Her beauty was unlike anything the movie industry had seen before and her acting was superb. Hollywood was about to find out that they had the most versatile actress the industry had ever seen. Here was a woman who truly cared about the craft she represented. The public fell in love with her. Ingrid was under contract to go back to Sweden to film Solo una notte (1939) in 1939 and Juninatten (1940) in 1940. Back in the US she appeared in three films, all well-received. She made only one film in 1942, but it was the classic Casablanca (1942) opposite Humphrey Bogart.Ingrid was choosing her roles well. In 1943 she was nominated for an Academy Award for her role in Per chi suona la campana (1943), the only film she made that year. The critics and public didn't forget her when she made Angoscia (1944) the following year--her role of Paula Alquist got her the Oscar for Best Actress. In 1945 Ingrid played in Io ti salverò (1945), Saratoga (1945) and Le campane di Santa Maria (1945), for which she received her third Oscar nomination for her role of Sister Benedict. She made no films in 1947, but bounced back with a fourth nomination for Giovanna d'Arco (1948). In 1949 she went to Italy to film Stromboli (Terra di Dio) (1950), directed by Roberto Rossellini. She fell in love with him and left her husband, Dr. Peter Lindstrom, and daughter, Pia Lindström. America's moral guardians in the press and the pulpits were outraged. She was pregnant and decided to remain in Italy, where her son was born. In 1952 Ingrid had twins, Isotta and Isabella Rossellini, who became an outstanding actress in her own right, as did Pia.Ingrid continued to make films in Italy and finally returned to Hollywood in 1956 in the title role in Anastasia (1956), which was filmed in England. For this she won her second Academy Award. She had scarcely missed a beat. Ingrid continued to bounce between Europe and the US making movies, and fine ones at that. A film with Ingrid Bergman was sure to be a quality production. In her final big-screen performance in 1978's Sinfonia d'autunno (1978) she had her final Academy Award nomination. Though she didn't win, many felt it was the most sterling performance of her career. Ingrid retired, but not before she gave an outstanding performance in the mini-series Una donna di nome Golda (1982), a film about Israeli prime minister Golda Meir. For this she won an Emmy Award as Best Actress, but, unfortunately, she did not live to see the fruits of her labor.Ingrid died from cancer on August 29, 1982, her 67th birthday, in London, England.</td><td>August 29, 1915 in Stockholm, Sweden</td><td>29.08.1915</td><td>Stockholm, Sweden</td><td>August 29, 1982 in Chelsea, London, England, UK  (lymphoma complications following a breast cancer operation)</td><td>29.08.1982</td><td>Chelsea, London, England, UK  </td><td>lymphoma complications following a breast cancer operation</td><td>Lars Schmidt  (21 December 1958 - 1978) (divorced)Roberto Rossellini  (24 May 1950 - 7 November 1957) (divorced) (3 children)Dr. Petter Aron Lindström  (10 July 1937 - 9 February 1950) (divorced) (1 child)</td><td>3</td><td>3</td><td>2</td><td>4</td></tr><tr><td>nm0000007</td><td>Humphrey Bogart</td><td>Humphrey DeForest Bogart</td><td>173</td><td>Humphrey DeForest Bogart was born in New York City, New York, to Maud Humphrey, a famed magazine illustrator and suffragette, and Belmont DeForest Bogart, a moderately wealthy surgeon (who was secretly addicted to opium). Bogart was educated at Trinity School, NYC, and was sent to Phillips Academy in Andover, Massachusetts, in preparation for medical studies at Yale. He was expelled from Phillips and joined the U.S. Naval Reserve. From 1920 to 1922, he managed a stage company owned by family friend William A. Brady (the father of actress Alice Brady), performing a variety of tasks at Brady's film studio in New York. He then began regular stage performances. Alexander Woollcott described his acting in a 1922 play as inadequate. In 1930, he gained a contract with Fox, his feature film debut in a ten-minute short, Broadway's Like That (1930), co-starring Ruth Etting and Joan Blondell. Fox released him after two years. After five years of stage and minor film roles, he had his breakthrough role in La foresta pietrificata (1936) from Warner Bros. He won the part over Edward G. Robinson only after the star, Leslie Howard, threatened Warner Bros. that he would quit unless Bogart was given the key role of Duke Mantee, which he had played in the Broadway production with Howard. The film was a major success and led to a long-term contract with Warner Bros. From 1936 to 1940, Bogart appeared in 28 films, usually as a gangster, twice in Westerns and even a horror film. His landmark year was 1941 (often capitalizing on parts George Raft had stupidly rejected) with roles in classics such as Una pallottola per Roy (1941) and as Sam Spade in one of his most fondly remembered films, Il mistero del falco (1941). These were followed by Casablanca (1942), Il grande sonno (1946), and L'isola di corallo (1948). Bogart, despite his erratic education, was incredibly well-read and he favored writers and intellectuals within his small circle of friends. In 1947, he joined wife Lauren Bacall and other actors protesting the House Un-American Activities Committee witch hunts. He also formed his own production company, and the next year made Il tesoro della Sierra Madre (1948). Bogie won the best actor Academy Award for La regina d'Africa (1951) and was nominated for Casablanca (1942) and as Captain Queeg in L'ammutinamento del Caine (1954), a film made when he was already seriously ill. He died in his sleep at his Hollywood home following surgeries and a battle with throat cancer.</td><td>December 25, 1899 in New York City, New York, USA</td><td>1899-12-25</td><td>New York City, New York, USA</td><td>January 14, 1957 in Los Angeles, California, USA  (esophageal cancer)</td><td>14.01.1957</td><td>Los Angeles, California, USA  </td><td>esophageal cancer</td><td>Lauren Bacall  (21 May 1945 - 14 January 1957) (his death) (2 children)Mayo Methot  (21 August 1938 - 10 May 1945) (divorced)Mary Philips  (3 April 1928 - 11 August 1938) (divorced)Helen Menken  (20 May 1926 - 18 November 1927) (divorced)</td><td>4</td><td>3</td><td>1</td><td>2</td></tr><tr><td>nm0000009</td><td>Richard Burton</td><td>Richard Walter Jenkins</td><td>178</td><td>Probably best-remembered for his turbulent personal life with Elizabeth Taylor (whom he married twice), Richard Burton was nonetheless also regarded as an often brilliant British actor of the post-WWII period.Burton was born Richard Walter Jenkins in 1925 into a Welsh (Cymraeg)-speaking family in Pontrhydyfen to Edith Maude (Thomas) and Richard Walter Jenkins, a coal miner. The twelfth of thirteen children, his mother died while he was a toddler and his father later abandoned the family, leaving him to be raised by an elder sister, Cecilia. An avid fan of Shakespeare, poetry and reading, he once said home is where the books are. He received a scholarship to Oxford University to study acting and made his first stage appearance in 1944.His first film appearances were in routine British movies such as The Last Days of Dolwyn (1949), Tempesta a Liverpool (1950) and La quinta offensiva (1951). Then he started to appear in Hollywood movies such as Mia cugina Rachele (1952), La tunica (1953) and Alessandro il grande (1956), added to this he was also spending considerable time in stage productions, both in the UK and USA, often to splendid reviews. The late 1950s was an exciting and inventive time in UK cinema, often referred to as the British New Wave, and Burton was right in the thick of things, and showcased a sensational performance in I giovani arrabbiati (1959). He also appeared with a cavalcade of international stars in the World War II magnum opus Il giorno più lungo (1962), and then onto arguably his most notorious role as that of Marc Antony opposite Elizabeth Taylor in the hugely expensive Cleopatra (1963). This was, of course, the film that kick-started their fiery and passionate romance (plus two marriages), and the two of them appeared in several productions over the next few years including International Hotel (1963), Castelli di sabbia (1965), the dynamic Chi ha paura di Virginia Woolf? (1966) and La bisbetica domata (1967), as well as box office flops like I commedianti (1967). Burton did better when he was off on his own giving higher caliber performances, such as those in Becket e il suo re (1964), the film adaptation of the Tennessee Williams play La notte dell'iguana (1964), the brilliant espionage thriller La spia che venne dal freddo (1965) and alongside Clint Eastwood in the World War II action adventure film Dove osano le aquile (1968).His audience appeal began to decline somewhat by the end of the 1960s as fans turned to younger, more virile male stars, however Burton was superb in Anna dei mille giorni (1969) as King Henry VIII, he put on a reasonable show in the boring Attacco a Rommel (1971), was over the top in the awful Il mascalzone (1971), gave sleepwalking performances in Una faccia di c... (1972) and Barbablù (1972), and was wildly miscast in the ludicrous L'assassinio di Trotsky (1972).By the early 1970s, quality male lead roles were definitely going to other stars, and Burton found himself appearing in some movies of dubious quality, just to pay the bills and support family, including Divorzia lui divorzia lei (1973) (his last on-screen appearance with Taylor), L'uomo del clan (1974), Breve incontro (1974), Jackpot (1974) (which was never completed) and L'esorcista II - L'eretico (1977). However, he won another Oscar nomination for his excellent performance as a concerned psychiatrist in Equus (1977). He appeared with fellow acting icons Richard Harris and Roger Moore in I 4 dell'oca selvaggia (1978) about mercenaries in South Africa. While the film had a modest initial run, over the past thirty-five years it has picked up quite a cult following. His final performances were as the wily inquisitor O'Brien in the most recent film version of George Orwell's dystopian Orwell 1984 (1984), in which he won good reviews, and in the TV mini series Ellis Island (1984). He passed away on August 5, 1984 in Celigny, Switzerland from a cerebral hemorrhage.</td><td>November 10, 1925 in Pontrhydyfen, Wales, UK</td><td>10.11.1925</td><td>Pontrhydyfen, Wales, UK</td><td>August 5, 1984 in Céligny, Geneva, Switzerland  (cerebral hemorrhage)</td><td>05.08.1984</td><td>Céligny, Geneva, Switzerland  </td><td>cerebral hemorrhage</td><td>Sally Burton  (3 July 1983 - 5 August 1984) (his death)Susan Hunt  (21 August 1976 - 27 February 1983) (divorced)Elizabeth Taylor  (10 October 1975 - 29 July 1976) (divorced)Elizabeth Taylor  (15 March 1964 - 26 June 1974) (divorced) (1 child)Sybil Williams  (5 February 1949 - 5 December 1963) (divorced) (2 children)</td><td>5</td><td>4</td><td>2</td><td>3</td></tr><tr><td>nm0000010</td><td>James Cagney</td><td>James Francis Cagney</td><td>165</td><td>One of Hollywood's preeminent male stars of all time, James Cagney was also an accomplished dancer and easily played light comedy. James Francis Cagney was born on the Lower East Side of Manhattan in New York City, to Carolyn (Nelson) and James Francis Cagney, Sr., who was a bartender and amateur boxer. Cagney was of Norwegian (from his maternal grandfather) and Irish descent. Ending three decades on the screen, he retired to his farm in Stanfordville, New York (some 77 miles/124 km. north of his New York City birthplace), after starring in Billy Wilder's Uno, due, tre! (1961). He emerged from retirement to star in the 1981 screen adaptation of E.L. Doctorow's novel Ragtime (Ragtime (1981)), in which he was reunited with his frequent co-star of the 1930s, Pat O'Brien, and which was his last theatrical film and O'Brien's as well). Cagney's final performance came in the title role of the made-for-TV movie Terrible Joe Moran (1984), in which he played opposite Art Carney.</td><td>July 17, 1899 in New York City, New York, USA</td><td>1899-07-17</td><td>New York City, New York, USA</td><td>March 30, 1986 in Stanfordville, New York, USA  (heart attack following illness from diabetes)</td><td>30.03.1986</td><td>Stanfordville, New York, USA  </td><td>heart attack following illness from diabetes</td><td>Frances Cagney  (28 September 1922 - 30 March 1986) (his death) (2 children)</td><td>1</td><td>0</td><td>1</td><td>2</td></tr><tr><td>nm0000011</td><td>Gary Cooper</td><td>Frank James Cooper</td><td>191</td><td>Born to Alice Cooper and Charles Cooper. Gary attended school at Dunstable school England, Helena Montana and Grinnell College, Grinnell, Iowa (then called Iowa College). His first stage experience was during high school and college. Afterwards, he worked as an extra for one year before getting a part in a two-reeler by the independent producer Hans Tiesler . Eileen Sedgwick was his first leading lady. He then appeared in Fiore del deserto (1926) for United Artists before moving to Paramount. While there he appeared in a small part in Ali (1927), Cosetta (1927), and other films.</td><td>May 7, 1901 in Helena, Montana, USA</td><td>07.05.1901</td><td>Helena, Montana, USA</td><td>May 13, 1961 in Beverly Hills, Los Angeles, California, USA  (prostate cancer)</td><td>13.05.1961</td><td>Beverly Hills, Los Angeles, California, USA  </td><td>prostate cancer</td><td>Sandra Shaw  (15 December 1933 - 13 May 1961) (his death) (1 child)</td><td>1</td><td>0</td><td>1</td><td>1</td></tr></tbody></table></div>"
      ]
     },
     "metadata": {
      "application/vnd.databricks.v1+output": {
       "addedWidgets": {},
       "aggData": [],
       "aggError": "",
       "aggOverflow": false,
       "aggSchema": [],
       "aggSeriesLimitReached": false,
       "aggType": "",
       "arguments": {},
       "columnCustomDisplayInfos": {},
       "data": [
        [
         "nm0000001",
         "Fred Astaire",
         "Frederic Austerlitz Jr.",
         177,
         "Fred Astaire was born in Omaha, Nebraska, to Johanna (Geilus) and Fritz Austerlitz, a brewer. Fred entered show business at age 5. He was successful both in vaudeville and on Broadway in partnership with his sister, Adele Astaire. After Adele retired to marry in 1932, Astaire headed to Hollywood. Signed to RKO, he was loaned to MGM to appear in La danza di Venere (1933) before starting work on RKO's Carioca (1933). In the latter film, he began his highly successful partnership with Ginger Rogers, with whom he danced in 9 RKO pictures. During these years, he was also active in recording and radio. On film, Astaire later appeared opposite a number of partners through various studios. After a temporary retirement in 1945-7, during which he opened Fred Astaire Dance Studios, Astaire returned to film to star in more musicals through 1957. He subsequently performed a number of straight dramatic roles in film and TV.",
         "May 10, 1899 in Omaha, Nebraska, USA",
         "1899-05-10",
         "Omaha, Nebraska, USA",
         "June 22, 1987 in Los Angeles, California, USA  (pneumonia)",
         "22.06.1987",
         "Los Angeles, California, USA  ",
         "pneumonia",
         "Robyn Smith  (27 June 1980 - 22 June 1987) (his death)Phyllis Livingston Potter  (12 July 1933 - 13 September 1954) (her death) (2 children)",
         2,
         0,
         1,
         2
        ],
        [
         "nm0000002",
         "Lauren Bacall",
         "Betty Joan Perske",
         174,
         "Lauren Bacall was born Betty Joan Perske on September 16, 1924, in New York City. She was the daughter of Natalie Weinstein-Bacal, a Romanian Jewish immigrant, and William Perske, who was born in New Jersey, to Polish Jewish parents. Her family was middle-class, with her father working as a salesman and her mother as a secretary. They divorced when she was five and she rarely saw her father after that.As a school girl, she originally wanted to be a dancer, but later switched gears to head into acting. She studied at the American Academy of Dramatic Arts in New York, after attending She was educated at Highland Manor, a private boarding school in Tarrytown, New York (through the generosity of wealthy uncles), and then at Julia Richman High School, which enabled her to get her feet wet in some off-Broadway productions.Out of school, she entered modeling and, because of her beauty, appeared on the cover of Harper's Bazaar, one of the most popular magazines in the US. The wife of famed director Howard Hawks spotted the picture in the publication and arranged with her husband to have Lauren take a screen test. As a result, which was entirely positive, she was given the part of Marie Browning in Acque del Sud (1944), a thriller opposite Humphrey Bogart, when she was just 19 years old. This not only set the tone for a fabulous career but also one of Hollywood's greatest love stories (she married Bogart in 1945). It was also the first of several Bogie-Bacall films.After 1945's L'agente confidenziale (1945), Lauren received second billing in Il grande sonno (1946) with Bogart. The mystery, in the role of Vivian Sternwood Rutledge, was a resounding success. Although she was making one film a year, each production would be eagerly awaited by the public. In 1947, again with her husband, Lauren starred in the thriller La fuga (1947). The film kept movie patrons on the edge of their seats. The following year, she starred with Bogart, Edward G. Robinson, and Lionel Barrymore in L'isola di corallo (1948). The crime drama was even more of a nail biter than her previous film.In 1950, Lauren starred in Le foglie d'oro (1950), a drama set in 1894. It was a film of note because she appeared without her husband - her co-star was Gary Cooper. In 1953, Lauren appeared in her first comedy as Schatze Page in Come sposare un milionario (1953). The film, with co-stars Marilyn Monroe and Betty Grable, was a smash hit all across the theaters of America.After filming La donna del destino (1957), which was released in 1957, Humphrey Bogart died on January 14 from throat cancer. Devastated at being a widow, Lauren returned to the silver screen with Dono d'amore (1958) in 1958 opposite Robert Stack. The production turned out to be a big disappointment. Undaunted, Lauren moved back to New York City and appeared in several Broadway plays to huge critical acclaim. She was enjoying acting before live audiences and the audiences in turn enjoyed her fine performances.Lauren was away from the big screen for five years, but she returned in 1964 to appear in Elettroshock (1964) and Donne v'insegno come si seduce un uomo (1964). The latter film was a comedy starring Henry Fonda and Tony Curtis. In 1966, Lauren starred in Detective's Story (1966) with Paul Newman and Julie Harris, which was one of former's signature films.Alternating her time between films and the stage, Lauren returned in 1974's Assassinio sull'Orient Express (1974). The film, based on Agatha Christie's best-selling book was a huge hit. It also garnered Ingrid Bergman her third Oscar. Actually, the huge star-studded cast helped to ensure its success. Two years later, in 1976, Lauren co-starred with John Wayne in Il pistolero (1976). The film was Wayne's last - he died from cancer in 1979.In 1981, she played an actress being stalked by a crazed admirer in Un'ombra nel buio (1981). The thriller was absolutely fascinating with Lauren in the lead role. After that production, Lauren was away from films again, this time for seven years. In the interim, she again appeared on the stages of Broadway. When she returned, it was for the filming of 1988's Mr. North (1988). After 1990's Misery non deve morire (1990) and several made for television films, Lauren appeared in 1996's Fuga dalla Casa Bianca (1996), a comedy romp with Jack Lemmon and James Garner as two ex-presidents and their escapades.Despite her age and failing health, she made a small-scale comeback in the English-language dub of Hayao Miyazaki's Il castello errante di Howl (2004) (Howl's Moving Castle, based on the young-adult novel by Diana Wynne Jones) as the Witch of the Waste, but acting endeavors for the beloved actress became increasingly rare. Lauren Bacall died on 12 August 2014, five weeks short of her 90th birthday.",
         "September 16, 1924 in The Bronx, New York City, New York, USA",
         "16.09.1924",
         "The Bronx, New York City, New York, USA",
         "August 12, 2014 in New York City, New York, USA  (stroke)",
         "12.08.2014",
         "New York City, New York, USA  ",
         "stroke",
         "Jason Robards  (4 July 1961 - 10 September 1969) (divorced) (1 child)Humphrey Bogart  (21 May 1945 - 14 January 1957) (his death) (2 children)",
         2,
         1,
         2,
         3
        ],
        [
         "nm0000003",
         "Brigitte Bardot",
         "Brigitte Bardot",
         166,
         "Brigitte Bardot was born on September 28, 1934 in Paris, France. Her father had an engineering degree and worked with his father in the family business. Brigitte's mother encouraged her daughter to take up music and dance, and she proved to be very adept at it. By the time she was 15, Brigitte was trying a modeling career, and found herself in the French magazine Elle. Her incredible beauty readily apparent, Brigitte next tried films. In 1952, she appeared on screen for the first time as Javotte Lemoine in Le trou normand (1952). Two more films followed and it was also the same year she married Roger Vadim (the union lasted 3½ years). Capitalizing on her success in French films, Brigitte made her first American production in Atto d'amore (1953) with Kirk Douglas, but she continued to make films in France. Brigitte's explosive sexuality took the United States by storm, and the effect she had on millions of American men who had not seen a woman like her in a long, long time--if ever--was electric. Rise to the phrase sex kitten and fascination of her in the United States consisted of magazines photographs and dubbed over French films--good, bad or indifferent, her films drew audiences--mainly men--into theaters like lemmings. In 1965, she appeared as herself in the American-made Erasmo il lentigginoso (1965) with James Stewart (she only appeared in one scene). Just before she turned 40, Brigitte retired from movies after filming Colinot l'alzasottane (1973). She prefers life outside of stardom. While it enabled her to become internationally famous, it also carried with it annoyances. It was not anything for her to have fans enter her house or wander around the grounds of her home in the hopes of getting a glimpse of her or to take something that belonged to her. Paparazzi constantly hounded her with their cameras. She has been so soft-hearted that some people even have taken advantage of her generosity. After her life in the spotlight, Brigitte went on to become a leading spokesperson for animal rights and started the Foundation Brigitte Bardot dedicated solely to that cause. Her work in that realm is, perhaps, far greater than any film she could have made. Brigitte has been married to Bernard d'Ormale since 1992 and they reside in St. Tropez with their nearly 50 pets.",
         "September 28, 1934 in Paris, France",
         "28.09.1934",
         "Paris, France",
         null,
         null,
         null,
         null,
         "Bernard d'Ormale  (16 August 1992 - present)Gunter Sachs  (14 July 1966 - 3 July 1969) (divorced)Jacques Charrier  (18 June 1959 - 20 November 1962) (divorced) (1 child)Roger Vadim  (20 December 1952 - 6 December 1957) (divorced)",
         4,
         3,
         1,
         1
        ],
        [
         "nm0000004",
         "John Belushi",
         "John Adam Belushi",
         170,
         "John Belushi was born in Chicago, Illinois, USA, on January 24, 1949, to Agnes Demetri (Samaras) and Adam Anastos Belushi, a restaurant owner. His father was an Albanian immigrant, from Qytezë, and his mother was also of Albanian descent. He grew up in Wheaton, where the family moved when he was six. Though a young hellion in grade school, John became the perfect all-American boy during his high school years where he was co-captain of the Wheaton Central High School football team and was elected homecoming king his senior year. He also developed an interest in acting and appeared in the high school variety show. Encouraged by his drama teacher, John decided to put aside his plans to become a football coach to pursue a career in acting.After graduation in 1967, John performed in summer stock in rural Indiana in a variety of roles from Cardinal Wolsey in Anne of a Thousand Days to a comic detective in Ten Little Indians. In the fall of his freshman year at the University of Wisconsin at Whitewater, John changed his image into a bad-boy appearance by growing his hair long and began to have problems with discipline and structure of attending classes.Dropping out of Wisconsin, John spent the next two years at the College of DuPage, a junior college a few miles from his parents' Wheaton home, where his father began persuading him to become a partner in his restaurant, but John still preferred acting. While attending DuPage, John helped found the West Compass Players, an improv comedy troupe patterned after Chicago's famous Second City ensemble.In 1971, John made the leap to Second City itself where he performed in various on-stage comic performances with others, who included Harold Ramis and Joe Flaherty. John loved his life at Second City where he performed six nights a week, perfecting the physical gonzo style of comedy he later made famous.A year later, John and his live-in girlfriend from his high school years, Judith Belushi-Pisano, moved to New York because John had joined the cast of National Lampoon's Lemmings, an off-Broadway rock musical revue that was originally booked for a six-week run but played to full crowds for nearly 10 months.In 1973, John was hired as a writer for the syndicated National Lampoon's Radio Hour which became the National Lampoon Show in 1975. John's big break came that same year when he joined the ground-breaking TV variety series Il Saturday Night Live (1975) which made him a star. The unpredictable, aggressively physical style of humor that he began on Second City flowered on SNL.In 1978, while still working on Il Saturday Night Live (1975), John appeared in the movie Verso il sud (1978) which starred and was directed by Jack Nicholson. It was here that director John Landis noticed John and decided to cast him in his movie National Lampoon's Animal House (1978). John's minor role as the notorious, beer-swilling Bluto made it a box-office smash and the year's top grossing comedy. Despite appearing in only a dozen scenes, John's performance stole the movie, which portrays college fraternity shenanigans at a small college set in the year 1962.In 1979, John along with fellow SNL regular Dan Aykroyd quit the series to pursue movie projects. John and Dan Aykroyd appeared in minor roles in Steven Spielberg's financially unsuccessful 1941 - Allarme a Hollywood (1979) and, the following year, in John Landis' The Blues Brothers - I fratelli Blues (1980). Around this time, John's drug use began escalating. Cocaine, which was ubiquitous in show-business circles in the 1970's, became his drug of choice. After he first experimented with cocaine in the mid 1970s, John almost immediately became addicted to it. His frequent cocaine sniffing binges became a source of friction between him and Judy, whom he married in 1976.John's love for blues and soul music inspired the Blues Brothers. He and Aykroyd first appeared as Joliet Jake and Elwood Blues, a pair of white soul men dressed in black suits, skinny ties, fedora hats and Rayban sunglasses, as a warm-up act before the telecasts of Il Saturday Night Live (1975). Building on the success of their acts and the release of their album A Briefcase Full of Blues, John and Dan Aykroyd starred in the movie, which gave John a chance to act with his favorite musical heroes including Ray Charles, James Brown and Aretha Franklin.Although John's reputation for being an off-screen party animal is legendary, his generous side is less well known. Using some of his money, he bought his father a ranch outside San Diego for him to live. John helped set up some of his Chicago friends with their own businesses and even financially helped his younger brother, Jim Belushi, who followed his older brother's path to both Second City and Il Saturday Night Live (1975).In 1981, John appeared in the movie Chiamami Aquila (1981), playing a hard-nosed Chicago newspaperman who finds romance in Colorado with eagle expert Blair Brown. That same year, John and Dan Aykroyd appeared again in the movie I vicini di casa (1981), which gave them a chance to reverse roles, with John playing a straight-arrow family man whose life is turned upside down when a wild family man (Aykroyd) moves in next door.In January 1982, John began work on the screenplay for another movie to be titled Noble Rot. Also, John had checked into a bungalow at the Chateau Marmont, a popular celebrity hotel in Los Angeles. John's drug use had been steadily increasing for over a year now, which alarmed his wife and friends, but he continued to promise Judy that he would quit someday. On March 5, 1982, John Belushi was found dead in his hotel room at the age of 33. The local coroner gave the cause of death as a lethal injection of cocaine and heroin. Several years later, John's drug dealing/drug user companion during his final weeks, Cathy Smith, was tried and sentenced to three years in prison for supplying John with the drugs. Close friend James Taylor sang That Lonesome Road at a memorial service at Martha's Vineyard cemetery where John was buried.",
         "January 24, 1949 in Chicago, Illinois, USA",
         "24.01.1949",
         "Chicago, Illinois, USA",
         "March 5, 1982 in Hollywood, Los Angeles, California, USA  (acute cocaine and heroin intoxication)",
         "05.03.1982",
         "Hollywood, Los Angeles, California, USA  ",
         "acute cocaine and heroin intoxication",
         "Judith Belushi-Pisano  (31 December 1976 - 5 March 1982) (his death)",
         1,
         0,
         0,
         0
        ],
        [
         "nm0000005",
         "Ingmar Bergman",
         "Ernst Ingmar Bergman",
         179,
         "Ernst Ingmar Bergman was born July 14, 1918, the son of a priest. The film and T.V. series, Con le migliori intenzioni (1992) is biographical and shows the early marriage of his parents. The film 'Söndagsbarn' depicts a bicycle journey with his father. In the miniseries Conversazioni private (1996) is the trilogy closed. Here, as in 'Den Goda Viljan' Pernilla August play his mother. Note that all three movies are not always full true biographical stories. He began his career early with a puppet theatre which he, his sister and their friends played with. But he was the manager. Strictly professional he begun writing in 1941. He had written a play called 'Kaspers död' (A.K.A. 'Kaspers Death') which was produced the same year. It became his entrance into the movie business as Stina Bergman (not a close relative), from the company S.F. (Swedish Filmindustry), had seen the play and thought that there must be some dramatic talent in young Ingmar. His first job was to save other more famous writers' poor scripts. Under one of that script-saving works he remembered that he had written a novel about his last year as a student. He took the novel, did the save-poor-script job first, then wrote a screenplay on his own novel. When he went back to S.F., he delivered two scripts rather than one. The script was Spasimo (1944) and was the fist Bergman screenplay that was put into film (by Alf Sjöberg). It was also in that movie Bergman did his first professional film-director job. Because Alf Sjöberg was busy, Bergman got the order to shoot the last sequence of the film. Ingmar Bergman is the father of Daniel Bergman, director, and Mats Bergman, actor at the Swedish Royal Dramatic Theater. Ingmar Bergman was also C.E.O. of the same theatre between 1963-1966, where he hired almost every professional actor in Sweden. In 1976 he had a famous tax problem. Bergman had trusted other people to advise him on his finances, but it turned out to be very bad advice. Bergman had to leave the country immediately, and so he went to Germany. A few years later he returned to Sweden and made his last theatrical film Fanny & Alexander (1982) (A.K.A. 'Fanny and Alexander'). In later life he retired from movie directing, but still wrote scripts for film and T.V. and directed plays at the Swedish Royal Dramatic Theatre for many years. He died peacefully in his sleep on July 30, 2007.",
         "July 14, 1918 in Uppsala, Uppsala län, Sweden",
         "14.07.1918",
         "Uppsala, Uppsala län, Sweden",
         "July 30, 2007 in Fårö, Gotlands län, Sweden  (natural causes)",
         "30.07.2007",
         "Fårö, Gotlands län, Sweden  ",
         "natural causes",
         "Ingrid Bergman  (11 November 1971 - 20 May 1995) (her death) (1 child)Käbi Laretei  (1959 - 1969) (divorced) (1 child)Gun Grut  (1951 - 1959) (divorced) (1 child)Ellen Bergman  (22 July 1945 - 1950) (divorced) (4 children)Else Fisher  (25 March 1943 - 1945) (divorced) (1 child)",
         5,
         4,
         5,
         8
        ],
        [
         "nm0000006",
         "Ingrid Bergman",
         "Ingrid Bergman",
         178,
         "Ingrid Bergman was one of the greatest actresses from Hollywood's lamented Golden Era. Her natural and unpretentious beauty and her immense acting talent made her one of the most celebrated figures in the history of American cinema. Bergman is also one of the most Oscar-awarded actresses, tied with Meryl Streep, both second only to Katharine Hepburn.Ingrid Bergman was born on August 29, 1915 in Stockholm, Sweden, to a German mother, Frieda Henrietta (Adler), and a Swedish father, Justus Samuel Bergman, an artist and photographer. Her mother died when she was only two and her father died when she was 12. She went to live with an elderly uncle.The woman who would be one of the top stars in Hollywood in the 1940s had decided to become an actress after finishing her formal schooling. She had had a taste of acting at age 17 when she played an uncredited role of a girl standing in line in the Swedish film Landskamp (1932) in 1932 - not much of a beginning for a girl who would be known as Sweden's illustrious gift to Hollywood. Her parents died when she was just a girl and the uncle she lived with didn't want to stand in the way of Ingrid's dream. The next year she enrolled at the Royal Dramatic Theatre School in Stockholm but decided that stage acting was not for her. It would be three more years before she would have another chance at a film. When she did, it was more than just a bit part. The film in question was Munkbrogreven (1935), where she had a speaking part as Elsa Edlund. After several films that year that established her as a class actress, Ingrid appeared in La sposa scomparsa (1936) as Anita Hoffman. Luckily for her, American producer David O. Selznick saw it and sent a representative from Selznick International Pictures to gain rights to the story and have Ingrid signed to a contract. Once signed, she came to California and starred in United Artists' 1939 remake of her 1936 film, Intermezzo (1939), reprising her original role. The film was a hit and so was Ingrid.Her beauty was unlike anything the movie industry had seen before and her acting was superb. Hollywood was about to find out that they had the most versatile actress the industry had ever seen. Here was a woman who truly cared about the craft she represented. The public fell in love with her. Ingrid was under contract to go back to Sweden to film Solo una notte (1939) in 1939 and Juninatten (1940) in 1940. Back in the US she appeared in three films, all well-received. She made only one film in 1942, but it was the classic Casablanca (1942) opposite Humphrey Bogart.Ingrid was choosing her roles well. In 1943 she was nominated for an Academy Award for her role in Per chi suona la campana (1943), the only film she made that year. The critics and public didn't forget her when she made Angoscia (1944) the following year--her role of Paula Alquist got her the Oscar for Best Actress. In 1945 Ingrid played in Io ti salverò (1945), Saratoga (1945) and Le campane di Santa Maria (1945), for which she received her third Oscar nomination for her role of Sister Benedict. She made no films in 1947, but bounced back with a fourth nomination for Giovanna d'Arco (1948). In 1949 she went to Italy to film Stromboli (Terra di Dio) (1950), directed by Roberto Rossellini. She fell in love with him and left her husband, Dr. Peter Lindstrom, and daughter, Pia Lindström. America's moral guardians in the press and the pulpits were outraged. She was pregnant and decided to remain in Italy, where her son was born. In 1952 Ingrid had twins, Isotta and Isabella Rossellini, who became an outstanding actress in her own right, as did Pia.Ingrid continued to make films in Italy and finally returned to Hollywood in 1956 in the title role in Anastasia (1956), which was filmed in England. For this she won her second Academy Award. She had scarcely missed a beat. Ingrid continued to bounce between Europe and the US making movies, and fine ones at that. A film with Ingrid Bergman was sure to be a quality production. In her final big-screen performance in 1978's Sinfonia d'autunno (1978) she had her final Academy Award nomination. Though she didn't win, many felt it was the most sterling performance of her career. Ingrid retired, but not before she gave an outstanding performance in the mini-series Una donna di nome Golda (1982), a film about Israeli prime minister Golda Meir. For this she won an Emmy Award as Best Actress, but, unfortunately, she did not live to see the fruits of her labor.Ingrid died from cancer on August 29, 1982, her 67th birthday, in London, England.",
         "August 29, 1915 in Stockholm, Sweden",
         "29.08.1915",
         "Stockholm, Sweden",
         "August 29, 1982 in Chelsea, London, England, UK  (lymphoma complications following a breast cancer operation)",
         "29.08.1982",
         "Chelsea, London, England, UK  ",
         "lymphoma complications following a breast cancer operation",
         "Lars Schmidt  (21 December 1958 - 1978) (divorced)Roberto Rossellini  (24 May 1950 - 7 November 1957) (divorced) (3 children)Dr. Petter Aron Lindström  (10 July 1937 - 9 February 1950) (divorced) (1 child)",
         3,
         3,
         2,
         4
        ],
        [
         "nm0000007",
         "Humphrey Bogart",
         "Humphrey DeForest Bogart",
         173,
         "Humphrey DeForest Bogart was born in New York City, New York, to Maud Humphrey, a famed magazine illustrator and suffragette, and Belmont DeForest Bogart, a moderately wealthy surgeon (who was secretly addicted to opium). Bogart was educated at Trinity School, NYC, and was sent to Phillips Academy in Andover, Massachusetts, in preparation for medical studies at Yale. He was expelled from Phillips and joined the U.S. Naval Reserve. From 1920 to 1922, he managed a stage company owned by family friend William A. Brady (the father of actress Alice Brady), performing a variety of tasks at Brady's film studio in New York. He then began regular stage performances. Alexander Woollcott described his acting in a 1922 play as inadequate. In 1930, he gained a contract with Fox, his feature film debut in a ten-minute short, Broadway's Like That (1930), co-starring Ruth Etting and Joan Blondell. Fox released him after two years. After five years of stage and minor film roles, he had his breakthrough role in La foresta pietrificata (1936) from Warner Bros. He won the part over Edward G. Robinson only after the star, Leslie Howard, threatened Warner Bros. that he would quit unless Bogart was given the key role of Duke Mantee, which he had played in the Broadway production with Howard. The film was a major success and led to a long-term contract with Warner Bros. From 1936 to 1940, Bogart appeared in 28 films, usually as a gangster, twice in Westerns and even a horror film. His landmark year was 1941 (often capitalizing on parts George Raft had stupidly rejected) with roles in classics such as Una pallottola per Roy (1941) and as Sam Spade in one of his most fondly remembered films, Il mistero del falco (1941). These were followed by Casablanca (1942), Il grande sonno (1946), and L'isola di corallo (1948). Bogart, despite his erratic education, was incredibly well-read and he favored writers and intellectuals within his small circle of friends. In 1947, he joined wife Lauren Bacall and other actors protesting the House Un-American Activities Committee witch hunts. He also formed his own production company, and the next year made Il tesoro della Sierra Madre (1948). Bogie won the best actor Academy Award for La regina d'Africa (1951) and was nominated for Casablanca (1942) and as Captain Queeg in L'ammutinamento del Caine (1954), a film made when he was already seriously ill. He died in his sleep at his Hollywood home following surgeries and a battle with throat cancer.",
         "December 25, 1899 in New York City, New York, USA",
         "1899-12-25",
         "New York City, New York, USA",
         "January 14, 1957 in Los Angeles, California, USA  (esophageal cancer)",
         "14.01.1957",
         "Los Angeles, California, USA  ",
         "esophageal cancer",
         "Lauren Bacall  (21 May 1945 - 14 January 1957) (his death) (2 children)Mayo Methot  (21 August 1938 - 10 May 1945) (divorced)Mary Philips  (3 April 1928 - 11 August 1938) (divorced)Helen Menken  (20 May 1926 - 18 November 1927) (divorced)",
         4,
         3,
         1,
         2
        ],
        [
         "nm0000009",
         "Richard Burton",
         "Richard Walter Jenkins",
         178,
         "Probably best-remembered for his turbulent personal life with Elizabeth Taylor (whom he married twice), Richard Burton was nonetheless also regarded as an often brilliant British actor of the post-WWII period.Burton was born Richard Walter Jenkins in 1925 into a Welsh (Cymraeg)-speaking family in Pontrhydyfen to Edith Maude (Thomas) and Richard Walter Jenkins, a coal miner. The twelfth of thirteen children, his mother died while he was a toddler and his father later abandoned the family, leaving him to be raised by an elder sister, Cecilia. An avid fan of Shakespeare, poetry and reading, he once said home is where the books are. He received a scholarship to Oxford University to study acting and made his first stage appearance in 1944.His first film appearances were in routine British movies such as The Last Days of Dolwyn (1949), Tempesta a Liverpool (1950) and La quinta offensiva (1951). Then he started to appear in Hollywood movies such as Mia cugina Rachele (1952), La tunica (1953) and Alessandro il grande (1956), added to this he was also spending considerable time in stage productions, both in the UK and USA, often to splendid reviews. The late 1950s was an exciting and inventive time in UK cinema, often referred to as the British New Wave, and Burton was right in the thick of things, and showcased a sensational performance in I giovani arrabbiati (1959). He also appeared with a cavalcade of international stars in the World War II magnum opus Il giorno più lungo (1962), and then onto arguably his most notorious role as that of Marc Antony opposite Elizabeth Taylor in the hugely expensive Cleopatra (1963). This was, of course, the film that kick-started their fiery and passionate romance (plus two marriages), and the two of them appeared in several productions over the next few years including International Hotel (1963), Castelli di sabbia (1965), the dynamic Chi ha paura di Virginia Woolf? (1966) and La bisbetica domata (1967), as well as box office flops like I commedianti (1967). Burton did better when he was off on his own giving higher caliber performances, such as those in Becket e il suo re (1964), the film adaptation of the Tennessee Williams play La notte dell'iguana (1964), the brilliant espionage thriller La spia che venne dal freddo (1965) and alongside Clint Eastwood in the World War II action adventure film Dove osano le aquile (1968).His audience appeal began to decline somewhat by the end of the 1960s as fans turned to younger, more virile male stars, however Burton was superb in Anna dei mille giorni (1969) as King Henry VIII, he put on a reasonable show in the boring Attacco a Rommel (1971), was over the top in the awful Il mascalzone (1971), gave sleepwalking performances in Una faccia di c... (1972) and Barbablù (1972), and was wildly miscast in the ludicrous L'assassinio di Trotsky (1972).By the early 1970s, quality male lead roles were definitely going to other stars, and Burton found himself appearing in some movies of dubious quality, just to pay the bills and support family, including Divorzia lui divorzia lei (1973) (his last on-screen appearance with Taylor), L'uomo del clan (1974), Breve incontro (1974), Jackpot (1974) (which was never completed) and L'esorcista II - L'eretico (1977). However, he won another Oscar nomination for his excellent performance as a concerned psychiatrist in Equus (1977). He appeared with fellow acting icons Richard Harris and Roger Moore in I 4 dell'oca selvaggia (1978) about mercenaries in South Africa. While the film had a modest initial run, over the past thirty-five years it has picked up quite a cult following. His final performances were as the wily inquisitor O'Brien in the most recent film version of George Orwell's dystopian Orwell 1984 (1984), in which he won good reviews, and in the TV mini series Ellis Island (1984). He passed away on August 5, 1984 in Celigny, Switzerland from a cerebral hemorrhage.",
         "November 10, 1925 in Pontrhydyfen, Wales, UK",
         "10.11.1925",
         "Pontrhydyfen, Wales, UK",
         "August 5, 1984 in Céligny, Geneva, Switzerland  (cerebral hemorrhage)",
         "05.08.1984",
         "Céligny, Geneva, Switzerland  ",
         "cerebral hemorrhage",
         "Sally Burton  (3 July 1983 - 5 August 1984) (his death)Susan Hunt  (21 August 1976 - 27 February 1983) (divorced)Elizabeth Taylor  (10 October 1975 - 29 July 1976) (divorced)Elizabeth Taylor  (15 March 1964 - 26 June 1974) (divorced) (1 child)Sybil Williams  (5 February 1949 - 5 December 1963) (divorced) (2 children)",
         5,
         4,
         2,
         3
        ],
        [
         "nm0000010",
         "James Cagney",
         "James Francis Cagney",
         165,
         "One of Hollywood's preeminent male stars of all time, James Cagney was also an accomplished dancer and easily played light comedy. James Francis Cagney was born on the Lower East Side of Manhattan in New York City, to Carolyn (Nelson) and James Francis Cagney, Sr., who was a bartender and amateur boxer. Cagney was of Norwegian (from his maternal grandfather) and Irish descent. Ending three decades on the screen, he retired to his farm in Stanfordville, New York (some 77 miles/124 km. north of his New York City birthplace), after starring in Billy Wilder's Uno, due, tre! (1961). He emerged from retirement to star in the 1981 screen adaptation of E.L. Doctorow's novel Ragtime (Ragtime (1981)), in which he was reunited with his frequent co-star of the 1930s, Pat O'Brien, and which was his last theatrical film and O'Brien's as well). Cagney's final performance came in the title role of the made-for-TV movie Terrible Joe Moran (1984), in which he played opposite Art Carney.",
         "July 17, 1899 in New York City, New York, USA",
         "1899-07-17",
         "New York City, New York, USA",
         "March 30, 1986 in Stanfordville, New York, USA  (heart attack following illness from diabetes)",
         "30.03.1986",
         "Stanfordville, New York, USA  ",
         "heart attack following illness from diabetes",
         "Frances Cagney  (28 September 1922 - 30 March 1986) (his death) (2 children)",
         1,
         0,
         1,
         2
        ],
        [
         "nm0000011",
         "Gary Cooper",
         "Frank James Cooper",
         191,
         "Born to Alice Cooper and Charles Cooper. Gary attended school at Dunstable school England, Helena Montana and Grinnell College, Grinnell, Iowa (then called Iowa College). His first stage experience was during high school and college. Afterwards, he worked as an extra for one year before getting a part in a two-reeler by the independent producer Hans Tiesler . Eileen Sedgwick was his first leading lady. He then appeared in Fiore del deserto (1926) for United Artists before moving to Paramount. While there he appeared in a small part in Ali (1927), Cosetta (1927), and other films.",
         "May 7, 1901 in Helena, Montana, USA",
         "07.05.1901",
         "Helena, Montana, USA",
         "May 13, 1961 in Beverly Hills, Los Angeles, California, USA  (prostate cancer)",
         "13.05.1961",
         "Beverly Hills, Los Angeles, California, USA  ",
         "prostate cancer",
         "Sandra Shaw  (15 December 1933 - 13 May 1961) (his death) (1 child)",
         1,
         0,
         1,
         1
        ]
       ],
       "datasetInfos": [
        {
         "name": "namesDf",
         "schema": {
          "fields": [
           {
            "metadata": {},
            "name": "imdb_name_id",
            "nullable": true,
            "type": "string"
           },
           {
            "metadata": {},
            "name": "name",
            "nullable": true,
            "type": "string"
           },
           {
            "metadata": {},
            "name": "birth_name",
            "nullable": true,
            "type": "string"
           },
           {
            "metadata": {},
            "name": "height",
            "nullable": true,
            "type": "integer"
           },
           {
            "metadata": {},
            "name": "bio",
            "nullable": true,
            "type": "string"
           },
           {
            "metadata": {},
            "name": "birth_details",
            "nullable": true,
            "type": "string"
           },
           {
            "metadata": {},
            "name": "date_of_birth",
            "nullable": true,
            "type": "string"
           },
           {
            "metadata": {},
            "name": "place_of_birth",
            "nullable": true,
            "type": "string"
           },
           {
            "metadata": {},
            "name": "death_details",
            "nullable": true,
            "type": "string"
           },
           {
            "metadata": {},
            "name": "date_of_death",
            "nullable": true,
            "type": "string"
           },
           {
            "metadata": {},
            "name": "place_of_death",
            "nullable": true,
            "type": "string"
           },
           {
            "metadata": {},
            "name": "reason_of_death",
            "nullable": true,
            "type": "string"
           },
           {
            "metadata": {},
            "name": "spouses_string",
            "nullable": true,
            "type": "string"
           },
           {
            "metadata": {},
            "name": "spouses",
            "nullable": true,
            "type": "integer"
           },
           {
            "metadata": {},
            "name": "divorces",
            "nullable": true,
            "type": "integer"
           },
           {
            "metadata": {},
            "name": "spouses_with_children",
            "nullable": true,
            "type": "integer"
           },
           {
            "metadata": {},
            "name": "children",
            "nullable": true,
            "type": "integer"
           }
          ],
          "type": "struct"
         },
         "tableIdentifier": null,
         "typeStr": "org.apache.spark.sql.DataFrame"
        }
       ],
       "dbfsResultPath": null,
       "isJsonSchema": true,
       "metadata": {},
       "overflow": false,
       "plotOptions": {
        "customPlotOptions": {},
        "displayType": "table",
        "pivotAggregation": null,
        "pivotColumns": null,
        "xColumns": null,
        "yColumns": null
       },
       "removedWidgets": [],
       "schema": [
        {
         "metadata": "{}",
         "name": "imdb_name_id",
         "type": "\"string\""
        },
        {
         "metadata": "{}",
         "name": "name",
         "type": "\"string\""
        },
        {
         "metadata": "{}",
         "name": "birth_name",
         "type": "\"string\""
        },
        {
         "metadata": "{}",
         "name": "height",
         "type": "\"integer\""
        },
        {
         "metadata": "{}",
         "name": "bio",
         "type": "\"string\""
        },
        {
         "metadata": "{}",
         "name": "birth_details",
         "type": "\"string\""
        },
        {
         "metadata": "{}",
         "name": "date_of_birth",
         "type": "\"string\""
        },
        {
         "metadata": "{}",
         "name": "place_of_birth",
         "type": "\"string\""
        },
        {
         "metadata": "{}",
         "name": "death_details",
         "type": "\"string\""
        },
        {
         "metadata": "{}",
         "name": "date_of_death",
         "type": "\"string\""
        },
        {
         "metadata": "{}",
         "name": "place_of_death",
         "type": "\"string\""
        },
        {
         "metadata": "{}",
         "name": "reason_of_death",
         "type": "\"string\""
        },
        {
         "metadata": "{}",
         "name": "spouses_string",
         "type": "\"string\""
        },
        {
         "metadata": "{}",
         "name": "spouses",
         "type": "\"integer\""
        },
        {
         "metadata": "{}",
         "name": "divorces",
         "type": "\"integer\""
        },
        {
         "metadata": "{}",
         "name": "spouses_with_children",
         "type": "\"integer\""
        },
        {
         "metadata": "{}",
         "name": "children",
         "type": "\"integer\""
        }
       ],
       "type": "table"
      }
     },
     "output_type": "display_data"
    }
   ],
   "source": [
    "%scala\n",
    "// Definicja ścieżki do pliku\n",
    "val filePath = \"dbfs:/FileStore/tables/Files/names.csv\"\n",
    "\n",
    "// Wczytanie pliku CSV do DataFrame\n",
    "val namesDf = spark.read\n",
    "  .format(\"csv\")\n",
    "  .option(\"header\", \"true\")\n",
    "  .option(\"inferSchema\", \"true\")\n",
    "  .load(filePath)\n",
    "\n",
    "// Wyświetlenie schematu tabeli\n",
    "namesDf.printSchema()\n",
    "\n",
    "// Wyświetlenie zawartości katalogu\n",
    "display(namesDf.limit(10))"
   ]
  },
  {
   "cell_type": "markdown",
   "metadata": {
    "application/vnd.databricks.v1+cell": {
     "cellMetadata": {
      "byteLimit": 2048000,
      "rowLimit": 10000
     },
     "inputWidgets": {},
     "nuid": "1d5b666f-59e4-4e47-848f-f6b1263154b3",
     "showTitle": false,
     "tableResultSettingsMap": {},
     "title": ""
    }
   },
   "source": [
    "# ZADANIE 3"
   ]
  },
  {
   "cell_type": "markdown",
   "metadata": {
    "application/vnd.databricks.v1+cell": {
     "cellMetadata": {
      "byteLimit": 2048000,
      "rowLimit": 10000
     },
     "inputWidgets": {},
     "nuid": "984d548a-4b89-4fbc-8235-cf8bd7285553",
     "showTitle": false,
     "tableResultSettingsMap": {},
     "title": ""
    }
   },
   "source": [
    "Użycie Read Modes.  \n",
    "\n",
    "Wykorzystaj posiadane pliki bądź użyj nowe.  Użyj Sparka do odczytania jednego pliku i użyj wszystkich typów read modes. Poprawny plik nie wywoła żadnych efektów, więc popsuj dane tak aby każda z read modes zadziałał. "
   ]
  },
  {
   "cell_type": "code",
   "execution_count": 0,
   "metadata": {
    "application/vnd.databricks.v1+cell": {
     "cellMetadata": {
      "byteLimit": 2048000,
      "rowLimit": 10000
     },
     "inputWidgets": {},
     "nuid": "80f1110e-c0e4-4812-8ae5-de26dfc76fcf",
     "showTitle": false,
     "tableResultSettingsMap": {},
     "title": ""
    }
   },
   "outputs": [
    {
     "output_type": "display_data",
     "data": {
      "text/html": [
       "<style scoped>\n",
       "  .ansiout {\n",
       "    display: block;\n",
       "    unicode-bidi: embed;\n",
       "    white-space: pre-wrap;\n",
       "    word-wrap: break-word;\n",
       "    word-break: break-all;\n",
       "    font-family: \"Menlo\", \"Monaco\", \"Consolas\", \"Ubuntu Mono\", \"Source Code Pro\", monospace;\n",
       "    font-size: 13px;\n",
       "    color: #555;\n",
       "    margin-left: 4px;\n",
       "    line-height: 19px;\n",
       "  }\n",
       "</style>\n",
       "<div class=\"ansiout\">+----+---------------+----------+----------+\n",
       "  id|           name|birth_year|death_year|\n",
       "+----+---------------+----------+----------+\n",
       "null|   Fred Astaire|      null|       177|\n",
       "null|  Lauren Bacall|      null|       174|\n",
       "null|Brigitte Bardot|      null|       166|\n",
       "null|   John Belushi|      null|       170|\n",
       "null| Ingmar Bergman|      null|       179|\n",
       "null| Ingrid Bergman|      null|       178|\n",
       "null|Humphrey Bogart|      null|       173|\n",
       "null| Richard Burton|      null|       178|\n",
       "null|   James Cagney|      null|       165|\n",
       "null|    Gary Cooper|      null|       191|\n",
       "+----+---------------+----------+----------+\n",
       "only showing top 10 rows\n",
       "\n",
       "+---+----+----------+----------+\n",
       " id|name|birth_year|death_year|\n",
       "+---+----+----------+----------+\n",
       "+---+----+----------+----------+\n",
       "\n",
       "FAILFAST mode error: Job aborted due to stage failure: Task 0 in stage 9.0 failed 1 times, most recent failure: Lost task 0.0 in stage 9.0 (TID 28) (ip-10-172-191-7.us-west-2.compute.internal executor driver): com.databricks.sql.io.FileReadException: Error while reading file dbfs:/FileStore/tables/Files/names.csv.\n",
       "\tat org.apache.spark.sql.execution.datasources.FileScanRDD$$anon$1$$anon$2.logFileNameAndThrow(FileScanRDD.scala:704)\n",
       "\tat org.apache.spark.sql.execution.datasources.FileScanRDD$$anon$1$$anon$2.getNext(FileScanRDD.scala:673)\n",
       "\tat org.apache.spark.util.NextIterator.hasNext(NextIterator.scala:73)\n",
       "\tat org.apache.spark.sql.execution.datasources.FileScanRDD$$anon$1.nextIterator(FileScanRDD.scala:796)\n",
       "\tat org.apache.spark.sql.execution.datasources.FileScanRDD$$anon$1.$anonfun$hasNext$1(FileScanRDD.scala:496)\n",
       "\tat scala.runtime.java8.JFunction0$mcZ$sp.apply(JFunction0$mcZ$sp.java:23)\n",
       "\tat com.databricks.spark.util.ExecutorFrameProfiler$.record(ExecutorFrameProfiler.scala:110)\n",
       "\tat org.apache.spark.sql.execution.datasources.FileScanRDD$$anon$1.hasNext(FileScanRDD.scala:486)\n",
       "\tat scala.collection.Iterator$$anon$10.hasNext(Iterator.scala:460)\n",
       "\tat org.apache.spark.sql.catalyst.expressions.GeneratedClass$GeneratedIteratorForCodegenStage1.processNext(Unknown Source)\n",
       "\tat org.apache.spark.sql.execution.BufferedRowIterator.hasNext(BufferedRowIterator.java:43)\n",
       "\tat org.apache.spark.sql.execution.WholeStageCodegenExec$$anon$1.hasNext(WholeStageCodegenExec.scala:761)\n",
       "\tat org.apache.spark.sql.execution.collect.UnsafeRowBatchUtils$.encodeUnsafeRows(UnsafeRowBatchUtils.scala:82)\n",
       "\tat org.apache.spark.sql.execution.collect.Collector.$anonfun$processFunc$1(Collector.scala:208)\n",
       "\tat org.apache.spark.scheduler.ResultTask.$anonfun$runTask$3(ResultTask.scala:75)\n",
       "\tat com.databricks.spark.util.ExecutorFrameProfiler$.record(ExecutorFrameProfiler.scala:110)\n",
       "\tat org.apache.spark.scheduler.ResultTask.$anonfun$runTask$1(ResultTask.scala:75)\n",
       "\tat com.databricks.spark.util.ExecutorFrameProfiler$.record(ExecutorFrameProfiler.scala:110)\n",
       "\tat org.apache.spark.scheduler.ResultTask.runTask(ResultTask.scala:55)\n",
       "\tat org.apache.spark.scheduler.Task.doRunTask(Task.scala:179)\n",
       "\tat org.apache.spark.scheduler.Task.$anonfun$run$5(Task.scala:142)\n",
       "\tat com.databricks.unity.EmptyHandle$.runWithAndClose(UCSHandle.scala:126)\n",
       "\tat org.apache.spark.scheduler.Task.$anonfun$run$1(Task.scala:142)\n",
       "\tat com.databricks.spark.util.ExecutorFrameProfiler$.record(ExecutorFrameProfiler.scala:110)\n",
       "\tat org.apache.spark.scheduler.Task.run(Task.scala:97)\n",
       "\tat org.apache.spark.executor.Executor$TaskRunner.$anonfun$run$13(Executor.scala:904)\n",
       "\tat org.apache.spark.util.Utils$.tryWithSafeFinally(Utils.scala:1741)\n",
       "\tat org.apache.spark.executor.Executor$TaskRunner.$anonfun$run$4(Executor.scala:907)\n",
       "\tat scala.runtime.java8.JFunction0$mcV$sp.apply(JFunction0$mcV$sp.java:23)\n",
       "\tat com.databricks.spark.util.ExecutorFrameProfiler$.record(ExecutorFrameProfiler.scala:110)\n",
       "\tat org.apache.spark.executor.Executor$TaskRunner.run(Executor.scala:761)\n",
       "\tat java.util.concurrent.ThreadPoolExecutor.runWorker(ThreadPoolExecutor.java:1149)\n",
       "\tat java.util.concurrent.ThreadPoolExecutor$Worker.run(ThreadPoolExecutor.java:624)\n",
       "\tat java.lang.Thread.run(Thread.java:750)\n",
       "Caused by: org.apache.spark.SparkException: Malformed records are detected in record parsing. Parse Mode: FAILFAST. To process malformed records as null result, try setting the option 'mode' as 'PERMISSIVE'.\n",
       "\tat org.apache.spark.sql.errors.QueryExecutionErrors$.malformedRecordsDetectedInRecordParsingError(QueryExecutionErrors.scala:1936)\n",
       "\tat org.apache.spark.sql.catalyst.util.FailureSafeParser.parse(FailureSafeParser.scala:103)\n",
       "\tat org.apache.spark.sql.catalyst.csv.UnivocityParser$.$anonfun$parseIterator$2(UnivocityParser.scala:507)\n",
       "\tat scala.collection.Iterator$$anon$11.nextCur(Iterator.scala:486)\n",
       "\tat scala.collection.Iterator$$anon$11.hasNext(Iterator.scala:492)\n",
       "\tat org.apache.spark.util.CompletionIterator.hasNext(CompletionIterator.scala:31)\n",
       "\tat scala.collection.Iterator$$anon$10.hasNext(Iterator.scala:460)\n",
       "\tat org.apache.spark.sql.execution.datasources.FileScanRDD$$anon$1$$anon$2.getNext(FileScanRDD.scala:619)\n",
       "\t... 32 more\n",
       "Caused by: org.apache.spark.sql.catalyst.util.BadRecordException: org.apache.spark.SparkRuntimeException: [MALFORMED_CSV_RECORD] Malformed CSV record: &quot;nm0000001&quot;,&quot;Fred Astaire&quot;,&quot;Frederic Austerlitz Jr.&quot;,&quot;177&quot;,&quot;Fred Astaire was born in Omaha, Nebraska, to Johanna (Geilus) and Fritz Austerlitz, a brewer. Fred entered show business at age 5. He was successful both in vaudeville and on Broadway in partnership with his sister, Adele Astaire. After Adele retired to marry in 1932, Astaire headed to Hollywood. Signed to RKO, he was loaned to MGM to appear in La danza di Venere (1933) before starting work on RKO's Carioca (1933). In the latter film, he began his highly successful partnership with Ginger Rogers, with whom he danced in 9 RKO pictures. During these years, he was also active in recording and radio. On film, Astaire later appeared opposite a number of partners through various studios. After a temporary retirement in 1945-7, during which he opened Fred Astaire Dance Studios, Astaire returned to film to star in more musicals through 1957. He subsequently performed a number of straight dramatic roles in film and TV.&quot;,&quot;May 10, 1899 in Omaha, Nebraska, USA&quot;,&quot;1899-05-10&quot;,&quot;Omaha, Nebraska, USA&quot;,&quot;June 22, 1987 in Los Angeles, California, USA  (pneumonia)&quot;,&quot;22.06.1987&quot;,&quot;Los Angeles, California, USA  &quot;,&quot;pneumonia&quot;,&quot;Robyn Smith  (27 June 1980 - 22 June 1987) (his death)Phyllis Livingston Potter  (12 July 1933 - 13 September 1954) (her death) (2 children)&quot;,&quot;2&quot;,&quot;0&quot;,&quot;1&quot;,&quot;2&quot;\n",
       "Caused by: org.apache.spark.SparkRuntimeException: [MALFORMED_CSV_RECORD] Malformed CSV record: &quot;nm0000001&quot;,&quot;Fred Astaire&quot;,&quot;Frederic Austerlitz Jr.&quot;,&quot;177&quot;,&quot;Fred Astaire was born in Omaha, Nebraska, to Johanna (Geilus) and Fritz Austerlitz, a brewer. Fred entered show business at age 5. He was successful both in vaudeville and on Broadway in partnership with his sister, Adele Astaire. After Adele retired to marry in 1932, Astaire headed to Hollywood. Signed to RKO, he was loaned to MGM to appear in La danza di Venere (1933) before starting work on RKO's Carioca (1933). In the latter film, he began his highly successful partnership with Ginger Rogers, with whom he danced in 9 RKO pictures. During these years, he was also active in recording and radio. On film, Astaire later appeared opposite a number of partners through various studios. After a temporary retirement in 1945-7, during which he opened Fred Astaire Dance Studios, Astaire returned to film to star in more musicals through 1957. He subsequently performed a number of straight dramatic roles in film and TV.&quot;,&quot;May 10, 1899 in Omaha, Nebraska, USA&quot;,&quot;1899-05-10&quot;,&quot;Omaha, Nebraska, USA&quot;,&quot;June 22, 1987 in Los Angeles, California, USA  (pneumonia)&quot;,&quot;22.06.1987&quot;,&quot;Los Angeles, California, USA  &quot;,&quot;pneumonia&quot;,&quot;Robyn Smith  (27 June 1980 - 22 June 1987) (his death)Phyllis Livingston Potter  (12 July 1933 - 13 September 1954) (her death) (2 children)&quot;,&quot;2&quot;,&quot;0&quot;,&quot;1&quot;,&quot;2&quot;\n",
       "\tat org.apache.spark.sql.errors.QueryExecutionErrors$.malformedCSVRecordError(QueryExecutionErrors.scala:1703)\n",
       "\tat org.apache.spark.sql.catalyst.csv.UnivocityParser.convert(UnivocityParser.scala:346)\n",
       "\tat org.apache.spark.sql.catalyst.csv.UnivocityParser.$anonfun$parse$2(UnivocityParser.scala:321)\n",
       "\tat org.apache.spark.sql.catalyst.csv.UnivocityParser$.$anonfun$parseIterator$1(UnivocityParser.scala:499)\n",
       "\tat org.apache.spark.sql.catalyst.util.FailureSafeParser.parse(FailureSafeParser.scala:92)\n",
       "\tat org.apache.spark.sql.catalyst.csv.UnivocityParser$.$anonfun$parseIterator$2(UnivocityParser.scala:507)\n",
       "\tat scala.collection.Iterator$$anon$11.nextCur(Iterator.scala:486)\n",
       "\tat scala.collection.Iterator$$anon$11.hasNext(Iterator.scala:492)\n",
       "\tat org.apache.spark.util.CompletionIterator.hasNext(CompletionIterator.scala:31)\n",
       "\tat scala.collection.Iterator$$anon$10.hasNext(Iterator.scala:460)\n",
       "\tat org.apache.spark.sql.execution.datasources.FileScanRDD$$anon$1$$anon$2.getNext(FileScanRDD.scala:619)\n",
       "\tat org.apache.spark.util.NextIterator.hasNext(NextIterator.scala:73)\n",
       "\tat org.apache.spark.sql.execution.datasources.FileScanRDD$$anon$1.nextIterator(FileScanRDD.scala:796)\n",
       "\tat org.apache.spark.sql.execution.datasources.FileScanRDD$$anon$1.$anonfun$hasNext$1(FileScanRDD.scala:496)\n",
       "\tat scala.runtime.java8.JFunction0$mcZ$sp.apply(JFunction0$mcZ$sp.java:23)\n",
       "\tat com.databricks.spark.util.ExecutorFrameProfiler$.record(ExecutorFrameProfiler.scala:110)\n",
       "\tat org.apache.spark.sql.execution.datasources.FileScanRDD$$anon$1.hasNext(FileScanRDD.scala:486)\n",
       "\tat scala.collection.Iterator$$anon$10.hasNext(Iterator.scala:460)\n",
       "\tat org.apache.spark.sql.catalyst.expressions.GeneratedClass$GeneratedIteratorForCodegenStage1.processNext(Unknown Source)\n",
       "\tat org.apache.spark.sql.execution.BufferedRowIterator.hasNext(BufferedRowIterator.java:43)\n",
       "\tat org.apache.spark.sql.execution.WholeStageCodegenExec$$anon$1.hasNext(WholeStageCodegenExec.scala:761)\n",
       "\tat org.apache.spark.sql.execution.collect.UnsafeRowBatchUtils$.encodeUnsafeRows(UnsafeRowBatchUtils.scala:82)\n",
       "\tat org.apache.spark.sql.execution.collect.Collector.$anonfun$processFunc$1(Collector.scala:208)\n",
       "\tat org.apache.spark.scheduler.ResultTask.$anonfun$runTask$3(ResultTask.scala:75)\n",
       "\tat com.databricks.spark.util.ExecutorFrameProfiler$.record(ExecutorFrameProfiler.scala:110)\n",
       "\tat org.apache.spark.scheduler.ResultTask.$anonfun$runTask$1(ResultTask.scala:75)\n",
       "\tat com.databricks.spark.util.ExecutorFrameProfiler$.record(ExecutorFrameProfiler.scala:110)\n",
       "\tat org.apache.spark.scheduler.ResultTask.runTask(ResultTask.scala:55)\n",
       "\tat org.apache.spark.scheduler.Task.doRunTask(Task.scala:179)\n",
       "\tat org.apache.spark.scheduler.Task.$anonfun$run$5(Task.scala:142)\n",
       "\tat com.databricks.unity.EmptyHandle$.runWithAndClose(UCSHandle.scala:126)\n",
       "\tat org.apache.spark.scheduler.Task.$anonfun$run$1(Task.scala:142)\n",
       "\tat com.databricks.spark.util.ExecutorFrameProfiler$.record(ExecutorFrameProfiler.scala:110)\n",
       "\tat org.apache.spark.scheduler.Task.run(Task.scala:97)\n",
       "\tat org.apache.spark.executor.Executor$TaskRunner.$anonfun$run$13(Executor.scala:904)\n",
       "\tat org.apache.spark.util.Utils$.tryWithSafeFinally(Utils.scala:1741)\n",
       "\tat org.apache.spark.executor.Executor$TaskRunner.$anonfun$run$4(Executor.scala:907)\n",
       "\tat scala.runtime.java8.JFunction0$mcV$sp.apply(JFunction0$mcV$sp.java:23)\n",
       "\tat com.databricks.spark.util.ExecutorFrameProfiler$.record(ExecutorFrameProfiler.scala:110)\n",
       "\tat org.apache.spark.executor.Executor$TaskRunner.run(Executor.scala:761)\n",
       "\tat java.util.concurrent.ThreadPoolExecutor.runWorker(ThreadPoolExecutor.java:1149)\n",
       "\tat java.util.concurrent.ThreadPoolExecutor$Worker.run(ThreadPoolExecutor.java:624)\n",
       "\tat java.lang.Thread.run(Thread.java:750)\n",
       "\n",
       "Driver stacktrace:\n",
       "import org.apache.spark.sql.types._\n",
       "filePath: String = dbfs:/FileStore/tables/Files/names.csv\n",
       "schema: org.apache.spark.sql.types.StructType = StructType(StructField(id,IntegerType,true),StructField(name,StringType,true),StructField(birth_year,IntegerType,true),StructField(death_year,IntegerType,true))\n",
       "df_permissive: org.apache.spark.sql.DataFrame = [id: int, name: string ... 2 more fields]\n",
       "df_dropMalformed: org.apache.spark.sql.DataFrame = [id: int, name: string ... 2 more fields]\n",
       "</div>"
      ]
     },
     "metadata": {
      "application/vnd.databricks.v1+output": {
       "addedWidgets": {},
       "arguments": {},
       "data": "<div class=\"ansiout\">+----+---------------+----------+----------+\n|  id|           name|birth_year|death_year|\n+----+---------------+----------+----------+\n|null|   Fred Astaire|      null|       177|\n|null|  Lauren Bacall|      null|       174|\n|null|Brigitte Bardot|      null|       166|\n|null|   John Belushi|      null|       170|\n|null| Ingmar Bergman|      null|       179|\n|null| Ingrid Bergman|      null|       178|\n|null|Humphrey Bogart|      null|       173|\n|null| Richard Burton|      null|       178|\n|null|   James Cagney|      null|       165|\n|null|    Gary Cooper|      null|       191|\n+----+---------------+----------+----------+\nonly showing top 10 rows\n\n+---+----+----------+----------+\n| id|name|birth_year|death_year|\n+---+----+----------+----------+\n+---+----+----------+----------+\n\nFAILFAST mode error: Job aborted due to stage failure: Task 0 in stage 9.0 failed 1 times, most recent failure: Lost task 0.0 in stage 9.0 (TID 28) (ip-10-172-191-7.us-west-2.compute.internal executor driver): com.databricks.sql.io.FileReadException: Error while reading file dbfs:/FileStore/tables/Files/names.csv.\n\tat org.apache.spark.sql.execution.datasources.FileScanRDD$$anon$1$$anon$2.logFileNameAndThrow(FileScanRDD.scala:704)\n\tat org.apache.spark.sql.execution.datasources.FileScanRDD$$anon$1$$anon$2.getNext(FileScanRDD.scala:673)\n\tat org.apache.spark.util.NextIterator.hasNext(NextIterator.scala:73)\n\tat org.apache.spark.sql.execution.datasources.FileScanRDD$$anon$1.nextIterator(FileScanRDD.scala:796)\n\tat org.apache.spark.sql.execution.datasources.FileScanRDD$$anon$1.$anonfun$hasNext$1(FileScanRDD.scala:496)\n\tat scala.runtime.java8.JFunction0$mcZ$sp.apply(JFunction0$mcZ$sp.java:23)\n\tat com.databricks.spark.util.ExecutorFrameProfiler$.record(ExecutorFrameProfiler.scala:110)\n\tat org.apache.spark.sql.execution.datasources.FileScanRDD$$anon$1.hasNext(FileScanRDD.scala:486)\n\tat scala.collection.Iterator$$anon$10.hasNext(Iterator.scala:460)\n\tat org.apache.spark.sql.catalyst.expressions.GeneratedClass$GeneratedIteratorForCodegenStage1.processNext(Unknown Source)\n\tat org.apache.spark.sql.execution.BufferedRowIterator.hasNext(BufferedRowIterator.java:43)\n\tat org.apache.spark.sql.execution.WholeStageCodegenExec$$anon$1.hasNext(WholeStageCodegenExec.scala:761)\n\tat org.apache.spark.sql.execution.collect.UnsafeRowBatchUtils$.encodeUnsafeRows(UnsafeRowBatchUtils.scala:82)\n\tat org.apache.spark.sql.execution.collect.Collector.$anonfun$processFunc$1(Collector.scala:208)\n\tat org.apache.spark.scheduler.ResultTask.$anonfun$runTask$3(ResultTask.scala:75)\n\tat com.databricks.spark.util.ExecutorFrameProfiler$.record(ExecutorFrameProfiler.scala:110)\n\tat org.apache.spark.scheduler.ResultTask.$anonfun$runTask$1(ResultTask.scala:75)\n\tat com.databricks.spark.util.ExecutorFrameProfiler$.record(ExecutorFrameProfiler.scala:110)\n\tat org.apache.spark.scheduler.ResultTask.runTask(ResultTask.scala:55)\n\tat org.apache.spark.scheduler.Task.doRunTask(Task.scala:179)\n\tat org.apache.spark.scheduler.Task.$anonfun$run$5(Task.scala:142)\n\tat com.databricks.unity.EmptyHandle$.runWithAndClose(UCSHandle.scala:126)\n\tat org.apache.spark.scheduler.Task.$anonfun$run$1(Task.scala:142)\n\tat com.databricks.spark.util.ExecutorFrameProfiler$.record(ExecutorFrameProfiler.scala:110)\n\tat org.apache.spark.scheduler.Task.run(Task.scala:97)\n\tat org.apache.spark.executor.Executor$TaskRunner.$anonfun$run$13(Executor.scala:904)\n\tat org.apache.spark.util.Utils$.tryWithSafeFinally(Utils.scala:1741)\n\tat org.apache.spark.executor.Executor$TaskRunner.$anonfun$run$4(Executor.scala:907)\n\tat scala.runtime.java8.JFunction0$mcV$sp.apply(JFunction0$mcV$sp.java:23)\n\tat com.databricks.spark.util.ExecutorFrameProfiler$.record(ExecutorFrameProfiler.scala:110)\n\tat org.apache.spark.executor.Executor$TaskRunner.run(Executor.scala:761)\n\tat java.util.concurrent.ThreadPoolExecutor.runWorker(ThreadPoolExecutor.java:1149)\n\tat java.util.concurrent.ThreadPoolExecutor$Worker.run(ThreadPoolExecutor.java:624)\n\tat java.lang.Thread.run(Thread.java:750)\nCaused by: org.apache.spark.SparkException: Malformed records are detected in record parsing. Parse Mode: FAILFAST. To process malformed records as null result, try setting the option 'mode' as 'PERMISSIVE'.\n\tat org.apache.spark.sql.errors.QueryExecutionErrors$.malformedRecordsDetectedInRecordParsingError(QueryExecutionErrors.scala:1936)\n\tat org.apache.spark.sql.catalyst.util.FailureSafeParser.parse(FailureSafeParser.scala:103)\n\tat org.apache.spark.sql.catalyst.csv.UnivocityParser$.$anonfun$parseIterator$2(UnivocityParser.scala:507)\n\tat scala.collection.Iterator$$anon$11.nextCur(Iterator.scala:486)\n\tat scala.collection.Iterator$$anon$11.hasNext(Iterator.scala:492)\n\tat org.apache.spark.util.CompletionIterator.hasNext(CompletionIterator.scala:31)\n\tat scala.collection.Iterator$$anon$10.hasNext(Iterator.scala:460)\n\tat org.apache.spark.sql.execution.datasources.FileScanRDD$$anon$1$$anon$2.getNext(FileScanRDD.scala:619)\n\t... 32 more\nCaused by: org.apache.spark.sql.catalyst.util.BadRecordException: org.apache.spark.SparkRuntimeException: [MALFORMED_CSV_RECORD] Malformed CSV record: &quot;nm0000001&quot;,&quot;Fred Astaire&quot;,&quot;Frederic Austerlitz Jr.&quot;,&quot;177&quot;,&quot;Fred Astaire was born in Omaha, Nebraska, to Johanna (Geilus) and Fritz Austerlitz, a brewer. Fred entered show business at age 5. He was successful both in vaudeville and on Broadway in partnership with his sister, Adele Astaire. After Adele retired to marry in 1932, Astaire headed to Hollywood. Signed to RKO, he was loaned to MGM to appear in La danza di Venere (1933) before starting work on RKO's Carioca (1933). In the latter film, he began his highly successful partnership with Ginger Rogers, with whom he danced in 9 RKO pictures. During these years, he was also active in recording and radio. On film, Astaire later appeared opposite a number of partners through various studios. After a temporary retirement in 1945-7, during which he opened Fred Astaire Dance Studios, Astaire returned to film to star in more musicals through 1957. He subsequently performed a number of straight dramatic roles in film and TV.&quot;,&quot;May 10, 1899 in Omaha, Nebraska, USA&quot;,&quot;1899-05-10&quot;,&quot;Omaha, Nebraska, USA&quot;,&quot;June 22, 1987 in Los Angeles, California, USA  (pneumonia)&quot;,&quot;22.06.1987&quot;,&quot;Los Angeles, California, USA  &quot;,&quot;pneumonia&quot;,&quot;Robyn Smith  (27 June 1980 - 22 June 1987) (his death)Phyllis Livingston Potter  (12 July 1933 - 13 September 1954) (her death) (2 children)&quot;,&quot;2&quot;,&quot;0&quot;,&quot;1&quot;,&quot;2&quot;\nCaused by: org.apache.spark.SparkRuntimeException: [MALFORMED_CSV_RECORD] Malformed CSV record: &quot;nm0000001&quot;,&quot;Fred Astaire&quot;,&quot;Frederic Austerlitz Jr.&quot;,&quot;177&quot;,&quot;Fred Astaire was born in Omaha, Nebraska, to Johanna (Geilus) and Fritz Austerlitz, a brewer. Fred entered show business at age 5. He was successful both in vaudeville and on Broadway in partnership with his sister, Adele Astaire. After Adele retired to marry in 1932, Astaire headed to Hollywood. Signed to RKO, he was loaned to MGM to appear in La danza di Venere (1933) before starting work on RKO's Carioca (1933). In the latter film, he began his highly successful partnership with Ginger Rogers, with whom he danced in 9 RKO pictures. During these years, he was also active in recording and radio. On film, Astaire later appeared opposite a number of partners through various studios. After a temporary retirement in 1945-7, during which he opened Fred Astaire Dance Studios, Astaire returned to film to star in more musicals through 1957. He subsequently performed a number of straight dramatic roles in film and TV.&quot;,&quot;May 10, 1899 in Omaha, Nebraska, USA&quot;,&quot;1899-05-10&quot;,&quot;Omaha, Nebraska, USA&quot;,&quot;June 22, 1987 in Los Angeles, California, USA  (pneumonia)&quot;,&quot;22.06.1987&quot;,&quot;Los Angeles, California, USA  &quot;,&quot;pneumonia&quot;,&quot;Robyn Smith  (27 June 1980 - 22 June 1987) (his death)Phyllis Livingston Potter  (12 July 1933 - 13 September 1954) (her death) (2 children)&quot;,&quot;2&quot;,&quot;0&quot;,&quot;1&quot;,&quot;2&quot;\n\tat org.apache.spark.sql.errors.QueryExecutionErrors$.malformedCSVRecordError(QueryExecutionErrors.scala:1703)\n\tat org.apache.spark.sql.catalyst.csv.UnivocityParser.convert(UnivocityParser.scala:346)\n\tat org.apache.spark.sql.catalyst.csv.UnivocityParser.$anonfun$parse$2(UnivocityParser.scala:321)\n\tat org.apache.spark.sql.catalyst.csv.UnivocityParser$.$anonfun$parseIterator$1(UnivocityParser.scala:499)\n\tat org.apache.spark.sql.catalyst.util.FailureSafeParser.parse(FailureSafeParser.scala:92)\n\tat org.apache.spark.sql.catalyst.csv.UnivocityParser$.$anonfun$parseIterator$2(UnivocityParser.scala:507)\n\tat scala.collection.Iterator$$anon$11.nextCur(Iterator.scala:486)\n\tat scala.collection.Iterator$$anon$11.hasNext(Iterator.scala:492)\n\tat org.apache.spark.util.CompletionIterator.hasNext(CompletionIterator.scala:31)\n\tat scala.collection.Iterator$$anon$10.hasNext(Iterator.scala:460)\n\tat org.apache.spark.sql.execution.datasources.FileScanRDD$$anon$1$$anon$2.getNext(FileScanRDD.scala:619)\n\tat org.apache.spark.util.NextIterator.hasNext(NextIterator.scala:73)\n\tat org.apache.spark.sql.execution.datasources.FileScanRDD$$anon$1.nextIterator(FileScanRDD.scala:796)\n\tat org.apache.spark.sql.execution.datasources.FileScanRDD$$anon$1.$anonfun$hasNext$1(FileScanRDD.scala:496)\n\tat scala.runtime.java8.JFunction0$mcZ$sp.apply(JFunction0$mcZ$sp.java:23)\n\tat com.databricks.spark.util.ExecutorFrameProfiler$.record(ExecutorFrameProfiler.scala:110)\n\tat org.apache.spark.sql.execution.datasources.FileScanRDD$$anon$1.hasNext(FileScanRDD.scala:486)\n\tat scala.collection.Iterator$$anon$10.hasNext(Iterator.scala:460)\n\tat org.apache.spark.sql.catalyst.expressions.GeneratedClass$GeneratedIteratorForCodegenStage1.processNext(Unknown Source)\n\tat org.apache.spark.sql.execution.BufferedRowIterator.hasNext(BufferedRowIterator.java:43)\n\tat org.apache.spark.sql.execution.WholeStageCodegenExec$$anon$1.hasNext(WholeStageCodegenExec.scala:761)\n\tat org.apache.spark.sql.execution.collect.UnsafeRowBatchUtils$.encodeUnsafeRows(UnsafeRowBatchUtils.scala:82)\n\tat org.apache.spark.sql.execution.collect.Collector.$anonfun$processFunc$1(Collector.scala:208)\n\tat org.apache.spark.scheduler.ResultTask.$anonfun$runTask$3(ResultTask.scala:75)\n\tat com.databricks.spark.util.ExecutorFrameProfiler$.record(ExecutorFrameProfiler.scala:110)\n\tat org.apache.spark.scheduler.ResultTask.$anonfun$runTask$1(ResultTask.scala:75)\n\tat com.databricks.spark.util.ExecutorFrameProfiler$.record(ExecutorFrameProfiler.scala:110)\n\tat org.apache.spark.scheduler.ResultTask.runTask(ResultTask.scala:55)\n\tat org.apache.spark.scheduler.Task.doRunTask(Task.scala:179)\n\tat org.apache.spark.scheduler.Task.$anonfun$run$5(Task.scala:142)\n\tat com.databricks.unity.EmptyHandle$.runWithAndClose(UCSHandle.scala:126)\n\tat org.apache.spark.scheduler.Task.$anonfun$run$1(Task.scala:142)\n\tat com.databricks.spark.util.ExecutorFrameProfiler$.record(ExecutorFrameProfiler.scala:110)\n\tat org.apache.spark.scheduler.Task.run(Task.scala:97)\n\tat org.apache.spark.executor.Executor$TaskRunner.$anonfun$run$13(Executor.scala:904)\n\tat org.apache.spark.util.Utils$.tryWithSafeFinally(Utils.scala:1741)\n\tat org.apache.spark.executor.Executor$TaskRunner.$anonfun$run$4(Executor.scala:907)\n\tat scala.runtime.java8.JFunction0$mcV$sp.apply(JFunction0$mcV$sp.java:23)\n\tat com.databricks.spark.util.ExecutorFrameProfiler$.record(ExecutorFrameProfiler.scala:110)\n\tat org.apache.spark.executor.Executor$TaskRunner.run(Executor.scala:761)\n\tat java.util.concurrent.ThreadPoolExecutor.runWorker(ThreadPoolExecutor.java:1149)\n\tat java.util.concurrent.ThreadPoolExecutor$Worker.run(ThreadPoolExecutor.java:624)\n\tat java.lang.Thread.run(Thread.java:750)\n\nDriver stacktrace:\nimport org.apache.spark.sql.types._\nfilePath: String = dbfs:/FileStore/tables/Files/names.csv\nschema: org.apache.spark.sql.types.StructType = StructType(StructField(id,IntegerType,true),StructField(name,StringType,true),StructField(birth_year,IntegerType,true),StructField(death_year,IntegerType,true))\ndf_permissive: org.apache.spark.sql.DataFrame = [id: int, name: string ... 2 more fields]\ndf_dropMalformed: org.apache.spark.sql.DataFrame = [id: int, name: string ... 2 more fields]\n</div>",
       "datasetInfos": [
        {
         "name": "df_permissive",
         "schema": {
          "fields": [
           {
            "metadata": {},
            "name": "id",
            "nullable": true,
            "type": "integer"
           },
           {
            "metadata": {},
            "name": "name",
            "nullable": true,
            "type": "string"
           },
           {
            "metadata": {},
            "name": "birth_year",
            "nullable": true,
            "type": "integer"
           },
           {
            "metadata": {},
            "name": "death_year",
            "nullable": true,
            "type": "integer"
           }
          ],
          "type": "struct"
         },
         "tableIdentifier": null,
         "typeStr": "org.apache.spark.sql.DataFrame"
        },
        {
         "name": "df_dropMalformed",
         "schema": {
          "fields": [
           {
            "metadata": {},
            "name": "id",
            "nullable": true,
            "type": "integer"
           },
           {
            "metadata": {},
            "name": "name",
            "nullable": true,
            "type": "string"
           },
           {
            "metadata": {},
            "name": "birth_year",
            "nullable": true,
            "type": "integer"
           },
           {
            "metadata": {},
            "name": "death_year",
            "nullable": true,
            "type": "integer"
           }
          ],
          "type": "struct"
         },
         "tableIdentifier": null,
         "typeStr": "org.apache.spark.sql.DataFrame"
        }
       ],
       "metadata": {},
       "removedWidgets": [],
       "type": "html"
      }
     },
     "output_type": "display_data"
    }
   ],
   "source": [
    "%scala\n",
    "import org.apache.spark.sql.types._\n",
    "\n",
    "val filePath = \"dbfs:/FileStore/tables/Files/names.csv\"\n",
    "\n",
    "val schema = StructType(Array(\n",
    "  StructField(\"id\", IntegerType, true),\n",
    "  StructField(\"name\", StringType, true),\n",
    "  StructField(\"birth_year\", IntegerType, true),\n",
    "  StructField(\"death_year\", IntegerType, true)\n",
    "))\n",
    "\n",
    "val df_permissive = spark.read\n",
    "  .format(\"csv\")\n",
    "  .option(\"header\", \"true\")\n",
    "  .option(\"mode\", \"PERMISSIVE\")\n",
    "  .schema(schema)\n",
    "  .load(filePath)\n",
    "\n",
    "df_permissive.show(10)\n",
    "\n",
    "val df_dropMalformed = spark.read\n",
    "  .format(\"csv\")\n",
    "  .option(\"header\", \"true\")\n",
    "  .option(\"mode\", \"DROPMALFORMED\")\n",
    "  .schema(schema)\n",
    "  .load(filePath)\n",
    "\n",
    "df_dropMalformed.show(10)\n",
    "\n",
    "try {\n",
    "  val df_failFast = spark.read\n",
    "    .format(\"csv\")\n",
    "    .option(\"header\", \"true\")\n",
    "    .option(\"mode\", \"FAILFAST\")\n",
    "    .schema(schema)\n",
    "    .load(filePath)\n",
    "  df_failFast.show(10)\n",
    "} catch {\n",
    "  case e: Exception => println(s\"FAILFAST mode error: ${e.getMessage}\")\n",
    "}\n"
   ]
  },
  {
   "cell_type": "markdown",
   "metadata": {
    "application/vnd.databricks.v1+cell": {
     "cellMetadata": {
      "byteLimit": 2048000,
      "rowLimit": 10000
     },
     "inputWidgets": {},
     "nuid": "912a3717-a602-4fb0-9627-f84964f248a4",
     "showTitle": false,
     "tableResultSettingsMap": {},
     "title": ""
    }
   },
   "source": [
    "# ZADANIE 4"
   ]
  },
  {
   "cell_type": "markdown",
   "metadata": {
    "application/vnd.databricks.v1+cell": {
     "cellMetadata": {},
     "inputWidgets": {},
     "nuid": "8df1304a-e7a3-4051-89e0-ae94e3610673",
     "showTitle": false,
     "tableResultSettingsMap": {},
     "title": ""
    }
   },
   "source": [
    "Użycie DataFrameWriter. \n",
    "\n",
    "Zapisz jeden z wybranych plików do formatów (‘.parquet’, ‘.json’). Sprawdź, czy dane są zapisane poprawnie, użyj do tego spark.read (DataFrameReader).  \n"
   ]
  },
  {
   "cell_type": "code",
   "execution_count": 0,
   "metadata": {
    "application/vnd.databricks.v1+cell": {
     "cellMetadata": {
      "byteLimit": 2048000,
      "rowLimit": 10000
     },
     "inputWidgets": {},
     "nuid": "e37e15b2-00e8-4cb0-a063-6cadb932bf4a",
     "showTitle": false,
     "tableResultSettingsMap": {},
     "title": ""
    }
   },
   "outputs": [
    {
     "output_type": "display_data",
     "data": {
      "text/html": [
       "<style scoped>\n",
       "  .ansiout {\n",
       "    display: block;\n",
       "    unicode-bidi: embed;\n",
       "    white-space: pre-wrap;\n",
       "    word-wrap: break-word;\n",
       "    word-break: break-all;\n",
       "    font-family: \"Menlo\", \"Monaco\", \"Consolas\", \"Ubuntu Mono\", \"Source Code Pro\", monospace;\n",
       "    font-size: 13px;\n",
       "    color: #555;\n",
       "    margin-left: 4px;\n",
       "    line-height: 19px;\n",
       "  }\n",
       "</style>\n",
       "<div class=\"ansiout\">Dane zapisane w formacie Parquet:\n",
       "root\n",
       "-- imdb_name_id: string (nullable = true)\n",
       "-- name: string (nullable = true)\n",
       "-- birth_name: string (nullable = true)\n",
       "-- height: integer (nullable = true)\n",
       "-- bio: string (nullable = true)\n",
       "-- birth_details: string (nullable = true)\n",
       "-- date_of_birth: string (nullable = true)\n",
       "-- place_of_birth: string (nullable = true)\n",
       "-- death_details: string (nullable = true)\n",
       "-- date_of_death: string (nullable = true)\n",
       "-- place_of_death: string (nullable = true)\n",
       "-- reason_of_death: string (nullable = true)\n",
       "-- spouses_string: string (nullable = true)\n",
       "-- spouses: integer (nullable = true)\n",
       "-- divorces: integer (nullable = true)\n",
       "-- spouses_with_children: integer (nullable = true)\n",
       "-- children: integer (nullable = true)\n",
       "\n",
       "+------------+--------------------+--------------------+------+--------------------+--------------------+--------------------+--------------------+--------------------+-------------+--------------------+---------------+--------------------+-------+--------+---------------------+--------+\n",
       "imdb_name_id|                name|          birth_name|height|                 bio|       birth_details|       date_of_birth|      place_of_birth|       death_details|date_of_death|      place_of_death|reason_of_death|      spouses_string|spouses|divorces|spouses_with_children|children|\n",
       "+------------+--------------------+--------------------+------+--------------------+--------------------+--------------------+--------------------+--------------------+-------------+--------------------+---------------+--------------------+-------+--------+---------------------+--------+\n",
       "   nm1128780|   Elizabeth Tulloch|Elizabeth Andrea ...|   168|Elizabeth Bitsie ...|January 19, 1981 ...|          19.01.1981|San Diego, Califo...|                null|         null|                null|           null|David Giuntoli  (...|      1|       0|                    1|       1|\n",
       "   nm1128860|         Oliver Rihs|         Oliver Rihs|  null|Oliver Rihs was b...|1971 in Zurich, S...|1971 in Zurich, S...| Zurich, Switzerland|                null|         null|                null|           null|                null|      0|       0|                    0|       0|\n",
       "  nm11288923|        Hriday Dubey|        Hriday Dubey|  null|God is very kind ...|August 18, 1969 i...|          18.08.1969|Mumbai, Maharasht...|                null|         null|                null|           null|                null|      0|       0|                    0|       0|\n",
       "   nm1129179|          Jeff Dolen|          Jeff Dolen|   183|Jeff Dolen has re...|March 9, 1982 in ...|          09.03.1982|Mission Viejo, Ca...|                null|         null|                null|           null|                null|      0|       0|                    0|       0|\n",
       "   nm1129214|     James Lefkowitz|     James Lefkowitz|  null|James Lefkowitz w...|February 26, 1976...|          26.02.1976|     New Jersey, USA|                null|         null|                null|           null|                null|      0|       0|                    0|       0|\n",
       "   nm1129315|           Josh Cole| Joshua Cameron Cole|  null|Josh Cole was bor...|February 13, 1980...|          13.02.1980|Englewood, New Je...|                null|         null|                null|           null|                null|      0|       0|                    0|       0|\n",
       "   nm1129343|         Tom Vaughan|         Tom Vaughan|  null|Tom Vaughan was b...|October 9, 1969 i...|          09.10.1969|                 USA|                null|         null|                null|           null|                null|      0|       0|                    0|       0|\n",
       "   nm1129408|             Vijayan|             Vijayan|  null|Vijayan was born ...|1944 in Kozhikode...|1944 in Kozhikode...|Kozhikode, Kerala...|September 22, 200...|   22.09.2007|Chennai, Tamil Na...| cardiac arrest|                null|      0|       0|                    0|       0|\n",
       "   nm1129670|Jacqueline Bracam...|Jacqueline Bracam...|   169|Jacqueline Bracam...|December 23, 1979...|          23.12.1979|Guadalajara, Jali...|                null|         null|                null|           null|Martin Fuentes  (...|      1|       0|                    1|       6|\n",
       "   nm1129869|           Kirk Fogg| Kirk Fairbanks Fogg|  null|Kirk Fogg was bor...|September 18, 195...|          18.09.1959|Los Angeles, Cali...|                null|         null|                null|           null|Rosemary Fogg  (1...|      1|       0|                    1|       2|\n",
       "+------------+--------------------+--------------------+------+--------------------+--------------------+--------------------+--------------------+--------------------+-------------+--------------------+---------------+--------------------+-------+--------+---------------------+--------+\n",
       "only showing top 10 rows\n",
       "\n",
       "Dane zapisane w formacie JSON:\n",
       "root\n",
       "-- bio: string (nullable = true)\n",
       "-- birth_details: string (nullable = true)\n",
       "-- birth_name: string (nullable = true)\n",
       "-- children: long (nullable = true)\n",
       "-- date_of_birth: string (nullable = true)\n",
       "-- date_of_death: string (nullable = true)\n",
       "-- death_details: string (nullable = true)\n",
       "-- divorces: long (nullable = true)\n",
       "-- height: long (nullable = true)\n",
       "-- imdb_name_id: string (nullable = true)\n",
       "-- name: string (nullable = true)\n",
       "-- place_of_birth: string (nullable = true)\n",
       "-- place_of_death: string (nullable = true)\n",
       "-- reason_of_death: string (nullable = true)\n",
       "-- spouses: long (nullable = true)\n",
       "-- spouses_string: string (nullable = true)\n",
       "-- spouses_with_children: long (nullable = true)\n",
       "\n",
       "+--------------------+--------------------+--------------------+--------+-------------+-------------+--------------------+--------+------+------------+---------------+--------------------+--------------------+--------------------+-------+--------------------+---------------------+\n",
       "                 bio|       birth_details|          birth_name|children|date_of_birth|date_of_death|       death_details|divorces|height|imdb_name_id|           name|      place_of_birth|      place_of_death|     reason_of_death|spouses|      spouses_string|spouses_with_children|\n",
       "+--------------------+--------------------+--------------------+--------+-------------+-------------+--------------------+--------+------+------------+---------------+--------------------+--------------------+--------------------+-------+--------------------+---------------------+\n",
       "Fred Astaire was ...|May 10, 1899 in O...|Frederic Austerli...|       2|   1899-05-10|   22.06.1987|June 22, 1987 in ...|       0|   177|   nm0000001|   Fred Astaire|Omaha, Nebraska, USA|Los Angeles, Cali...|           pneumonia|      2|Robyn Smith  (27 ...|                    1|\n",
       "Lauren Bacall was...|September 16, 192...|   Betty Joan Perske|       3|   16.09.1924|   12.08.2014|August 12, 2014 i...|       1|   174|   nm0000002|  Lauren Bacall|The Bronx, New Yo...|New York City, Ne...|              stroke|      2|Jason Robards  (4...|                    2|\n",
       "Brigitte Bardot w...|September 28, 193...|     Brigitte Bardot|       1|   28.09.1934|         null|                null|       3|   166|   nm0000003|Brigitte Bardot|       Paris, France|                null|                null|      4|Bernard d'Ormale ...|                    1|\n",
       "John Belushi was ...|January 24, 1949 ...|   John Adam Belushi|       0|   24.01.1949|   05.03.1982|March 5, 1982 in ...|       0|   170|   nm0000004|   John Belushi|Chicago, Illinois...|Hollywood, Los An...|acute cocaine and...|      1|Judith Belushi-Pi...|                    0|\n",
       "Ernst Ingmar Berg...|July 14, 1918 in ...|Ernst Ingmar Bergman|       8|   14.07.1918|   30.07.2007|July 30, 2007 in ...|       4|   179|   nm0000005| Ingmar Bergman|Uppsala, Uppsala ...|Fårö, Gotlands lä...|      natural causes|      5|Ingrid Bergman  (...|                    5|\n",
       "Ingrid Bergman wa...|August 29, 1915 i...|      Ingrid Bergman|       4|   29.08.1915|   29.08.1982|August 29, 1982 i...|       3|   178|   nm0000006| Ingrid Bergman|   Stockholm, Sweden|Chelsea, London, ...|lymphoma complica...|      3|Lars Schmidt  (21...|                    2|\n",
       "Humphrey DeForest...|December 25, 1899...|Humphrey DeForest...|       2|   1899-12-25|   14.01.1957|January 14, 1957 ...|       3|   173|   nm0000007|Humphrey Bogart|New York City, Ne...|Los Angeles, Cali...|   esophageal cancer|      4|Lauren Bacall  (2...|                    1|\n",
       "Probably best-rem...|November 10, 1925...|Richard Walter Je...|       3|   10.11.1925|   05.08.1984|August 5, 1984 in...|       4|   178|   nm0000009| Richard Burton|Pontrhydyfen, Wal...|Céligny, Geneva, ...| cerebral hemorrhage|      5|Sally Burton  (3 ...|                    2|\n",
       "One of Hollywood'...|July 17, 1899 in ...|James Francis Cagney|       2|   1899-07-17|   30.03.1986|March 30, 1986 in...|       0|   165|   nm0000010|   James Cagney|New York City, Ne...|Stanfordville, Ne...|heart attack foll...|      1|Frances Cagney  (...|                    1|\n",
       "Born to Alice Coo...|May 7, 1901 in He...|  Frank James Cooper|       1|   07.05.1901|   13.05.1961|May 13, 1961 in B...|       0|   191|   nm0000011|    Gary Cooper|Helena, Montana, USA|Beverly Hills, Lo...|     prostate cancer|      1|Sandra Shaw  (15 ...|                    1|\n",
       "+--------------------+--------------------+--------------------+--------+-------------+-------------+--------------------+--------+------+------------+---------------+--------------------+--------------------+--------------------+-------+--------------------+---------------------+\n",
       "only showing top 10 rows\n",
       "\n",
       "parquetPath: String = dbfs:/FileStore/tables/Files/names.parquet\n",
       "jsonPath: String = dbfs:/FileStore/tables/Files/names.json\n",
       "parquetDf: org.apache.spark.sql.DataFrame = [imdb_name_id: string, name: string ... 15 more fields]\n",
       "jsonDf: org.apache.spark.sql.DataFrame = [bio: string, birth_details: string ... 15 more fields]\n",
       "</div>"
      ]
     },
     "metadata": {
      "application/vnd.databricks.v1+output": {
       "addedWidgets": {},
       "arguments": {},
       "data": "<div class=\"ansiout\">Dane zapisane w formacie Parquet:\nroot\n |-- imdb_name_id: string (nullable = true)\n |-- name: string (nullable = true)\n |-- birth_name: string (nullable = true)\n |-- height: integer (nullable = true)\n |-- bio: string (nullable = true)\n |-- birth_details: string (nullable = true)\n |-- date_of_birth: string (nullable = true)\n |-- place_of_birth: string (nullable = true)\n |-- death_details: string (nullable = true)\n |-- date_of_death: string (nullable = true)\n |-- place_of_death: string (nullable = true)\n |-- reason_of_death: string (nullable = true)\n |-- spouses_string: string (nullable = true)\n |-- spouses: integer (nullable = true)\n |-- divorces: integer (nullable = true)\n |-- spouses_with_children: integer (nullable = true)\n |-- children: integer (nullable = true)\n\n+------------+--------------------+--------------------+------+--------------------+--------------------+--------------------+--------------------+--------------------+-------------+--------------------+---------------+--------------------+-------+--------+---------------------+--------+\n|imdb_name_id|                name|          birth_name|height|                 bio|       birth_details|       date_of_birth|      place_of_birth|       death_details|date_of_death|      place_of_death|reason_of_death|      spouses_string|spouses|divorces|spouses_with_children|children|\n+------------+--------------------+--------------------+------+--------------------+--------------------+--------------------+--------------------+--------------------+-------------+--------------------+---------------+--------------------+-------+--------+---------------------+--------+\n|   nm1128780|   Elizabeth Tulloch|Elizabeth Andrea ...|   168|Elizabeth Bitsie ...|January 19, 1981 ...|          19.01.1981|San Diego, Califo...|                null|         null|                null|           null|David Giuntoli  (...|      1|       0|                    1|       1|\n|   nm1128860|         Oliver Rihs|         Oliver Rihs|  null|Oliver Rihs was b...|1971 in Zurich, S...|1971 in Zurich, S...| Zurich, Switzerland|                null|         null|                null|           null|                null|      0|       0|                    0|       0|\n|  nm11288923|        Hriday Dubey|        Hriday Dubey|  null|God is very kind ...|August 18, 1969 i...|          18.08.1969|Mumbai, Maharasht...|                null|         null|                null|           null|                null|      0|       0|                    0|       0|\n|   nm1129179|          Jeff Dolen|          Jeff Dolen|   183|Jeff Dolen has re...|March 9, 1982 in ...|          09.03.1982|Mission Viejo, Ca...|                null|         null|                null|           null|                null|      0|       0|                    0|       0|\n|   nm1129214|     James Lefkowitz|     James Lefkowitz|  null|James Lefkowitz w...|February 26, 1976...|          26.02.1976|     New Jersey, USA|                null|         null|                null|           null|                null|      0|       0|                    0|       0|\n|   nm1129315|           Josh Cole| Joshua Cameron Cole|  null|Josh Cole was bor...|February 13, 1980...|          13.02.1980|Englewood, New Je...|                null|         null|                null|           null|                null|      0|       0|                    0|       0|\n|   nm1129343|         Tom Vaughan|         Tom Vaughan|  null|Tom Vaughan was b...|October 9, 1969 i...|          09.10.1969|                 USA|                null|         null|                null|           null|                null|      0|       0|                    0|       0|\n|   nm1129408|             Vijayan|             Vijayan|  null|Vijayan was born ...|1944 in Kozhikode...|1944 in Kozhikode...|Kozhikode, Kerala...|September 22, 200...|   22.09.2007|Chennai, Tamil Na...| cardiac arrest|                null|      0|       0|                    0|       0|\n|   nm1129670|Jacqueline Bracam...|Jacqueline Bracam...|   169|Jacqueline Bracam...|December 23, 1979...|          23.12.1979|Guadalajara, Jali...|                null|         null|                null|           null|Martin Fuentes  (...|      1|       0|                    1|       6|\n|   nm1129869|           Kirk Fogg| Kirk Fairbanks Fogg|  null|Kirk Fogg was bor...|September 18, 195...|          18.09.1959|Los Angeles, Cali...|                null|         null|                null|           null|Rosemary Fogg  (1...|      1|       0|                    1|       2|\n+------------+--------------------+--------------------+------+--------------------+--------------------+--------------------+--------------------+--------------------+-------------+--------------------+---------------+--------------------+-------+--------+---------------------+--------+\nonly showing top 10 rows\n\nDane zapisane w formacie JSON:\nroot\n |-- bio: string (nullable = true)\n |-- birth_details: string (nullable = true)\n |-- birth_name: string (nullable = true)\n |-- children: long (nullable = true)\n |-- date_of_birth: string (nullable = true)\n |-- date_of_death: string (nullable = true)\n |-- death_details: string (nullable = true)\n |-- divorces: long (nullable = true)\n |-- height: long (nullable = true)\n |-- imdb_name_id: string (nullable = true)\n |-- name: string (nullable = true)\n |-- place_of_birth: string (nullable = true)\n |-- place_of_death: string (nullable = true)\n |-- reason_of_death: string (nullable = true)\n |-- spouses: long (nullable = true)\n |-- spouses_string: string (nullable = true)\n |-- spouses_with_children: long (nullable = true)\n\n+--------------------+--------------------+--------------------+--------+-------------+-------------+--------------------+--------+------+------------+---------------+--------------------+--------------------+--------------------+-------+--------------------+---------------------+\n|                 bio|       birth_details|          birth_name|children|date_of_birth|date_of_death|       death_details|divorces|height|imdb_name_id|           name|      place_of_birth|      place_of_death|     reason_of_death|spouses|      spouses_string|spouses_with_children|\n+--------------------+--------------------+--------------------+--------+-------------+-------------+--------------------+--------+------+------------+---------------+--------------------+--------------------+--------------------+-------+--------------------+---------------------+\n|Fred Astaire was ...|May 10, 1899 in O...|Frederic Austerli...|       2|   1899-05-10|   22.06.1987|June 22, 1987 in ...|       0|   177|   nm0000001|   Fred Astaire|Omaha, Nebraska, USA|Los Angeles, Cali...|           pneumonia|      2|Robyn Smith  (27 ...|                    1|\n|Lauren Bacall was...|September 16, 192...|   Betty Joan Perske|       3|   16.09.1924|   12.08.2014|August 12, 2014 i...|       1|   174|   nm0000002|  Lauren Bacall|The Bronx, New Yo...|New York City, Ne...|              stroke|      2|Jason Robards  (4...|                    2|\n|Brigitte Bardot w...|September 28, 193...|     Brigitte Bardot|       1|   28.09.1934|         null|                null|       3|   166|   nm0000003|Brigitte Bardot|       Paris, France|                null|                null|      4|Bernard d'Ormale ...|                    1|\n|John Belushi was ...|January 24, 1949 ...|   John Adam Belushi|       0|   24.01.1949|   05.03.1982|March 5, 1982 in ...|       0|   170|   nm0000004|   John Belushi|Chicago, Illinois...|Hollywood, Los An...|acute cocaine and...|      1|Judith Belushi-Pi...|                    0|\n|Ernst Ingmar Berg...|July 14, 1918 in ...|Ernst Ingmar Bergman|       8|   14.07.1918|   30.07.2007|July 30, 2007 in ...|       4|   179|   nm0000005| Ingmar Bergman|Uppsala, Uppsala ...|Fårö, Gotlands lä...|      natural causes|      5|Ingrid Bergman  (...|                    5|\n|Ingrid Bergman wa...|August 29, 1915 i...|      Ingrid Bergman|       4|   29.08.1915|   29.08.1982|August 29, 1982 i...|       3|   178|   nm0000006| Ingrid Bergman|   Stockholm, Sweden|Chelsea, London, ...|lymphoma complica...|      3|Lars Schmidt  (21...|                    2|\n|Humphrey DeForest...|December 25, 1899...|Humphrey DeForest...|       2|   1899-12-25|   14.01.1957|January 14, 1957 ...|       3|   173|   nm0000007|Humphrey Bogart|New York City, Ne...|Los Angeles, Cali...|   esophageal cancer|      4|Lauren Bacall  (2...|                    1|\n|Probably best-rem...|November 10, 1925...|Richard Walter Je...|       3|   10.11.1925|   05.08.1984|August 5, 1984 in...|       4|   178|   nm0000009| Richard Burton|Pontrhydyfen, Wal...|Céligny, Geneva, ...| cerebral hemorrhage|      5|Sally Burton  (3 ...|                    2|\n|One of Hollywood'...|July 17, 1899 in ...|James Francis Cagney|       2|   1899-07-17|   30.03.1986|March 30, 1986 in...|       0|   165|   nm0000010|   James Cagney|New York City, Ne...|Stanfordville, Ne...|heart attack foll...|      1|Frances Cagney  (...|                    1|\n|Born to Alice Coo...|May 7, 1901 in He...|  Frank James Cooper|       1|   07.05.1901|   13.05.1961|May 13, 1961 in B...|       0|   191|   nm0000011|    Gary Cooper|Helena, Montana, USA|Beverly Hills, Lo...|     prostate cancer|      1|Sandra Shaw  (15 ...|                    1|\n+--------------------+--------------------+--------------------+--------+-------------+-------------+--------------------+--------+------+------------+---------------+--------------------+--------------------+--------------------+-------+--------------------+---------------------+\nonly showing top 10 rows\n\nparquetPath: String = dbfs:/FileStore/tables/Files/names.parquet\njsonPath: String = dbfs:/FileStore/tables/Files/names.json\nparquetDf: org.apache.spark.sql.DataFrame = [imdb_name_id: string, name: string ... 15 more fields]\njsonDf: org.apache.spark.sql.DataFrame = [bio: string, birth_details: string ... 15 more fields]\n</div>",
       "datasetInfos": [
        {
         "name": "parquetDf",
         "schema": {
          "fields": [
           {
            "metadata": {},
            "name": "imdb_name_id",
            "nullable": true,
            "type": "string"
           },
           {
            "metadata": {},
            "name": "name",
            "nullable": true,
            "type": "string"
           },
           {
            "metadata": {},
            "name": "birth_name",
            "nullable": true,
            "type": "string"
           },
           {
            "metadata": {},
            "name": "height",
            "nullable": true,
            "type": "integer"
           },
           {
            "metadata": {},
            "name": "bio",
            "nullable": true,
            "type": "string"
           },
           {
            "metadata": {},
            "name": "birth_details",
            "nullable": true,
            "type": "string"
           },
           {
            "metadata": {},
            "name": "date_of_birth",
            "nullable": true,
            "type": "string"
           },
           {
            "metadata": {},
            "name": "place_of_birth",
            "nullable": true,
            "type": "string"
           },
           {
            "metadata": {},
            "name": "death_details",
            "nullable": true,
            "type": "string"
           },
           {
            "metadata": {},
            "name": "date_of_death",
            "nullable": true,
            "type": "string"
           },
           {
            "metadata": {},
            "name": "place_of_death",
            "nullable": true,
            "type": "string"
           },
           {
            "metadata": {},
            "name": "reason_of_death",
            "nullable": true,
            "type": "string"
           },
           {
            "metadata": {},
            "name": "spouses_string",
            "nullable": true,
            "type": "string"
           },
           {
            "metadata": {},
            "name": "spouses",
            "nullable": true,
            "type": "integer"
           },
           {
            "metadata": {},
            "name": "divorces",
            "nullable": true,
            "type": "integer"
           },
           {
            "metadata": {},
            "name": "spouses_with_children",
            "nullable": true,
            "type": "integer"
           },
           {
            "metadata": {},
            "name": "children",
            "nullable": true,
            "type": "integer"
           }
          ],
          "type": "struct"
         },
         "tableIdentifier": null,
         "typeStr": "org.apache.spark.sql.DataFrame"
        },
        {
         "name": "jsonDf",
         "schema": {
          "fields": [
           {
            "metadata": {},
            "name": "bio",
            "nullable": true,
            "type": "string"
           },
           {
            "metadata": {},
            "name": "birth_details",
            "nullable": true,
            "type": "string"
           },
           {
            "metadata": {},
            "name": "birth_name",
            "nullable": true,
            "type": "string"
           },
           {
            "metadata": {},
            "name": "children",
            "nullable": true,
            "type": "long"
           },
           {
            "metadata": {},
            "name": "date_of_birth",
            "nullable": true,
            "type": "string"
           },
           {
            "metadata": {},
            "name": "date_of_death",
            "nullable": true,
            "type": "string"
           },
           {
            "metadata": {},
            "name": "death_details",
            "nullable": true,
            "type": "string"
           },
           {
            "metadata": {},
            "name": "divorces",
            "nullable": true,
            "type": "long"
           },
           {
            "metadata": {},
            "name": "height",
            "nullable": true,
            "type": "long"
           },
           {
            "metadata": {},
            "name": "imdb_name_id",
            "nullable": true,
            "type": "string"
           },
           {
            "metadata": {},
            "name": "name",
            "nullable": true,
            "type": "string"
           },
           {
            "metadata": {},
            "name": "place_of_birth",
            "nullable": true,
            "type": "string"
           },
           {
            "metadata": {},
            "name": "place_of_death",
            "nullable": true,
            "type": "string"
           },
           {
            "metadata": {},
            "name": "reason_of_death",
            "nullable": true,
            "type": "string"
           },
           {
            "metadata": {},
            "name": "spouses",
            "nullable": true,
            "type": "long"
           },
           {
            "metadata": {},
            "name": "spouses_string",
            "nullable": true,
            "type": "string"
           },
           {
            "metadata": {},
            "name": "spouses_with_children",
            "nullable": true,
            "type": "long"
           }
          ],
          "type": "struct"
         },
         "tableIdentifier": null,
         "typeStr": "org.apache.spark.sql.DataFrame"
        }
       ],
       "metadata": {},
       "removedWidgets": [],
       "type": "html"
      }
     },
     "output_type": "display_data"
    }
   ],
   "source": [
    "%scala\n",
    "val parquetPath = \"dbfs:/FileStore/tables/Files/names.parquet\"\n",
    "val jsonPath = \"dbfs:/FileStore/tables/Files/names.json\"\n",
    "\n",
    "// Zapis do formatu Parquet\n",
    "namesDf.write.mode(\"overwrite\").parquet(parquetPath)\n",
    "\n",
    "// Zapis do formatu JSON\n",
    "namesDf.write.mode(\"overwrite\").json(jsonPath)\n",
    "\n",
    "// Odczyt zapisanych plików w celu sprawdzenia poprawności\n",
    "val parquetDf = spark.read.parquet(parquetPath)\n",
    "val jsonDf = spark.read.json(jsonPath)\n",
    "\n",
    "// Wyświetlenie schematu i pierwszych 10 rekordów\n",
    "println(\"Dane zapisane w formacie Parquet:\")\n",
    "parquetDf.printSchema()\n",
    "parquetDf.show(10)\n",
    "\n",
    "println(\"Dane zapisane w formacie JSON:\")\n",
    "jsonDf.printSchema()\n",
    "jsonDf.show(10)"
   ]
  },
  {
   "cell_type": "code",
   "execution_count": 0,
   "metadata": {
    "application/vnd.databricks.v1+cell": {
     "cellMetadata": {
      "byteLimit": 2048000,
      "rowLimit": 10000
     },
     "inputWidgets": {},
     "nuid": "4c2c6a8d-2308-4fac-bbd1-1a127b3cb106",
     "showTitle": false,
     "tableResultSettingsMap": {},
     "title": ""
    }
   },
   "outputs": [],
   "source": []
  }
 ],
 "metadata": {
  "application/vnd.databricks.v1+notebook": {
   "computePreferences": null,
   "dashboards": [],
   "environmentMetadata": {
    "base_environment": "",
    "client": "1"
   },
   "language": "python",
   "notebookMetadata": {
    "pythonIndentUnit": 4
   },
   "notebookName": "Notatnik_2",
   "widgets": {}
  }
 },
 "nbformat": 4,
 "nbformat_minor": 0
}
