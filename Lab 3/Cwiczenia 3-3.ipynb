{
 "cells": [
  {
   "cell_type": "markdown",
   "metadata": {
    "application/vnd.databricks.v1+cell": {
     "cellMetadata": {
      "byteLimit": 2048000,
      "rowLimit": 10000
     },
     "inputWidgets": {},
     "nuid": "8f1eb294-585d-4cd5-b6f5-7527ae399fdf",
     "showTitle": false,
     "tableResultSettingsMap": {},
     "title": ""
    }
   },
   "source": [
    "Names.csv \n",
    "* Dodaj kolumnę z wartością czasu wykonania notatnika w formacie epoch\n",
    "* Dodaj kolumnę w której wyliczysz wzrost w stopach (feet)\n",
    "* Odpowiedz na pytanie jakie jest najpopularniesze imię?\n",
    "* Dodaj kolumnę i policz wiek aktorów \n",
    "* Usuń kolumny (bio, death_details)\n",
    "* Zmień nazwy kolumn - dodaj kapitalizaję i usuń _\n",
    "* Posortuj dataframe po imieniu rosnąco"
   ]
  },
  {
   "cell_type": "code",
   "execution_count": 0,
   "metadata": {
    "application/vnd.databricks.v1+cell": {
     "cellMetadata": {
      "byteLimit": 2048000,
      "rowLimit": 10000
     },
     "inputWidgets": {},
     "nuid": "682ee105-0a36-455f-9c09-98dfba93ba21",
     "showTitle": false,
     "tableResultSettingsMap": {},
     "title": ""
    }
   },
   "outputs": [
    {
     "output_type": "stream",
     "name": "stdout",
     "output_type": "stream",
     "text": [
      "Najpopularniejsze imię: David Campbell\n"
     ]
    },
    {
     "output_type": "display_data",
     "data": {
      "text/html": [
       "<style scoped>\n",
       "  .table-result-container {\n",
       "    max-height: 300px;\n",
       "    overflow: auto;\n",
       "  }\n",
       "  table, th, td {\n",
       "    border: 1px solid black;\n",
       "    border-collapse: collapse;\n",
       "  }\n",
       "  th, td {\n",
       "    padding: 5px;\n",
       "  }\n",
       "  th {\n",
       "    text-align: left;\n",
       "  }\n",
       "</style><div class='table-result-container'><table class='table-result'><thead style='background-color: white'><tr><th>Imdb Name Id</th><th>Name</th><th>Birth Name</th><th>Height</th><th>Birth Details</th><th>Date Of Birth</th><th>Place Of Birth</th><th>Date Of Death</th><th>Place Of Death</th><th>Reason Of Death</th><th>Spouses String</th><th>Spouses</th><th>Divorces</th><th>Spouses With Children</th><th>Children</th><th>Time</th><th>Heightfeet</th><th>Actorage</th></tr></thead><tbody><tr><td>nm1001478</td><td>'Big' LeRoy Mobley</td><td>LeRoy King Mobley III</td><td>193</td><td>April 1, 1973 in Atlantic City, New Jersey, USA</td><td>1973</td><td>Atlantic City, New Jersey, USA</td><td>null</td><td>null</td><td>null</td><td>null</td><td>0</td><td>0</td><td>0</td><td>0</td><td>1742946019</td><td>6.33</td><td>52</td></tr><tr><td>nm0521811</td><td>'Ducky' Louie</td><td>Lawrence Louie</td><td>null</td><td>July 22, 1931 in Berkeley, California, USA</td><td>1931</td><td>Berkeley, California, USA</td><td>null</td><td>null</td><td>null</td><td>null</td><td>0</td><td>0</td><td>0</td><td>0</td><td>1742946019</td><td>null</td><td>94</td></tr><tr><td>nm0722372</td><td>'Little Billy' Rhodes</td><td>William H. Rhodes</td><td>null</td><td>February 1, 1895 in Illinois, USA</td><td>1895</td><td>Illinois, USA</td><td>1967</td><td>Hollywood, California, USA  </td><td>stroke</td><td>null</td><td>0</td><td>0</td><td>0</td><td>0</td><td>1742946019</td><td>null</td><td>72</td></tr><tr><td>nm0946148</td><td>'Weird Al' Yankovic</td><td>Alfred Matthew Yankovic</td><td>183</td><td>October 23, 1959 in Downey, California, USA</td><td>1959</td><td>Downey, California, USA</td><td>null</td><td>null</td><td>null</td><td>Suzanne Krajewski  (10 February 2001 - present) (1 child)</td><td>1</td><td>0</td><td>1</td><td>1</td><td>1742946019</td><td>6.0</td><td>66</td></tr><tr><td>nm1265067</td><td>50 Cent</td><td>Curtis James Jackson III</td><td>183</td><td>July 6, 1975 in Queens, New York City, New York, USA</td><td>1975</td><td>Queens, New York City, New York, USA</td><td>null</td><td>null</td><td>null</td><td>null</td><td>0</td><td>0</td><td>0</td><td>0</td><td>1742946019</td><td>6.0</td><td>50</td></tr><tr><td>nm0553436</td><td>A Martinez</td><td>Adolph Larrue Martinez III</td><td>175</td><td>September 27, 1948 in Glendale, California, USA</td><td>1948</td><td>Glendale, California, USA</td><td>null</td><td>null</td><td>null</td><td>Leslie Bryans  (17 July 1982 - present) (3 children)Mare Winningham  (1981 - 29 January 1982) (divorced)</td><td>2</td><td>1</td><td>1</td><td>3</td><td>1742946019</td><td>5.74</td><td>77</td></tr><tr><td>nm1100197</td><td>A. Baldwin Sloane</td><td>A. Baldwin Sloane</td><td>null</td><td>August 28, 1872 in Baltimore, Maryland, USA</td><td>1872</td><td>Baltimore, Maryland, USA</td><td>1925</td><td>Red Bank, New Jersey, USA</td><td>null</td><td>null</td><td>0</td><td>0</td><td>0</td><td>0</td><td>1742946019</td><td>null</td><td>53</td></tr><tr><td>nm0080406</td><td>A. Bhimsingh</td><td>A. Bhimsingh</td><td>null</td><td>July 15, 1924 in Tirupati, Andhra Pradesh, India</td><td>1924</td><td>Tirupati, Andhra Pradesh, India</td><td>1978</td><td>Madras, Tamil Nadu, India</td><td>null</td><td>Sukumari  (? - 16 January 1978) (his death) (1 child)</td><td>1</td><td>0</td><td>1</td><td>1</td><td>1742946019</td><td>null</td><td>54</td></tr><tr><td>nm0770661</td><td>A. Hans Scheirl</td><td>Angela Hans Schierl</td><td>null</td><td>1956 in Salzburg, Austria</td><td>1956</td><td>Salzburg, Austria</td><td>null</td><td>null</td><td>null</td><td>null</td><td>0</td><td>0</td><td>0</td><td>0</td><td>1742946019</td><td>null</td><td>69</td></tr><tr><td>nm0072200</td><td>A. Jonathan Benny</td><td>A. Jonathan Benny</td><td>null</td><td>November 4, 1970</td><td>1970</td><td>null</td><td>null</td><td>null</td><td>null</td><td>null</td><td>0</td><td>0</td><td>0</td><td>0</td><td>1742946019</td><td>null</td><td>55</td></tr></tbody></table></div>"
      ]
     },
     "metadata": {
      "application/vnd.databricks.v1+output": {
       "addedWidgets": {},
       "aggData": [],
       "aggError": "",
       "aggOverflow": false,
       "aggSchema": [],
       "aggSeriesLimitReached": false,
       "aggType": "",
       "arguments": {},
       "columnCustomDisplayInfos": {},
       "data": [
        [
         "nm1001478",
         "'Big' LeRoy Mobley",
         "LeRoy King Mobley III",
         193,
         "April 1, 1973 in Atlantic City, New Jersey, USA",
         1973,
         "Atlantic City, New Jersey, USA",
         null,
         null,
         null,
         null,
         0,
         0,
         0,
         0,
         1742946019,
         6.33,
         52
        ],
        [
         "nm0521811",
         "'Ducky' Louie",
         "Lawrence Louie",
         null,
         "July 22, 1931 in Berkeley, California, USA",
         1931,
         "Berkeley, California, USA",
         null,
         null,
         null,
         null,
         0,
         0,
         0,
         0,
         1742946019,
         null,
         94
        ],
        [
         "nm0722372",
         "'Little Billy' Rhodes",
         "William H. Rhodes",
         null,
         "February 1, 1895 in Illinois, USA",
         1895,
         "Illinois, USA",
         1967,
         "Hollywood, California, USA  ",
         "stroke",
         null,
         0,
         0,
         0,
         0,
         1742946019,
         null,
         72
        ],
        [
         "nm0946148",
         "'Weird Al' Yankovic",
         "Alfred Matthew Yankovic",
         183,
         "October 23, 1959 in Downey, California, USA",
         1959,
         "Downey, California, USA",
         null,
         null,
         null,
         "Suzanne Krajewski  (10 February 2001 - present) (1 child)",
         1,
         0,
         1,
         1,
         1742946019,
         6.0,
         66
        ],
        [
         "nm1265067",
         "50 Cent",
         "Curtis James Jackson III",
         183,
         "July 6, 1975 in Queens, New York City, New York, USA",
         1975,
         "Queens, New York City, New York, USA",
         null,
         null,
         null,
         null,
         0,
         0,
         0,
         0,
         1742946019,
         6.0,
         50
        ],
        [
         "nm0553436",
         "A Martinez",
         "Adolph Larrue Martinez III",
         175,
         "September 27, 1948 in Glendale, California, USA",
         1948,
         "Glendale, California, USA",
         null,
         null,
         null,
         "Leslie Bryans  (17 July 1982 - present) (3 children)Mare Winningham  (1981 - 29 January 1982) (divorced)",
         2,
         1,
         1,
         3,
         1742946019,
         5.74,
         77
        ],
        [
         "nm1100197",
         "A. Baldwin Sloane",
         "A. Baldwin Sloane",
         null,
         "August 28, 1872 in Baltimore, Maryland, USA",
         1872,
         "Baltimore, Maryland, USA",
         1925,
         "Red Bank, New Jersey, USA",
         null,
         null,
         0,
         0,
         0,
         0,
         1742946019,
         null,
         53
        ],
        [
         "nm0080406",
         "A. Bhimsingh",
         "A. Bhimsingh",
         null,
         "July 15, 1924 in Tirupati, Andhra Pradesh, India",
         1924,
         "Tirupati, Andhra Pradesh, India",
         1978,
         "Madras, Tamil Nadu, India",
         null,
         "Sukumari  (? - 16 January 1978) (his death) (1 child)",
         1,
         0,
         1,
         1,
         1742946019,
         null,
         54
        ],
        [
         "nm0770661",
         "A. Hans Scheirl",
         "Angela Hans Schierl",
         null,
         "1956 in Salzburg, Austria",
         1956,
         "Salzburg, Austria",
         null,
         null,
         null,
         null,
         0,
         0,
         0,
         0,
         1742946019,
         null,
         69
        ],
        [
         "nm0072200",
         "A. Jonathan Benny",
         "A. Jonathan Benny",
         null,
         "November 4, 1970",
         1970,
         null,
         null,
         null,
         null,
         null,
         0,
         0,
         0,
         0,
         1742946019,
         null,
         55
        ]
       ],
       "datasetInfos": [],
       "dbfsResultPath": null,
       "isJsonSchema": true,
       "metadata": {},
       "overflow": false,
       "plotOptions": {
        "customPlotOptions": {},
        "displayType": "table",
        "pivotAggregation": null,
        "pivotColumns": null,
        "xColumns": null,
        "yColumns": null
       },
       "removedWidgets": [],
       "schema": [
        {
         "metadata": "{}",
         "name": "Imdb Name Id",
         "type": "\"string\""
        },
        {
         "metadata": "{}",
         "name": "Name",
         "type": "\"string\""
        },
        {
         "metadata": "{}",
         "name": "Birth Name",
         "type": "\"string\""
        },
        {
         "metadata": "{}",
         "name": "Height",
         "type": "\"integer\""
        },
        {
         "metadata": "{}",
         "name": "Birth Details",
         "type": "\"string\""
        },
        {
         "metadata": "{}",
         "name": "Date Of Birth",
         "type": "\"integer\""
        },
        {
         "metadata": "{}",
         "name": "Place Of Birth",
         "type": "\"string\""
        },
        {
         "metadata": "{}",
         "name": "Date Of Death",
         "type": "\"integer\""
        },
        {
         "metadata": "{}",
         "name": "Place Of Death",
         "type": "\"string\""
        },
        {
         "metadata": "{}",
         "name": "Reason Of Death",
         "type": "\"string\""
        },
        {
         "metadata": "{}",
         "name": "Spouses String",
         "type": "\"string\""
        },
        {
         "metadata": "{}",
         "name": "Spouses",
         "type": "\"integer\""
        },
        {
         "metadata": "{}",
         "name": "Divorces",
         "type": "\"integer\""
        },
        {
         "metadata": "{}",
         "name": "Spouses With Children",
         "type": "\"integer\""
        },
        {
         "metadata": "{}",
         "name": "Children",
         "type": "\"integer\""
        },
        {
         "metadata": "{}",
         "name": "Time",
         "type": "\"long\""
        },
        {
         "metadata": "{}",
         "name": "Heightfeet",
         "type": "\"double\""
        },
        {
         "metadata": "{}",
         "name": "Actorage",
         "type": "\"integer\""
        }
       ],
       "type": "table"
      }
     },
     "output_type": "display_data"
    }
   ],
   "source": [
    "from pyspark.sql.functions import *\n",
    "\n",
    "filePath = \"dbfs:/FileStore/tables/Files/names.csv\"\n",
    "namesDf = spark.read.format(\"csv\")\\\n",
    "              .option(\"header\", \"true\")\\\n",
    "              .option(\"inferSchema\", \"true\")\\\n",
    "              .load(filePath)\n",
    "\n",
    "# Dodaj kolumnę z wartością czasu wykonania notatnika w formacie epoch\n",
    "namesDf = namesDf.withColumn(\"Time\", unix_timestamp())\n",
    "\n",
    "# Dodaj kolumnę w której wyliczysz wzrost w stopach (feet)\n",
    "namesDf = namesDf.withColumn(\"HeightFeet\", round(col(\"height\") / 30.48, 2))\n",
    "\n",
    "# Odpowiedz na pytanie jakie jest najpopularniesze imię?\n",
    "common_name = namesDf.groupBy(\"name\").count().orderBy(col(\"count\").desc()).select(\"name\").first()[0]\n",
    "print(f\"Najpopularniejsze imię: {common_name}\")\n",
    "\n",
    "namesDf = namesDf.withColumn(\"date_of_birth\", regexp_extract(col(\"date_of_birth\"), r\"(\\d{4})\", 1).cast(\"int\"))\n",
    "namesDf = namesDf.withColumn(\"date_of_death\", regexp_extract(col(\"date_of_death\"), r\"(\\d{4})\", 1).cast(\"int\"))\n",
    "\n",
    "# Dodaj kolumnę i policz wiek aktorów\n",
    "namesDf = namesDf.withColumn(\"ActorAge\", \n",
    "    when(col(\"date_of_birth\").isNotNull(),\n",
    "         when(col(\"date_of_death\").isNotNull(), col(\"date_of_death\") - col(\"date_of_birth\"))\n",
    "         .otherwise(year(current_date()) - col(\"date_of_birth\"))\n",
    "    )\n",
    ")\n",
    "\n",
    "# Usuń kolumny (bio, death_details)\n",
    "namesDf = namesDf.drop(\"bio\", \"death_details\")\n",
    "\n",
    "# Zmień nazwy kolumn - dodaj kapitalizaję i usuń _\n",
    "namesDf = namesDf.select([col(c).alias(c.replace(\"_\", \" \").title()) for c in namesDf.columns])\n",
    "\n",
    "# Posortuj dataframe po imieniu rosnąco\n",
    "namesDf = namesDf.orderBy(\"Name\")\n",
    "\n",
    "display(namesDf.limit(10))\n"
   ]
  },
  {
   "cell_type": "markdown",
   "metadata": {
    "application/vnd.databricks.v1+cell": {
     "cellMetadata": {
      "byteLimit": 2048000,
      "rowLimit": 10000
     },
     "inputWidgets": {},
     "nuid": "f86d9d14-5103-4d4a-8df2-cec361db347d",
     "showTitle": false,
     "tableResultSettingsMap": {},
     "title": ""
    }
   },
   "source": [
    "Movies.csv\n",
    "* Dodaj kolumnę z wartością czasu wykonania notatnika w formacie epoch\n",
    "* Dodaj kolumnę która wylicza ile lat upłynęło od publikacji filmu\n",
    "* Dodaj kolumnę która pokaże budżet filmu jako wartość numeryczną, (trzeba usunac znaki walut)\n",
    "* Usuń wiersze z dataframe gdzie wartości są null"
   ]
  },
  {
   "cell_type": "code",
   "execution_count": 0,
   "metadata": {
    "application/vnd.databricks.v1+cell": {
     "cellMetadata": {
      "byteLimit": 2048000,
      "rowLimit": 10000
     },
     "inputWidgets": {},
     "nuid": "dc238ac0-9f22-4685-b2d2-1a074e813334",
     "showTitle": false,
     "tableResultSettingsMap": {},
     "title": ""
    }
   },
   "outputs": [
    {
     "output_type": "display_data",
     "data": {
      "text/html": [
       "<style scoped>\n",
       "  .table-result-container {\n",
       "    max-height: 300px;\n",
       "    overflow: auto;\n",
       "  }\n",
       "  table, th, td {\n",
       "    border: 1px solid black;\n",
       "    border-collapse: collapse;\n",
       "  }\n",
       "  th, td {\n",
       "    padding: 5px;\n",
       "  }\n",
       "  th {\n",
       "    text-align: left;\n",
       "  }\n",
       "</style><div class='table-result-container'><table class='table-result'><thead style='background-color: white'><tr><th>imdb_title_id</th><th>title</th><th>original_title</th><th>year</th><th>date_published</th><th>genre</th><th>duration</th><th>country</th><th>language</th><th>director</th><th>writer</th><th>production_company</th><th>actors</th><th>description</th><th>avg_vote</th><th>votes</th><th>budget</th><th>usa_gross_income</th><th>worlwide_gross_income</th><th>metascore</th><th>reviews_from_users</th><th>reviews_from_critics</th><th>Time</th><th>YearsSinceRelease</th><th>BudgetNumeric</th></tr></thead><tbody><tr><td>tt0017136</td><td>Metropolis</td><td>Metropolis</td><td>1927</td><td>1928</td><td>Drama, Sci-Fi</td><td>153</td><td>Germany</td><td>German</td><td>Fritz Lang</td><td>Thea von Harbou, Thea von Harbou</td><td>Universum Film (UFA)</td><td>Alfred Abel, Gustav Fröhlich, Rudolf Klein-Rogge, Fritz Rasp, Theodor Loos, Erwin Biswanger, Heinrich George, Brigitte Helm</td><td>In a futuristic city sharply divided between the working class and the city planners, the son of the city's mastermind falls in love with a working class prophet who predicts the coming of a savior to mediate their differences.</td><td>08.mar</td><td>156076</td><td>DEM 6000000</td><td>$ 1236166</td><td>$ 1349711</td><td>98.0</td><td>495.0</td><td>208.0</td><td>1742945919</td><td>97</td><td>6000000</td></tr><tr><td>tt0021749</td><td>Luci della città</td><td>City Lights</td><td>1931</td><td>1931</td><td>Comedy, Drama, Romance</td><td>87</td><td>USA</td><td>English</td><td>Charles Chaplin</td><td>Charles Chaplin</td><td>Charles Chaplin Productions</td><td>Virginia Cherrill, Florence Lee, Harry Myers, Al Ernest Garcia, Hank Mann, Charles Chaplin</td><td>With the aid of a wealthy erratic tippler, a dewy-eyed tramp who has fallen in love with a sightless flower girl accumulates money to be able to help her medically.</td><td>08.maj</td><td>162668</td><td>$ 1500000</td><td>$ 19181</td><td>$ 46008</td><td>99.0</td><td>295.0</td><td>122.0</td><td>1742945919</td><td>94</td><td>1500000</td></tr><tr><td>tt0027977</td><td>Tempi moderni</td><td>Modern Times</td><td>1936</td><td>1937</td><td>Comedy, Drama, Family</td><td>87</td><td>USA</td><td>English</td><td>Charles Chaplin</td><td>Charles Chaplin</td><td>Charles Chaplin Productions</td><td>Charles Chaplin, Paulette Goddard, Henry Bergman, Tiny Sandford, Chester Conklin, Hank Mann, Stanley Blystone, Al Ernest Garcia, Richard Alexander, Cecil Reynolds, Mira McKinney, Murdock MacQuarrie, Wilfred Lucas, Edward LeSaint, Fred Malatesta</td><td>The Tramp struggles to live in modern industrial society with the help of a young homeless woman.</td><td>08.maj</td><td>211250</td><td>$ 1500000</td><td>$ 163577</td><td>$ 457688</td><td>96.0</td><td>307.0</td><td>115.0</td><td>1742945919</td><td>88</td><td>1500000</td></tr><tr><td>tt0029453</td><td>Il bandito della Casbah</td><td>Pépé le Moko</td><td>1937</td><td>1937</td><td>Crime, Drama, Romance</td><td>94</td><td>France</td><td>French, Arabic</td><td>Julien Duvivier</td><td>Henri La Barthe, Henri La Barthe</td><td>Paris Film</td><td>Jean Gabin, Gabriel Gabrio, Saturnin Fabre, Fernand Charpin, Lucas Gridoux, Gilbert Gil, Marcel Dalio, Charles Granval, Gaston Modot, René Bergeron, Paul Escoffier, Roger Legris, Jean Témerson, Robert Ozanne, Philippe Richard</td><td>A wanted gangster is both king and prisoner of the Casbah. He is protected from arrest by his friends, but is torn by his desire for freedom outside. A visiting Parisian beauty may just tempt his fate.</td><td>07.lip</td><td>6180</td><td>$ 60000</td><td>$ 155895</td><td>$ 155895</td><td>98.0</td><td>46.0</td><td>55.0</td><td>1742945919</td><td>88</td><td>60000</td></tr><tr><td>tt0029583</td><td>Biancaneve e i sette nani</td><td>Snow White and the Seven Dwarfs</td><td>1937</td><td>1938</td><td>Animation, Family, Fantasy</td><td>83</td><td>USA</td><td>English</td><td>William Cottrell, David Hand</td><td>Jacob Grimm, Wilhelm Grimm</td><td>Walt Disney Productions</td><td>Roy Atwell, Stuart Buchanan, Adriana Caselotti, Eddie Collins, Pinto Colvig, Marion Darlington, Billy Gilbert, Otis Harlan, Lucille La Verne, James MacDonald, Scotty Mattraw, Moroni Olsen, Purv Pullen, Harry Stockwell, Bill Thompson</td><td>Exiled into the dangerous forest by her wicked stepmother, a princess is rescued by seven dwarf miners who make her part of their household.</td><td>07.cze</td><td>177157</td><td>$ 1499000</td><td>$ 184925486</td><td>$ 184925486</td><td>95.0</td><td>260.0</td><td>173.0</td><td>1742945919</td><td>87</td><td>1499000</td></tr><tr><td>tt0031381</td><td>Via col vento</td><td>Gone with the Wind</td><td>1939</td><td>1949</td><td>Drama, History, Romance</td><td>238</td><td>USA</td><td>English</td><td>Victor Fleming, George Cukor</td><td>Margaret Mitchell, Sidney Howard</td><td>Selznick International Pictures</td><td>Thomas Mitchell, Barbara O'Neil, Vivien Leigh, Evelyn Keyes, Ann Rutherford, George Reeves, Fred Crane, Hattie McDaniel, Oscar Polk, Butterfly McQueen, Victor Jory, Everett Brown, Howard Hickman, Alicia Rhett, Leslie Howard</td><td>A manipulative woman and a roguish man conduct a turbulent romance during the American Civil War and Reconstruction periods.</td><td>08.sty</td><td>283975</td><td>$ 3977000</td><td>$ 200852579</td><td>$ 402352579</td><td>97.0</td><td>881.0</td><td>197.0</td><td>1742945919</td><td>76</td><td>3977000</td></tr><tr><td>tt0031679</td><td>Mr. Smith va a Washington</td><td>Mr. Smith Goes to Washington</td><td>1939</td><td>1947</td><td>Comedy, Drama</td><td>129</td><td>USA</td><td>English</td><td>Frank Capra</td><td>Sidney Buchman, Lewis R. Foster</td><td>Columbia Pictures</td><td>Jean Arthur, James Stewart, Claude Rains, Edward Arnold, Guy Kibbee, Thomas Mitchell, Eugene Pallette, Beulah Bondi, H.B. Warner, Harry Carey, Astrid Allwyn, Ruth Donnelly, Grant Mitchell, Porter Hall, H.V. Kaltenborn</td><td>A naive man is appointed to fill a vacancy in the United States Senate. His plans promptly collide with political corruption, but he doesn't back down.</td><td>08.sty</td><td>104547</td><td>$ 1900000</td><td>$ 144738</td><td>$ 144738</td><td>73.0</td><td>296.0</td><td>88.0</td><td>1742945919</td><td>78</td><td>1900000</td></tr><tr><td>tt0032138</td><td>Il mago di Oz</td><td>The Wizard of Oz</td><td>1939</td><td>1949</td><td>Adventure, Family, Fantasy</td><td>102</td><td>USA</td><td>English</td><td>Victor Fleming, George Cukor</td><td>Noel Langley, Florence Ryerson</td><td>Metro-Goldwyn-Mayer (MGM)</td><td>Judy Garland, Frank Morgan, Ray Bolger, Bert Lahr, Jack Haley, Billie Burke, Margaret Hamilton, Charley Grapewin, Pat Walshe, Clara Blandick, Terry, The Singer Midgets</td><td>Dorothy Gale is swept away from a farm in Kansas to a magical land of Oz in a tornado and embarks on a quest with her new friends to see the Wizard who can help her return home to Kansas and help her friends as well.</td><td>8.0</td><td>366293</td><td>$ 2777000</td><td>$ 24790250</td><td>$ 26142032</td><td>100.0</td><td>688.0</td><td>168.0</td><td>1742945919</td><td>76</td><td>2777000</td></tr><tr><td>tt0032455</td><td>Fantasia</td><td>Fantasia</td><td>1940</td><td>1946</td><td>Animation, Family, Fantasy</td><td>125</td><td>USA</td><td>English</td><td>James Algar, Samuel Armstrong</td><td>Joe Grant, Dick Huemer</td><td>Walt Disney Productions</td><td>Deems Taylor, Leopold Stokowski, The Philadelphia Orchestra</td><td>A collection of animated interpretations of great works of Western classical music.</td><td>07.sie</td><td>86795</td><td>$ 2280000</td><td>$ 76408097</td><td>$ 76411401</td><td>96.0</td><td>342.0</td><td>119.0</td><td>1742945919</td><td>79</td><td>2280000</td></tr><tr><td>tt0032910</td><td>Pinocchio</td><td>Pinocchio</td><td>1940</td><td>1947</td><td>Animation, Comedy, Family</td><td>88</td><td>USA</td><td>English</td><td>Norman Ferguson, T. Hee</td><td>Carlo Collodi, Ted Sears</td><td>Walt Disney Animation Studios</td><td>Mel Blanc, Don Brodie, Stuart Buchanan, Walter Catlett, Marion Darlington, Frankie Darro, Cliff Edwards, Dickie Jones, Charles Judels, John McLeish, Clarence Nash, Patricia Page, Christian Rub, Bill Thompson, Evelyn Venable</td><td>A living puppet, with the help of a cricket as his conscience, must prove himself worthy to become a real boy.</td><td>07.kwi</td><td>127618</td><td>$ 2600000</td><td>$ 84254167</td><td>$ 121892045</td><td>99.0</td><td>202.0</td><td>140.0</td><td>1742945919</td><td>78</td><td>2600000</td></tr></tbody></table></div>"
      ]
     },
     "metadata": {
      "application/vnd.databricks.v1+output": {
       "addedWidgets": {},
       "aggData": [],
       "aggError": "",
       "aggOverflow": false,
       "aggSchema": [],
       "aggSeriesLimitReached": false,
       "aggType": "",
       "arguments": {},
       "columnCustomDisplayInfos": {},
       "data": [
        [
         "tt0017136",
         "Metropolis",
         "Metropolis",
         "1927",
         1928,
         "Drama, Sci-Fi",
         153,
         "Germany",
         "German",
         "Fritz Lang",
         "Thea von Harbou, Thea von Harbou",
         "Universum Film (UFA)",
         "Alfred Abel, Gustav Fröhlich, Rudolf Klein-Rogge, Fritz Rasp, Theodor Loos, Erwin Biswanger, Heinrich George, Brigitte Helm",
         "In a futuristic city sharply divided between the working class and the city planners, the son of the city's mastermind falls in love with a working class prophet who predicts the coming of a savior to mediate their differences.",
         "08.mar",
         156076,
         "DEM 6000000",
         "$ 1236166",
         "$ 1349711",
         98.0,
         495.0,
         208.0,
         1742945919,
         97,
         6000000
        ],
        [
         "tt0021749",
         "Luci della città",
         "City Lights",
         "1931",
         1931,
         "Comedy, Drama, Romance",
         87,
         "USA",
         "English",
         "Charles Chaplin",
         "Charles Chaplin",
         "Charles Chaplin Productions",
         "Virginia Cherrill, Florence Lee, Harry Myers, Al Ernest Garcia, Hank Mann, Charles Chaplin",
         "With the aid of a wealthy erratic tippler, a dewy-eyed tramp who has fallen in love with a sightless flower girl accumulates money to be able to help her medically.",
         "08.maj",
         162668,
         "$ 1500000",
         "$ 19181",
         "$ 46008",
         99.0,
         295.0,
         122.0,
         1742945919,
         94,
         1500000
        ],
        [
         "tt0027977",
         "Tempi moderni",
         "Modern Times",
         "1936",
         1937,
         "Comedy, Drama, Family",
         87,
         "USA",
         "English",
         "Charles Chaplin",
         "Charles Chaplin",
         "Charles Chaplin Productions",
         "Charles Chaplin, Paulette Goddard, Henry Bergman, Tiny Sandford, Chester Conklin, Hank Mann, Stanley Blystone, Al Ernest Garcia, Richard Alexander, Cecil Reynolds, Mira McKinney, Murdock MacQuarrie, Wilfred Lucas, Edward LeSaint, Fred Malatesta",
         "The Tramp struggles to live in modern industrial society with the help of a young homeless woman.",
         "08.maj",
         211250,
         "$ 1500000",
         "$ 163577",
         "$ 457688",
         96.0,
         307.0,
         115.0,
         1742945919,
         88,
         1500000
        ],
        [
         "tt0029453",
         "Il bandito della Casbah",
         "Pépé le Moko",
         "1937",
         1937,
         "Crime, Drama, Romance",
         94,
         "France",
         "French, Arabic",
         "Julien Duvivier",
         "Henri La Barthe, Henri La Barthe",
         "Paris Film",
         "Jean Gabin, Gabriel Gabrio, Saturnin Fabre, Fernand Charpin, Lucas Gridoux, Gilbert Gil, Marcel Dalio, Charles Granval, Gaston Modot, René Bergeron, Paul Escoffier, Roger Legris, Jean Témerson, Robert Ozanne, Philippe Richard",
         "A wanted gangster is both king and prisoner of the Casbah. He is protected from arrest by his friends, but is torn by his desire for freedom outside. A visiting Parisian beauty may just tempt his fate.",
         "07.lip",
         6180,
         "$ 60000",
         "$ 155895",
         "$ 155895",
         98.0,
         46.0,
         55.0,
         1742945919,
         88,
         60000
        ],
        [
         "tt0029583",
         "Biancaneve e i sette nani",
         "Snow White and the Seven Dwarfs",
         "1937",
         1938,
         "Animation, Family, Fantasy",
         83,
         "USA",
         "English",
         "William Cottrell, David Hand",
         "Jacob Grimm, Wilhelm Grimm",
         "Walt Disney Productions",
         "Roy Atwell, Stuart Buchanan, Adriana Caselotti, Eddie Collins, Pinto Colvig, Marion Darlington, Billy Gilbert, Otis Harlan, Lucille La Verne, James MacDonald, Scotty Mattraw, Moroni Olsen, Purv Pullen, Harry Stockwell, Bill Thompson",
         "Exiled into the dangerous forest by her wicked stepmother, a princess is rescued by seven dwarf miners who make her part of their household.",
         "07.cze",
         177157,
         "$ 1499000",
         "$ 184925486",
         "$ 184925486",
         95.0,
         260.0,
         173.0,
         1742945919,
         87,
         1499000
        ],
        [
         "tt0031381",
         "Via col vento",
         "Gone with the Wind",
         "1939",
         1949,
         "Drama, History, Romance",
         238,
         "USA",
         "English",
         "Victor Fleming, George Cukor",
         "Margaret Mitchell, Sidney Howard",
         "Selznick International Pictures",
         "Thomas Mitchell, Barbara O'Neil, Vivien Leigh, Evelyn Keyes, Ann Rutherford, George Reeves, Fred Crane, Hattie McDaniel, Oscar Polk, Butterfly McQueen, Victor Jory, Everett Brown, Howard Hickman, Alicia Rhett, Leslie Howard",
         "A manipulative woman and a roguish man conduct a turbulent romance during the American Civil War and Reconstruction periods.",
         "08.sty",
         283975,
         "$ 3977000",
         "$ 200852579",
         "$ 402352579",
         97.0,
         881.0,
         197.0,
         1742945919,
         76,
         3977000
        ],
        [
         "tt0031679",
         "Mr. Smith va a Washington",
         "Mr. Smith Goes to Washington",
         "1939",
         1947,
         "Comedy, Drama",
         129,
         "USA",
         "English",
         "Frank Capra",
         "Sidney Buchman, Lewis R. Foster",
         "Columbia Pictures",
         "Jean Arthur, James Stewart, Claude Rains, Edward Arnold, Guy Kibbee, Thomas Mitchell, Eugene Pallette, Beulah Bondi, H.B. Warner, Harry Carey, Astrid Allwyn, Ruth Donnelly, Grant Mitchell, Porter Hall, H.V. Kaltenborn",
         "A naive man is appointed to fill a vacancy in the United States Senate. His plans promptly collide with political corruption, but he doesn't back down.",
         "08.sty",
         104547,
         "$ 1900000",
         "$ 144738",
         "$ 144738",
         73.0,
         296.0,
         88.0,
         1742945919,
         78,
         1900000
        ],
        [
         "tt0032138",
         "Il mago di Oz",
         "The Wizard of Oz",
         "1939",
         1949,
         "Adventure, Family, Fantasy",
         102,
         "USA",
         "English",
         "Victor Fleming, George Cukor",
         "Noel Langley, Florence Ryerson",
         "Metro-Goldwyn-Mayer (MGM)",
         "Judy Garland, Frank Morgan, Ray Bolger, Bert Lahr, Jack Haley, Billie Burke, Margaret Hamilton, Charley Grapewin, Pat Walshe, Clara Blandick, Terry, The Singer Midgets",
         "Dorothy Gale is swept away from a farm in Kansas to a magical land of Oz in a tornado and embarks on a quest with her new friends to see the Wizard who can help her return home to Kansas and help her friends as well.",
         "8.0",
         366293,
         "$ 2777000",
         "$ 24790250",
         "$ 26142032",
         100.0,
         688.0,
         168.0,
         1742945919,
         76,
         2777000
        ],
        [
         "tt0032455",
         "Fantasia",
         "Fantasia",
         "1940",
         1946,
         "Animation, Family, Fantasy",
         125,
         "USA",
         "English",
         "James Algar, Samuel Armstrong",
         "Joe Grant, Dick Huemer",
         "Walt Disney Productions",
         "Deems Taylor, Leopold Stokowski, The Philadelphia Orchestra",
         "A collection of animated interpretations of great works of Western classical music.",
         "07.sie",
         86795,
         "$ 2280000",
         "$ 76408097",
         "$ 76411401",
         96.0,
         342.0,
         119.0,
         1742945919,
         79,
         2280000
        ],
        [
         "tt0032910",
         "Pinocchio",
         "Pinocchio",
         "1940",
         1947,
         "Animation, Comedy, Family",
         88,
         "USA",
         "English",
         "Norman Ferguson, T. Hee",
         "Carlo Collodi, Ted Sears",
         "Walt Disney Animation Studios",
         "Mel Blanc, Don Brodie, Stuart Buchanan, Walter Catlett, Marion Darlington, Frankie Darro, Cliff Edwards, Dickie Jones, Charles Judels, John McLeish, Clarence Nash, Patricia Page, Christian Rub, Bill Thompson, Evelyn Venable",
         "A living puppet, with the help of a cricket as his conscience, must prove himself worthy to become a real boy.",
         "07.kwi",
         127618,
         "$ 2600000",
         "$ 84254167",
         "$ 121892045",
         99.0,
         202.0,
         140.0,
         1742945919,
         78,
         2600000
        ]
       ],
       "datasetInfos": [],
       "dbfsResultPath": null,
       "isJsonSchema": true,
       "metadata": {},
       "overflow": false,
       "plotOptions": {
        "customPlotOptions": {},
        "displayType": "table",
        "pivotAggregation": null,
        "pivotColumns": null,
        "xColumns": null,
        "yColumns": null
       },
       "removedWidgets": [],
       "schema": [
        {
         "metadata": "{}",
         "name": "imdb_title_id",
         "type": "\"string\""
        },
        {
         "metadata": "{}",
         "name": "title",
         "type": "\"string\""
        },
        {
         "metadata": "{}",
         "name": "original_title",
         "type": "\"string\""
        },
        {
         "metadata": "{}",
         "name": "year",
         "type": "\"string\""
        },
        {
         "metadata": "{}",
         "name": "date_published",
         "type": "\"integer\""
        },
        {
         "metadata": "{}",
         "name": "genre",
         "type": "\"string\""
        },
        {
         "metadata": "{}",
         "name": "duration",
         "type": "\"integer\""
        },
        {
         "metadata": "{}",
         "name": "country",
         "type": "\"string\""
        },
        {
         "metadata": "{}",
         "name": "language",
         "type": "\"string\""
        },
        {
         "metadata": "{}",
         "name": "director",
         "type": "\"string\""
        },
        {
         "metadata": "{}",
         "name": "writer",
         "type": "\"string\""
        },
        {
         "metadata": "{}",
         "name": "production_company",
         "type": "\"string\""
        },
        {
         "metadata": "{}",
         "name": "actors",
         "type": "\"string\""
        },
        {
         "metadata": "{}",
         "name": "description",
         "type": "\"string\""
        },
        {
         "metadata": "{}",
         "name": "avg_vote",
         "type": "\"string\""
        },
        {
         "metadata": "{}",
         "name": "votes",
         "type": "\"integer\""
        },
        {
         "metadata": "{}",
         "name": "budget",
         "type": "\"string\""
        },
        {
         "metadata": "{}",
         "name": "usa_gross_income",
         "type": "\"string\""
        },
        {
         "metadata": "{}",
         "name": "worlwide_gross_income",
         "type": "\"string\""
        },
        {
         "metadata": "{}",
         "name": "metascore",
         "type": "\"double\""
        },
        {
         "metadata": "{}",
         "name": "reviews_from_users",
         "type": "\"double\""
        },
        {
         "metadata": "{}",
         "name": "reviews_from_critics",
         "type": "\"double\""
        },
        {
         "metadata": "{}",
         "name": "Time",
         "type": "\"long\""
        },
        {
         "metadata": "{}",
         "name": "YearsSinceRelease",
         "type": "\"integer\""
        },
        {
         "metadata": "{}",
         "name": "BudgetNumeric",
         "type": "\"integer\""
        }
       ],
       "type": "table"
      }
     },
     "output_type": "display_data"
    }
   ],
   "source": [
    "from pyspark.sql.functions import *\n",
    "\n",
    "filePath = \"dbfs:/FileStore/tables/Files/movies.csv\"\n",
    "moviesDf = spark.read.format(\"csv\")\\\n",
    "    .option(\"header\", \"true\")\\\n",
    "    .option(\"inferSchema\", \"true\")\\\n",
    "    .load(filePath)\n",
    "\n",
    "# Dodanie kolumny z czasem w formacie epoch\n",
    "moviesDf = moviesDf.withColumn(\"Time\", unix_timestamp())\n",
    "\n",
    "# Ekstrakcja roku z kolumny date_published (jeśli występują inne znaki, usuwamy je)\n",
    "moviesDf = moviesDf.withColumn(\"date_published\", regexp_extract(col(\"date_published\"), r\"(\\d{4})\", 1).cast(\"int\"))\n",
    "\n",
    "# Obliczanie lat od publikacji filmu\n",
    "moviesDf = moviesDf.withColumn(\"YearsSinceRelease\", year(current_date()) - col(\"date_published\"))\n",
    "\n",
    "# Konwersja budżetu na liczbę (usunięcie znaków walut)\n",
    "moviesDf = moviesDf.withColumn(\"BudgetNumeric\", regexp_extract(col(\"budget\"), r\"(\\d+)\", 1).cast(\"int\"))\n",
    "\n",
    "# Usunięcie wierszy z brakującymi wartościami\n",
    "moviesDf = moviesDf.dropna()\n",
    "\n",
    "display(moviesDf.limit(10))\n",
    "\n"
   ]
  },
  {
   "cell_type": "markdown",
   "metadata": {
    "application/vnd.databricks.v1+cell": {
     "cellMetadata": {
      "byteLimit": 2048000,
      "rowLimit": 10000
     },
     "inputWidgets": {},
     "nuid": "18d1e437-12d6-41c0-a8f4-d430ae74431f",
     "showTitle": false,
     "tableResultSettingsMap": {},
     "title": ""
    }
   },
   "source": [
    "ratings.csv\n",
    "* Dodaj kolumnę z wartością czasu wykonania notatnika w formacie epoch\n",
    "* Dla każdego z poniższych wyliczeń nie bierz pod uwagę `nulls` \n",
    "* Kto daje lepsze oceny chłopcy czy dziewczyny dla całego setu\n",
    "* Dla jednej z kolumn zmień typ danych do `long` "
   ]
  },
  {
   "cell_type": "code",
   "execution_count": 0,
   "metadata": {
    "application/vnd.databricks.v1+cell": {
     "cellMetadata": {
      "byteLimit": 2048000,
      "rowLimit": 10000
     },
     "inputWidgets": {},
     "nuid": "75c22c14-a54e-4727-b2ad-f8b631f2b541",
     "showTitle": false,
     "tableResultSettingsMap": {},
     "title": ""
    }
   },
   "outputs": [
    {
     "output_type": "stream",
     "name": "stdout",
     "output_type": "stream",
     "text": [
      "Lepsze oceny wystawiają: kobiety\n"
     ]
    },
    {
     "output_type": "display_data",
     "data": {
      "text/html": [
       "<style scoped>\n",
       "  .table-result-container {\n",
       "    max-height: 300px;\n",
       "    overflow: auto;\n",
       "  }\n",
       "  table, th, td {\n",
       "    border: 1px solid black;\n",
       "    border-collapse: collapse;\n",
       "  }\n",
       "  th, td {\n",
       "    padding: 5px;\n",
       "  }\n",
       "  th {\n",
       "    text-align: left;\n",
       "  }\n",
       "</style><div class='table-result-container'><table class='table-result'><thead style='background-color: white'><tr><th>imdb_title_id</th><th>weighted_average_vote</th><th>total_votes</th><th>mean_vote</th><th>median_vote</th><th>votes_10</th><th>votes_9</th><th>votes_8</th><th>votes_7</th><th>votes_6</th><th>votes_5</th><th>votes_4</th><th>votes_3</th><th>votes_2</th><th>votes_1</th><th>allgenders_0age_avg_vote</th><th>allgenders_0age_votes</th><th>allgenders_18age_avg_vote</th><th>allgenders_18age_votes</th><th>allgenders_30age_avg_vote</th><th>allgenders_30age_votes</th><th>allgenders_45age_avg_vote</th><th>allgenders_45age_votes</th><th>males_allages_avg_vote</th><th>males_allages_votes</th><th>males_0age_avg_vote</th><th>males_0age_votes</th><th>males_18age_avg_vote</th><th>males_18age_votes</th><th>males_30age_avg_vote</th><th>males_30age_votes</th><th>males_45age_avg_vote</th><th>males_45age_votes</th><th>females_allages_avg_vote</th><th>females_allages_votes</th><th>females_0age_avg_vote</th><th>females_0age_votes</th><th>females_18age_avg_vote</th><th>females_18age_votes</th><th>females_30age_avg_vote</th><th>females_30age_votes</th><th>females_45age_avg_vote</th><th>females_45age_votes</th><th>top1000_voters_rating</th><th>top1000_voters_votes</th><th>us_voters_rating</th><th>us_voters_votes</th><th>non_us_voters_rating</th><th>non_us_voters_votes</th><th>Time</th></tr></thead><tbody><tr><td>tt0000009</td><td>5.9</td><td>154</td><td>5</td><td>6.0</td><td>12</td><td>4</td><td>10</td><td>43</td><td>28</td><td>28</td><td>9</td><td>1</td><td>5</td><td>14</td><td>7.2</td><td>4.0</td><td>6.0</td><td>38.0</td><td>5.7</td><td>50.0</td><td>6.6</td><td>35.0</td><td>6.2</td><td>97.0</td><td>7.0</td><td>1.0</td><td>5.9</td><td>24.0</td><td>5.6</td><td>36.0</td><td>6.7</td><td>31.0</td><td>6.0</td><td>35.0</td><td>7.3</td><td>3.0</td><td>5.9</td><td>14.0</td><td>5.7</td><td>13.0</td><td>4.5</td><td>4.0</td><td>5.7</td><td>34.0</td><td>6.4</td><td>51.0</td><td>6.0</td><td>70.0</td><td>1742945999</td></tr><tr><td>tt0002130</td><td>7.0</td><td>2237</td><td>6</td><td>7.0</td><td>210</td><td>225</td><td>436</td><td>641</td><td>344</td><td>169</td><td>66</td><td>39</td><td>20</td><td>87</td><td>7.5</td><td>4.0</td><td>7.0</td><td>402.0</td><td>7.0</td><td>895.0</td><td>7.1</td><td>482.0</td><td>7.0</td><td>1607.0</td><td>8.0</td><td>2.0</td><td>7.0</td><td>346.0</td><td>7.0</td><td>804.0</td><td>7.0</td><td>396.0</td><td>7.2</td><td>215.0</td><td>7.0</td><td>2.0</td><td>7.0</td><td>52.0</td><td>7.3</td><td>82.0</td><td>7.4</td><td>77.0</td><td>6.9</td><td>139.0</td><td>7.0</td><td>488.0</td><td>7.0</td><td>1166.0</td><td>1742945999</td></tr><tr><td>tt0003740</td><td>7.1</td><td>3073</td><td>6</td><td>7.0</td><td>285</td><td>301</td><td>591</td><td>727</td><td>443</td><td>199</td><td>85</td><td>27</td><td>18</td><td>397</td><td>6.0</td><td>3.0</td><td>7.0</td><td>393.0</td><td>7.0</td><td>1126.0</td><td>7.2</td><td>1006.0</td><td>7.1</td><td>2149.0</td><td>6.0</td><td>2.0</td><td>7.0</td><td>323.0</td><td>7.0</td><td>976.0</td><td>7.3</td><td>799.0</td><td>6.9</td><td>402.0</td><td>6.0</td><td>1.0</td><td>6.8</td><td>67.0</td><td>6.9</td><td>134.0</td><td>6.8</td><td>194.0</td><td>6.9</td><td>177.0</td><td>7.0</td><td>1035.0</td><td>7.0</td><td>1332.0</td><td>1742945999</td></tr><tr><td>tt0004972</td><td>6.3</td><td>22213</td><td>6</td><td>7.0</td><td>3661</td><td>1741</td><td>3314</td><td>3963</td><td>2876</td><td>1928</td><td>978</td><td>701</td><td>577</td><td>2474</td><td>4.7</td><td>14.0</td><td>6.0</td><td>3183.0</td><td>6.3</td><td>8861.0</td><td>6.7</td><td>4901.0</td><td>6.4</td><td>14818.0</td><td>4.7</td><td>12.0</td><td>6.1</td><td>2623.0</td><td>6.4</td><td>7669.0</td><td>6.8</td><td>4104.0</td><td>5.7</td><td>2417.0</td><td>6.0</td><td>1.0</td><td>5.4</td><td>517.0</td><td>5.8</td><td>1106.0</td><td>5.9</td><td>725.0</td><td>6.5</td><td>355.0</td><td>6.3</td><td>7452.0</td><td>6.4</td><td>8306.0</td><td>1742945999</td></tr><tr><td>tt0005680</td><td>5.9</td><td>130</td><td>5</td><td>6.0</td><td>4</td><td>3</td><td>8</td><td>20</td><td>52</td><td>27</td><td>8</td><td>5</td><td>2</td><td>1</td><td>5.0</td><td>3.0</td><td>5.8</td><td>19.0</td><td>5.9</td><td>44.0</td><td>5.9</td><td>50.0</td><td>5.9</td><td>102.0</td><td>5.0</td><td>2.0</td><td>5.8</td><td>16.0</td><td>5.8</td><td>40.0</td><td>6.0</td><td>43.0</td><td>5.9</td><td>12.0</td><td>5.0</td><td>1.0</td><td>5.5</td><td>2.0</td><td>6.5</td><td>4.0</td><td>6.2</td><td>5.0</td><td>5.7</td><td>50.0</td><td>5.9</td><td>26.0</td><td>5.8</td><td>87.0</td><td>1742945999</td></tr><tr><td>tt0006206</td><td>7.3</td><td>4166</td><td>6</td><td>7.0</td><td>620</td><td>439</td><td>763</td><td>872</td><td>484</td><td>232</td><td>140</td><td>40</td><td>31</td><td>545</td><td>6.5</td><td>7.0</td><td>7.1</td><td>517.0</td><td>7.3</td><td>1661.0</td><td>7.3</td><td>1294.0</td><td>7.3</td><td>2835.0</td><td>6.8</td><td>6.0</td><td>7.1</td><td>414.0</td><td>7.3</td><td>1384.0</td><td>7.3</td><td>976.0</td><td>7.2</td><td>670.0</td><td>4.0</td><td>1.0</td><td>6.9</td><td>98.0</td><td>7.1</td><td>256.0</td><td>7.7</td><td>306.0</td><td>6.8</td><td>204.0</td><td>7.5</td><td>1350.0</td><td>7.2</td><td>1945.0</td><td>1742945999</td></tr><tr><td>tt0006864</td><td>7.8</td><td>13875</td><td>7</td><td>8.0</td><td>3477</td><td>2230</td><td>3214</td><td>2249</td><td>1179</td><td>605</td><td>340</td><td>181</td><td>133</td><td>267</td><td>7.9</td><td>8.0</td><td>7.8</td><td>1795.0</td><td>7.7</td><td>5451.0</td><td>7.8</td><td>3667.0</td><td>7.8</td><td>9441.0</td><td>8.0</td><td>7.0</td><td>7.9</td><td>1498.0</td><td>7.7</td><td>4734.0</td><td>7.8</td><td>2970.0</td><td>7.5</td><td>1632.0</td><td>7.0</td><td>1.0</td><td>7.2</td><td>276.0</td><td>7.4</td><td>660.0</td><td>8.0</td><td>662.0</td><td>7.5</td><td>321.0</td><td>7.7</td><td>4286.0</td><td>7.8</td><td>5954.0</td><td>1742945999</td></tr><tr><td>tt0009611</td><td>7.3</td><td>5895</td><td>6</td><td>7.0</td><td>552</td><td>564</td><td>1303</td><td>1742</td><td>724</td><td>228</td><td>69</td><td>35</td><td>22</td><td>656</td><td>5.0</td><td>4.0</td><td>7.3</td><td>833.0</td><td>7.3</td><td>2162.0</td><td>7.3</td><td>1730.0</td><td>7.3</td><td>4074.0</td><td>4.7</td><td>3.0</td><td>7.3</td><td>729.0</td><td>7.3</td><td>1888.0</td><td>7.3</td><td>1340.0</td><td>7.4</td><td>746.0</td><td>6.0</td><td>1.0</td><td>7.4</td><td>96.0</td><td>7.3</td><td>257.0</td><td>7.6</td><td>380.0</td><td>6.8</td><td>283.0</td><td>7.3</td><td>1734.0</td><td>7.3</td><td>2694.0</td><td>1742945999</td></tr><tr><td>tt0010323</td><td>8.1</td><td>55601</td><td>7</td><td>8.0</td><td>11426</td><td>11262</td><td>15971</td><td>8883</td><td>3517</td><td>1562</td><td>725</td><td>483</td><td>348</td><td>1424</td><td>8.5</td><td>47.0</td><td>8.1</td><td>10734.0</td><td>8.1</td><td>23386.0</td><td>8.0</td><td>8271.0</td><td>8.1</td><td>35834.0</td><td>8.5</td><td>38.0</td><td>8.1</td><td>8304.0</td><td>8.0</td><td>19321.0</td><td>8.0</td><td>6821.0</td><td>8.1</td><td>7660.0</td><td>8.8</td><td>7.0</td><td>8.1</td><td>2236.0</td><td>8.2</td><td>3807.0</td><td>8.1</td><td>1341.0</td><td>7.5</td><td>559.0</td><td>8.0</td><td>13136.0</td><td>8.1</td><td>25399.0</td><td>1742945999</td></tr><tr><td>tt0011130</td><td>7.0</td><td>4753</td><td>7</td><td>7.0</td><td>393</td><td>335</td><td>965</td><td>1666</td><td>816</td><td>326</td><td>107</td><td>54</td><td>35</td><td>56</td><td>7.0</td><td>4.0</td><td>6.9</td><td>546.0</td><td>7.0</td><td>1830.0</td><td>7.0</td><td>1428.0</td><td>7.0</td><td>3253.0</td><td>6.0</td><td>3.0</td><td>6.9</td><td>415.0</td><td>6.9</td><td>1541.0</td><td>7.0</td><td>1207.0</td><td>7.2</td><td>606.0</td><td>10.0</td><td>1.0</td><td>6.8</td><td>128.0</td><td>7.3</td><td>269.0</td><td>7.2</td><td>202.0</td><td>6.9</td><td>239.0</td><td>7.1</td><td>1733.0</td><td>6.9</td><td>1815.0</td><td>1742945999</td></tr></tbody></table></div>"
      ]
     },
     "metadata": {
      "application/vnd.databricks.v1+output": {
       "addedWidgets": {},
       "aggData": [],
       "aggError": "",
       "aggOverflow": false,
       "aggSchema": [],
       "aggSeriesLimitReached": false,
       "aggType": "",
       "arguments": {},
       "columnCustomDisplayInfos": {},
       "data": [
        [
         "tt0000009",
         5.9,
         154,
         5,
         6.0,
         12,
         4,
         10,
         43,
         28,
         28,
         9,
         1,
         5,
         14,
         7.2,
         4.0,
         6.0,
         38.0,
         5.7,
         50.0,
         6.6,
         35.0,
         6.2,
         97.0,
         7.0,
         1.0,
         5.9,
         24.0,
         5.6,
         36.0,
         6.7,
         31.0,
         6.0,
         35.0,
         7.3,
         3.0,
         5.9,
         14.0,
         5.7,
         13.0,
         4.5,
         4.0,
         5.7,
         34.0,
         6.4,
         51.0,
         6.0,
         70.0,
         1742945999
        ],
        [
         "tt0002130",
         7.0,
         2237,
         6,
         7.0,
         210,
         225,
         436,
         641,
         344,
         169,
         66,
         39,
         20,
         87,
         7.5,
         4.0,
         7.0,
         402.0,
         7.0,
         895.0,
         7.1,
         482.0,
         7.0,
         1607.0,
         8.0,
         2.0,
         7.0,
         346.0,
         7.0,
         804.0,
         7.0,
         396.0,
         7.2,
         215.0,
         7.0,
         2.0,
         7.0,
         52.0,
         7.3,
         82.0,
         7.4,
         77.0,
         6.9,
         139.0,
         7.0,
         488.0,
         7.0,
         1166.0,
         1742945999
        ],
        [
         "tt0003740",
         7.1,
         3073,
         6,
         7.0,
         285,
         301,
         591,
         727,
         443,
         199,
         85,
         27,
         18,
         397,
         6.0,
         3.0,
         7.0,
         393.0,
         7.0,
         1126.0,
         7.2,
         1006.0,
         7.1,
         2149.0,
         6.0,
         2.0,
         7.0,
         323.0,
         7.0,
         976.0,
         7.3,
         799.0,
         6.9,
         402.0,
         6.0,
         1.0,
         6.8,
         67.0,
         6.9,
         134.0,
         6.8,
         194.0,
         6.9,
         177.0,
         7.0,
         1035.0,
         7.0,
         1332.0,
         1742945999
        ],
        [
         "tt0004972",
         6.3,
         22213,
         6,
         7.0,
         3661,
         1741,
         3314,
         3963,
         2876,
         1928,
         978,
         701,
         577,
         2474,
         4.7,
         14.0,
         6.0,
         3183.0,
         6.3,
         8861.0,
         6.7,
         4901.0,
         6.4,
         14818.0,
         4.7,
         12.0,
         6.1,
         2623.0,
         6.4,
         7669.0,
         6.8,
         4104.0,
         5.7,
         2417.0,
         6.0,
         1.0,
         5.4,
         517.0,
         5.8,
         1106.0,
         5.9,
         725.0,
         6.5,
         355.0,
         6.3,
         7452.0,
         6.4,
         8306.0,
         1742945999
        ],
        [
         "tt0005680",
         5.9,
         130,
         5,
         6.0,
         4,
         3,
         8,
         20,
         52,
         27,
         8,
         5,
         2,
         1,
         5.0,
         3.0,
         5.8,
         19.0,
         5.9,
         44.0,
         5.9,
         50.0,
         5.9,
         102.0,
         5.0,
         2.0,
         5.8,
         16.0,
         5.8,
         40.0,
         6.0,
         43.0,
         5.9,
         12.0,
         5.0,
         1.0,
         5.5,
         2.0,
         6.5,
         4.0,
         6.2,
         5.0,
         5.7,
         50.0,
         5.9,
         26.0,
         5.8,
         87.0,
         1742945999
        ],
        [
         "tt0006206",
         7.3,
         4166,
         6,
         7.0,
         620,
         439,
         763,
         872,
         484,
         232,
         140,
         40,
         31,
         545,
         6.5,
         7.0,
         7.1,
         517.0,
         7.3,
         1661.0,
         7.3,
         1294.0,
         7.3,
         2835.0,
         6.8,
         6.0,
         7.1,
         414.0,
         7.3,
         1384.0,
         7.3,
         976.0,
         7.2,
         670.0,
         4.0,
         1.0,
         6.9,
         98.0,
         7.1,
         256.0,
         7.7,
         306.0,
         6.8,
         204.0,
         7.5,
         1350.0,
         7.2,
         1945.0,
         1742945999
        ],
        [
         "tt0006864",
         7.8,
         13875,
         7,
         8.0,
         3477,
         2230,
         3214,
         2249,
         1179,
         605,
         340,
         181,
         133,
         267,
         7.9,
         8.0,
         7.8,
         1795.0,
         7.7,
         5451.0,
         7.8,
         3667.0,
         7.8,
         9441.0,
         8.0,
         7.0,
         7.9,
         1498.0,
         7.7,
         4734.0,
         7.8,
         2970.0,
         7.5,
         1632.0,
         7.0,
         1.0,
         7.2,
         276.0,
         7.4,
         660.0,
         8.0,
         662.0,
         7.5,
         321.0,
         7.7,
         4286.0,
         7.8,
         5954.0,
         1742945999
        ],
        [
         "tt0009611",
         7.3,
         5895,
         6,
         7.0,
         552,
         564,
         1303,
         1742,
         724,
         228,
         69,
         35,
         22,
         656,
         5.0,
         4.0,
         7.3,
         833.0,
         7.3,
         2162.0,
         7.3,
         1730.0,
         7.3,
         4074.0,
         4.7,
         3.0,
         7.3,
         729.0,
         7.3,
         1888.0,
         7.3,
         1340.0,
         7.4,
         746.0,
         6.0,
         1.0,
         7.4,
         96.0,
         7.3,
         257.0,
         7.6,
         380.0,
         6.8,
         283.0,
         7.3,
         1734.0,
         7.3,
         2694.0,
         1742945999
        ],
        [
         "tt0010323",
         8.1,
         55601,
         7,
         8.0,
         11426,
         11262,
         15971,
         8883,
         3517,
         1562,
         725,
         483,
         348,
         1424,
         8.5,
         47.0,
         8.1,
         10734.0,
         8.1,
         23386.0,
         8.0,
         8271.0,
         8.1,
         35834.0,
         8.5,
         38.0,
         8.1,
         8304.0,
         8.0,
         19321.0,
         8.0,
         6821.0,
         8.1,
         7660.0,
         8.8,
         7.0,
         8.1,
         2236.0,
         8.2,
         3807.0,
         8.1,
         1341.0,
         7.5,
         559.0,
         8.0,
         13136.0,
         8.1,
         25399.0,
         1742945999
        ],
        [
         "tt0011130",
         7.0,
         4753,
         7,
         7.0,
         393,
         335,
         965,
         1666,
         816,
         326,
         107,
         54,
         35,
         56,
         7.0,
         4.0,
         6.9,
         546.0,
         7.0,
         1830.0,
         7.0,
         1428.0,
         7.0,
         3253.0,
         6.0,
         3.0,
         6.9,
         415.0,
         6.9,
         1541.0,
         7.0,
         1207.0,
         7.2,
         606.0,
         10.0,
         1.0,
         6.8,
         128.0,
         7.3,
         269.0,
         7.2,
         202.0,
         6.9,
         239.0,
         7.1,
         1733.0,
         6.9,
         1815.0,
         1742945999
        ]
       ],
       "datasetInfos": [],
       "dbfsResultPath": null,
       "isJsonSchema": true,
       "metadata": {},
       "overflow": false,
       "plotOptions": {
        "customPlotOptions": {},
        "displayType": "table",
        "pivotAggregation": null,
        "pivotColumns": null,
        "xColumns": null,
        "yColumns": null
       },
       "removedWidgets": [],
       "schema": [
        {
         "metadata": "{}",
         "name": "imdb_title_id",
         "type": "\"string\""
        },
        {
         "metadata": "{}",
         "name": "weighted_average_vote",
         "type": "\"double\""
        },
        {
         "metadata": "{}",
         "name": "total_votes",
         "type": "\"integer\""
        },
        {
         "metadata": "{}",
         "name": "mean_vote",
         "type": "\"long\""
        },
        {
         "metadata": "{}",
         "name": "median_vote",
         "type": "\"double\""
        },
        {
         "metadata": "{}",
         "name": "votes_10",
         "type": "\"integer\""
        },
        {
         "metadata": "{}",
         "name": "votes_9",
         "type": "\"integer\""
        },
        {
         "metadata": "{}",
         "name": "votes_8",
         "type": "\"integer\""
        },
        {
         "metadata": "{}",
         "name": "votes_7",
         "type": "\"integer\""
        },
        {
         "metadata": "{}",
         "name": "votes_6",
         "type": "\"integer\""
        },
        {
         "metadata": "{}",
         "name": "votes_5",
         "type": "\"integer\""
        },
        {
         "metadata": "{}",
         "name": "votes_4",
         "type": "\"integer\""
        },
        {
         "metadata": "{}",
         "name": "votes_3",
         "type": "\"integer\""
        },
        {
         "metadata": "{}",
         "name": "votes_2",
         "type": "\"integer\""
        },
        {
         "metadata": "{}",
         "name": "votes_1",
         "type": "\"integer\""
        },
        {
         "metadata": "{}",
         "name": "allgenders_0age_avg_vote",
         "type": "\"double\""
        },
        {
         "metadata": "{}",
         "name": "allgenders_0age_votes",
         "type": "\"double\""
        },
        {
         "metadata": "{}",
         "name": "allgenders_18age_avg_vote",
         "type": "\"double\""
        },
        {
         "metadata": "{}",
         "name": "allgenders_18age_votes",
         "type": "\"double\""
        },
        {
         "metadata": "{}",
         "name": "allgenders_30age_avg_vote",
         "type": "\"double\""
        },
        {
         "metadata": "{}",
         "name": "allgenders_30age_votes",
         "type": "\"double\""
        },
        {
         "metadata": "{}",
         "name": "allgenders_45age_avg_vote",
         "type": "\"double\""
        },
        {
         "metadata": "{}",
         "name": "allgenders_45age_votes",
         "type": "\"double\""
        },
        {
         "metadata": "{}",
         "name": "males_allages_avg_vote",
         "type": "\"double\""
        },
        {
         "metadata": "{}",
         "name": "males_allages_votes",
         "type": "\"double\""
        },
        {
         "metadata": "{}",
         "name": "males_0age_avg_vote",
         "type": "\"double\""
        },
        {
         "metadata": "{}",
         "name": "males_0age_votes",
         "type": "\"double\""
        },
        {
         "metadata": "{}",
         "name": "males_18age_avg_vote",
         "type": "\"double\""
        },
        {
         "metadata": "{}",
         "name": "males_18age_votes",
         "type": "\"double\""
        },
        {
         "metadata": "{}",
         "name": "males_30age_avg_vote",
         "type": "\"double\""
        },
        {
         "metadata": "{}",
         "name": "males_30age_votes",
         "type": "\"double\""
        },
        {
         "metadata": "{}",
         "name": "males_45age_avg_vote",
         "type": "\"double\""
        },
        {
         "metadata": "{}",
         "name": "males_45age_votes",
         "type": "\"double\""
        },
        {
         "metadata": "{}",
         "name": "females_allages_avg_vote",
         "type": "\"double\""
        },
        {
         "metadata": "{}",
         "name": "females_allages_votes",
         "type": "\"double\""
        },
        {
         "metadata": "{}",
         "name": "females_0age_avg_vote",
         "type": "\"double\""
        },
        {
         "metadata": "{}",
         "name": "females_0age_votes",
         "type": "\"double\""
        },
        {
         "metadata": "{}",
         "name": "females_18age_avg_vote",
         "type": "\"double\""
        },
        {
         "metadata": "{}",
         "name": "females_18age_votes",
         "type": "\"double\""
        },
        {
         "metadata": "{}",
         "name": "females_30age_avg_vote",
         "type": "\"double\""
        },
        {
         "metadata": "{}",
         "name": "females_30age_votes",
         "type": "\"double\""
        },
        {
         "metadata": "{}",
         "name": "females_45age_avg_vote",
         "type": "\"double\""
        },
        {
         "metadata": "{}",
         "name": "females_45age_votes",
         "type": "\"double\""
        },
        {
         "metadata": "{}",
         "name": "top1000_voters_rating",
         "type": "\"double\""
        },
        {
         "metadata": "{}",
         "name": "top1000_voters_votes",
         "type": "\"double\""
        },
        {
         "metadata": "{}",
         "name": "us_voters_rating",
         "type": "\"double\""
        },
        {
         "metadata": "{}",
         "name": "us_voters_votes",
         "type": "\"double\""
        },
        {
         "metadata": "{}",
         "name": "non_us_voters_rating",
         "type": "\"double\""
        },
        {
         "metadata": "{}",
         "name": "non_us_voters_votes",
         "type": "\"double\""
        },
        {
         "metadata": "{}",
         "name": "Time",
         "type": "\"long\""
        }
       ],
       "type": "table"
      }
     },
     "output_type": "display_data"
    }
   ],
   "source": [
    "from pyspark.sql.functions import *\n",
    "\n",
    "filePath = \"dbfs:/FileStore/tables/Files/ratings.csv\"\n",
    "ratingsDf = spark.read.format(\"csv\")\\\n",
    "              .option(\"header\",\"true\")\\\n",
    "              .option(\"inferSchema\",\"true\")\\\n",
    "              .load(filePath)\n",
    "\n",
    "# Dodaj kolumnę z wartością czasu wykonania notatnika w formacie epoch\n",
    "ratingsDf = ratingsDf.withColumn(\"Time\", unix_timestamp())\n",
    "\n",
    "# Dla każdego z poniższych wyliczeń nie bierz pod uwagę nulls\n",
    "ratingsDf = ratingsDf.dropna()\n",
    "\n",
    "# Dla jednej z kolumn zmień typ danych do long\n",
    "ratingsDf = ratingsDf.withColumn(\"mean_vote\", col(\"mean_vote\").cast(\"long\"))\n",
    "\n",
    "# Oblicz średnie oceny dla mężczyzn i kobiet\n",
    "avg_male_rating = ratingsDf.select(avg(\"males_allages_avg_vote\")).collect()[0][0]\n",
    "avg_female_rating = ratingsDf.select(avg(\"females_allages_avg_vote\")).collect()[0][0]\n",
    "\n",
    "# Sprawdzenie, kto daje lepsze oceny\n",
    "gender = \"mężczyźni\" if avg_male_rating > avg_female_rating else \"kobiety\"\n",
    "print(f\"Lepsze oceny wystawiają: {gender}\")\n",
    "\n",
    "display(ratingsDf.limit(10))"
   ]
  },
  {
   "cell_type": "markdown",
   "metadata": {
    "application/vnd.databricks.v1+cell": {
     "cellMetadata": {},
     "inputWidgets": {},
     "nuid": "2b037402-11a6-4518-b729-186074d0059b",
     "showTitle": false,
     "tableResultSettingsMap": {},
     "title": ""
    }
   },
   "source": [
    "# Zadanie 2"
   ]
  },
  {
   "cell_type": "markdown",
   "metadata": {
    "application/vnd.databricks.v1+cell": {
     "cellMetadata": {},
     "inputWidgets": {},
     "nuid": "6717eddd-9b49-40e0-a7d9-609a6903bc75",
     "showTitle": false,
     "tableResultSettingsMap": {},
     "title": ""
    }
   },
   "source": [
    "Spark UI to interfejs użytkownika dostępny w Apache Spark, który pozwala monitorować wykonywane zadania, optymalizować zapytania oraz analizować zużycie zasobów. Główne elementy Spark UI to:\n",
    "\n",
    "- Jobs – pokazuje listę uruchomionych zadań (jobs), ich status oraz czas wykonania. Możemy tutaj zobaczyć, które zadania są w toku, zakończone lub niepowodzone.\n",
    "- Stages – przedstawia etapy przetwarzania (stages) w ramach danego zadania. Pokazuje, które partycje danych są przetwarzane oraz jak Spark podzielił zapytanie na mniejsze kroki.\n",
    "- Storage – zawiera informacje o przechowywanych zbiorach RDD i DataFrame w pamięci oraz na dysku, co pomaga w analizie zarządzania pamięcią.\n",
    "- Environment – przedstawia konfigurację systemową Sparka, w tym wersję Javy, wersję Sparka oraz zmienne środowiskowe.\n",
    "- Executors – wyświetla szczegółowe informacje o wykonawcach (executors), ich pamięci, liczbie zadań oraz wykorzystaniu CPU.\n",
    "- SQL / Dataframe – pozwala przeanalizować zapytania SQL i operacje na DataFrame, w tym ich plany wykonania oraz optymalizacje."
   ]
  },
  {
   "cell_type": "markdown",
   "metadata": {
    "application/vnd.databricks.v1+cell": {
     "cellMetadata": {},
     "inputWidgets": {},
     "nuid": "1f7290ec-d060-4871-ade8-e3c19015c154",
     "showTitle": false,
     "tableResultSettingsMap": {},
     "title": ""
    }
   },
   "source": [
    "# Zadanie 3"
   ]
  },
  {
   "cell_type": "code",
   "execution_count": 0,
   "metadata": {
    "application/vnd.databricks.v1+cell": {
     "cellMetadata": {
      "byteLimit": 2048000,
      "rowLimit": 10000
     },
     "inputWidgets": {},
     "nuid": "74bc42fb-6ea6-495e-a6d3-3edf6bc87235",
     "showTitle": false,
     "tableResultSettingsMap": {},
     "title": ""
    }
   },
   "outputs": [
    {
     "output_type": "stream",
     "name": "stdout",
     "output_type": "stream",
     "text": [
      "== Physical Plan ==\n*(1) Project [imdb_name_id#628, name#629, birth_name#630, height#631, bio#632, birth_details#633, date_of_birth#634, place_of_birth#635, death_details#636, date_of_death#637, place_of_death#638, reason_of_death#639, spouses_string#640, spouses#641, divorces#642, spouses_with_children#643, children#644, round((cast(height#631 as double) / 30.48), 2) AS height_in_feet#662]\n+- FileScan csv [imdb_name_id#628,name#629,birth_name#630,height#631,bio#632,birth_details#633,date_of_birth#634,place_of_birth#635,death_details#636,date_of_death#637,place_of_death#638,reason_of_death#639,spouses_string#640,spouses#641,divorces#642,spouses_with_children#643,children#644] Batched: false, DataFilters: [], Format: CSV, Location: InMemoryFileIndex(1 paths)[dbfs:/FileStore/tables/Files/names.csv], PartitionFilters: [], PushedFilters: [], ReadSchema: struct<imdb_name_id:string,name:string,birth_name:string,height:int,bio:string,birth_details:stri...\n\n\n== Physical Plan ==\nAdaptiveSparkPlan isFinalPlan=false\n+- HashAggregate(keys=[divorces#642], functions=[finalmerge_count(merge count#705L) AS count(1)#700L])\n   +- Exchange hashpartitioning(divorces#642, 200), ENSURE_REQUIREMENTS, [plan_id=316]\n      +- HashAggregate(keys=[divorces#642], functions=[partial_count(1) AS count#705L])\n         +- FileScan csv [divorces#642] Batched: false, DataFilters: [], Format: CSV, Location: InMemoryFileIndex(1 paths)[dbfs:/FileStore/tables/Files/names.csv], PartitionFilters: [], PushedFilters: [], ReadSchema: struct<divorces:int>\n\n\n+--------+-----+\n|divorces|count|\n+--------+-----+\n|      12|    1|\n|       1| 7343|\n|       6|   16|\n|       3|  526|\n|       5|   24|\n|       4|  149|\n|       8|    3|\n|       2| 1944|\n|       0|65409|\n|       9|    1|\n|       7|    3|\n+--------+-----+\n\n"
     ]
    }
   ],
   "source": [
    "from pyspark.sql.functions import col, round\n",
    "\n",
    "filePath = \"dbfs:/FileStore/tables/Files/names.csv\"\n",
    "namesDf = spark.read.format(\"csv\").option(\"header\", \"true\")\\\n",
    "                    .option(\"inferSchema\", \"true\")\\\n",
    "                    .load(filePath)\n",
    "\n",
    "namesDf = namesDf.withColumn(\"height_in_feet\", round(col(\"height\") / 30.48, 2))\n",
    "\n",
    "namesDf.explain()\n",
    "\n",
    "namesGroup = namesDf.groupBy(\"divorces\").count()\n",
    "\n",
    "namesGroup.explain()\n",
    "\n",
    "namesGroup.show()"
   ]
  },
  {
   "cell_type": "code",
   "execution_count": 0,
   "metadata": {
    "application/vnd.databricks.v1+cell": {
     "cellMetadata": {},
     "inputWidgets": {},
     "nuid": "1e8982ee-1c9b-491b-a850-688d7e292dcf",
     "showTitle": false,
     "tableResultSettingsMap": {},
     "title": ""
    }
   },
   "outputs": [],
   "source": []
  }
 ],
 "metadata": {
  "application/vnd.databricks.v1+notebook": {
   "computePreferences": null,
   "dashboards": [],
   "environmentMetadata": null,
   "language": "python",
   "notebookMetadata": {
    "pythonIndentUnit": 2
   },
   "notebookName": "Cwiczenia 3",
   "widgets": {}
  }
 },
 "nbformat": 4,
 "nbformat_minor": 0
}
